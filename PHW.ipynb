{
 "cells": [
  {
   "cell_type": "markdown",
   "metadata": {
    "id": "C8jh_vQxIDTh"
   },
   "source": [
    "<div dir=\"rtl\" class=\"alert alert-block alert-info\"> <font size=\"5\" face=\"HM XNiloofar\"> \n",
    "<b> روش‌های ریاضی در مهندسی - دکتر امینی: تمرین شبیه‌سازی </b>\n",
    "</font> </div>\n",
    "\n",
    "<div dir=\"rtl\"> <font size=\"4\" face=\"HM XNiloofar\"> \n",
    "<br />\n",
    "مهلت تحویل تمرین: ۶ مرداد ۱۴۰۱ <br />\n",
    "فقط قسمت‌های <code>TODO</code> را پر کنید و  Jupyter Notebook تکمیل شده را به فرمت <code>ipynb</code> و <code>html</code> به عنوان گزارش خود در CW آپلود کنید. <br />\n",
    "ابهامات و سوالات خود در مورد این تمرین را می توانید با طراح تمرین مطرح کنید. <br />\n",
    "<div dir=\"ltr\">@hamidreza_ehteram </div> <br />  \n",
    "در این تمرین شما با روش‌های عددی در تجزیه‌های ماتریسی و یادگیری واژه‌نامه به منظور نویززدایی تصاویر  آشنا می‌شوید. <br />\n",
    "</font> </div>"
   ]
  },
  {
   "cell_type": "markdown",
   "metadata": {
    "id": "lGO8ZgsiIDT6"
   },
   "source": [
    "***You can jump directly to these sections:***\n",
    "\n",
    "+ [A. Matrix Decompositions](#A.-Matrix-Decompositions)\n",
    "    + [1. Schur](#1.-Schur)\n",
    "    + [2. SVD](#2.-SVD)\n",
    "    + [3. Cholesky](#3.-Cholesky)\n",
    "    + [4. QR](#4.-QR)\n",
    "+ [B. Dictionary Learning](#B.-Dictionary-Learning)\n",
    "    + [1. Create dataset](#1.-Create-dataset)\n",
    "    + [2. Initialize dictionary](#2.-Initialize-dictionary)    \n",
    "    + [3. Learn dictionary](#3.-Learn-dictionary) \n",
    "    + [4. Reconstruct image](#4.-Reconstruct-image)     \n",
    "    + [5. Evaluation](#5.-Evaluation)     \n",
    "+ [Give Us Feedback](#Give-Us-Feedback)\n",
    "\n",
    "---"
   ]
  },
  {
   "cell_type": "markdown",
   "metadata": {
    "id": "2pRsfADvIDT-"
   },
   "source": [
    "# A. Matrix Decompositions"
   ]
  },
  {
   "cell_type": "code",
   "execution_count": 52,
   "metadata": {
    "executionInfo": {
     "elapsed": 166,
     "status": "ok",
     "timestamp": 1659336089758,
     "user": {
      "displayName": "milad heidari",
      "userId": "01780670972758435893"
     },
     "user_tz": -270
    },
    "id": "FjhROSbDIDUB"
   },
   "outputs": [],
   "source": [
    "# The allowed libraries\n",
    "import time\n",
    "import numpy as np"
   ]
  },
  {
   "cell_type": "markdown",
   "metadata": {
    "id": "DSbXHDIkIDUG"
   },
   "source": [
    "## 1. Schur\n",
    "\n",
    "\n",
    "$$A \\in \\mathbb{R}^{n\\times n} \\text{ is a symmetric matrix} \\iff \\exists \\text{ an orthogonal matrix } Q: Q^\\top A Q = \\Lambda = \\text{diag}(\\lambda_1,\\ldots,\\lambda_n)$$"
   ]
  },
  {
   "cell_type": "markdown",
   "metadata": {
    "id": "Wc898eBvIDUH"
   },
   "source": [
    "<div dir=\"rtl\"> <font size=\"4\" face=\"HM XNiloofar\">\n",
    "الگوریتم jacobi را در حالت  cyclic پیاده‌سازی کنید.\n",
    "</font> </div>\n",
    "\n",
    "```python\n",
    "d, Q = my_schur(A)\n",
    "```\n",
    "\n",
    "<div dir=\"rtl\"> <font size=\"4\" face=\"HM XNiloofar\"> \n",
    "ورودی یک ماتریس متقارن حقیقی دلخواه و خروجی مقادیر ویژه و بردار‌های ویژه متناظر در تجزیه schur است. \n",
    "<br />\n",
    "Cell مربوط به ارزیابی کد را اجرا کنید. خروجی الگوریتم خود را با خروجی تابع numpy مقایسه کنید. درباره‌ی تفاوت‌ها توضیح دهید.\n",
    "<br />\n",
    "Cell تست زمان و صحت را جهت ارزیابی کارایی الگوریتم خود اجرا کنید.\n",
    "</font> </div>"
   ]
  },
  {
   "cell_type": "code",
   "execution_count": 2,
   "metadata": {
    "executionInfo": {
     "elapsed": 157,
     "status": "ok",
     "timestamp": 1659336089761,
     "user": {
      "displayName": "milad heidari",
      "userId": "01780670972758435893"
     },
     "user_tz": -270
    },
    "id": "ZNywWejaIDUJ"
   },
   "outputs": [],
   "source": [
    "def off_diag(A):\n",
    "    result = np.linalg.norm(A)**2 - np.linalg.norm(np.diag(A))**2\n",
    "    if result < 0:\n",
    "        return 0\n",
    "    return np.sqrt(result)\n",
    "\n",
    "def my_schur(A):\n",
    "    \n",
    "    n = A.shape[0]\n",
    "    Q = np.eye(n, n)\n",
    "    tol = 1e-6\n",
    "    delta = tol * np.linalg.norm(A)\n",
    "    \n",
    "    while off_diag(A) > delta:\n",
    "        for p in range(n):\n",
    "            for q in range(p+1, n):\n",
    "                theta = 0.5 * np.arctan(2*A[p, q]/(A[q, q] - A[p, p]))\n",
    "                J_theta = np.array([[np.cos(theta), np.sin(theta)], [-np.sin(theta), np.cos(theta)]])\n",
    "                A[[p, q], :] = J_theta.T @ A[[p, q], :]\n",
    "                A[:, [p, q]] = A[:, [p, q]] @ J_theta\n",
    "                Q[:, [p, q]] = Q[:, [p, q]] @ J_theta\n",
    "                \n",
    "    d = np.diag(A)\n",
    "    return d, Q"
   ]
  },
  {
   "cell_type": "code",
   "execution_count": 3,
   "metadata": {
    "colab": {
     "base_uri": "https://localhost:8080/"
    },
    "executionInfo": {
     "elapsed": 154,
     "status": "ok",
     "timestamp": 1659336089763,
     "user": {
      "displayName": "milad heidari",
      "userId": "01780670972758435893"
     },
     "user_tz": -270
    },
    "id": "YdrVAOhtIDUK",
    "outputId": "9d3d1e93-eae8-4b9b-8955-c1fb75baecd5"
   },
   "outputs": [
    {
     "name": "stdout",
     "output_type": "stream",
     "text": [
      "numpy| orthogonal test error ---> 2.814153204030541e-15\n",
      "numpy| correctness test error ---> 5.042510241421448e-15\n",
      "yours| orthogonal test error ---> 2.0104975514487824e-15\n",
      "yours| correctness test error ---> 7.946089863039596e-12\n",
      "A = \n",
      "[[-8.400e-01 -2.130e-01 -3.060e-01  9.600e-02 -9.960e-01 -2.720e-01\n",
      "  -2.570e-01  5.000e-02]\n",
      " [-2.130e-01 -1.080e-01  9.420e-01 -1.000e-03 -4.800e-01 -7.230e-01\n",
      "  -7.260e-01  1.280e-01]\n",
      " [-3.060e-01  9.420e-01  1.150e-01  1.920e-01 -3.420e-01  4.000e-01\n",
      "  -7.540e-01  7.710e-01]\n",
      " [ 9.600e-02 -1.000e-03  1.920e-01  7.390e-01 -8.290e-01 -6.570e-01\n",
      "  -1.830e-01  5.100e-02]\n",
      " [-9.960e-01 -4.800e-01 -3.420e-01 -8.290e-01 -1.800e-02 -6.760e-01\n",
      "   1.620e+00  2.680e-01]\n",
      " [-2.720e-01 -7.230e-01  4.000e-01 -6.570e-01 -6.760e-01  2.620e-01\n",
      "  -1.083e+00  6.510e-01]\n",
      " [-2.570e-01 -7.260e-01 -7.540e-01 -1.830e-01  1.620e+00 -1.083e+00\n",
      "  -3.230e-01 -3.670e-01]\n",
      " [ 5.000e-02  1.280e-01  7.710e-01  5.100e-02  2.680e-01  6.510e-01\n",
      "  -3.670e-01  4.780e-01]]\n",
      "d = \n",
      "[ 3.02  -2.236 -1.999 -1.185 -0.411  1.629  1.056  0.431]\n",
      "my_d = \n",
      "[-2.236 -1.185  3.02   1.629 -0.411  1.056 -1.999  0.431]\n",
      "Q = \n",
      "[[ 0.107 -0.51   0.125 -0.442 -0.639  0.195  0.266  0.016]\n",
      " [ 0.249 -0.242  0.433  0.404 -0.125  0.173 -0.496 -0.486]\n",
      " [ 0.396  0.022 -0.052 -0.709  0.286 -0.126 -0.485 -0.067]\n",
      " [ 0.176 -0.226  0.087  0.112  0.315  0.633 -0.104  0.623]\n",
      " [-0.512 -0.661 -0.235  0.046  0.128 -0.302 -0.352  0.114]\n",
      " [ 0.339 -0.31   0.463  0.089  0.345 -0.518  0.404  0.129]\n",
      " [-0.547  0.248  0.719 -0.274 -0.011  0.01  -0.144  0.164]\n",
      " [ 0.25   0.192 -0.     0.205 -0.508 -0.395 -0.36   0.561]]\n",
      "my_Q = \n",
      "[[ 0.51  -0.442  0.107  0.195 -0.639  0.266  0.125  0.016]\n",
      " [ 0.242  0.404  0.249  0.173 -0.125 -0.496  0.433 -0.486]\n",
      " [-0.022 -0.709  0.396 -0.126  0.286 -0.485 -0.052 -0.067]\n",
      " [ 0.226  0.112  0.176  0.633  0.315 -0.104  0.087  0.623]\n",
      " [ 0.661  0.046 -0.512 -0.302  0.128 -0.352 -0.235  0.114]\n",
      " [ 0.31   0.089  0.339 -0.518  0.345  0.404  0.463  0.129]\n",
      " [-0.248 -0.274 -0.547  0.01  -0.011 -0.144  0.719  0.164]\n",
      " [-0.192  0.205  0.25  -0.395 -0.508 -0.36  -0.     0.561]]\n"
     ]
    }
   ],
   "source": [
    "# evaluate\n",
    "n = 8\n",
    "A = np.random.randn(n,n)\n",
    "A = (A + A.transpose()) / 2\n",
    "\n",
    "# numpy code\n",
    "d, Q = np.linalg.eig(A.copy())\n",
    "print(f'numpy| orthogonal test error ---> {np.linalg.norm(np.eye(n) - Q @ Q.T)}')\n",
    "print(f'numpy| correctness test error ---> {np.linalg.norm(A - Q @ np.diag(d) @ Q.T)}')\n",
    "\n",
    "# your code\n",
    "my_d, my_Q = my_schur(A.copy())\n",
    "print(f'yours| orthogonal test error ---> {np.linalg.norm(np.eye(n) - my_Q @ my_Q.T)}')\n",
    "print(f'yours| correctness test error ---> {np.linalg.norm(A - my_Q @ np.diag(my_d) @ my_Q.T)}')\n",
    "\n",
    "# print\n",
    "print(f'A = \\n{np.around(A, 3)}')\n",
    "print(f'd = \\n{np.around(d, 3)}')\n",
    "print(f'my_d = \\n{np.around(my_d, 3)}')\n",
    "print(f'Q = \\n{np.around(Q, 3)}')\n",
    "print(f'my_Q = \\n{np.around(my_Q, 3)}')"
   ]
  },
  {
   "cell_type": "markdown",
   "metadata": {
    "id": "weyHxIvoIDUO"
   },
   "source": [
    "**Your answer:** \n",
    "\n",
    "<div dir=\"rtl\"> <font size=\"3\" face=\"HM XNiloofar\"> \n",
    "همانطور که می دانیم ماتریس Q شامل بردار های ویژه و ماتریس A شامل مقادیر ویژه ماتریس ورودی هستند.\n",
    "<br/>\n",
    "تفاوت جواب الگوریتم ما با numpy فقط در ترتیب ستون ها و مقادیر ویژه است.از نظر زمانی هم numpy سریع تر است. \n",
    "</font> </div>"
   ]
  },
  {
   "cell_type": "code",
   "execution_count": 5,
   "metadata": {
    "executionInfo": {
     "elapsed": 132,
     "status": "ok",
     "timestamp": 1659336089764,
     "user": {
      "displayName": "milad heidari",
      "userId": "01780670972758435893"
     },
     "user_tz": -270
    },
    "id": "RuNvFxKtIDUQ"
   },
   "outputs": [
    {
     "name": "stdout",
     "output_type": "stream",
     "text": [
      "numpy| test ---> {'time': 0.0005097913742065429, 'orthogonal test error': 3.8986920525847156e-14, 'correctness test error': 2.0377125791130913e-13}\n",
      "yours| test ---> {'time': 0.13956086635589598, 'orthogonal test error': 1.1568475250877054e-14, 'correctness test error': 4.880567472316956e-06}\n",
      "yours| check ---> {'time': True, 'orthogonal test error': True, 'correctness test error': True}\n"
     ]
    }
   ],
   "source": [
    "# time and correctness test\n",
    "numpy_test = {'time': 0.0, 'orthogonal test error':0.0, 'correctness test error':0.0}\n",
    "yours_test = {'time': 0.0, 'orthogonal test error':0.0, 'correctness test error':0.0}\n",
    "\n",
    "num_test = 100\n",
    "for i in range(num_test):\n",
    "    n = np.random.randint(40, 50)\n",
    "    A = np.random.randn(n,n)\n",
    "    A = (A + A.transpose()) / 2\n",
    "\n",
    "    # numpy code\n",
    "    start_time = time.time()\n",
    "    d, Q = np.linalg.eig(A.copy())\n",
    "    \n",
    "    numpy_test['time'] += time.time() - start_time\n",
    "    numpy_test['orthogonal test error'] += np.linalg.norm(np.eye(n) - Q @ Q.T)\n",
    "    numpy_test['correctness test error'] += np.linalg.norm(A - Q @ np.diag(d) @ Q.T)\n",
    "\n",
    "    # your code\n",
    "    start_time = time.time()\n",
    "    my_d, my_Q = my_schur(A.copy())\n",
    "    \n",
    "    yours_test['time'] += time.time() - start_time\n",
    "    yours_test['orthogonal test error'] += np.linalg.norm(np.eye(n) - my_Q @ my_Q.T)\n",
    "    yours_test['correctness test error'] += np.linalg.norm(A - my_Q @ np.diag(my_d) @ my_Q.T)\n",
    "\n",
    "for name in numpy_test:\n",
    "    numpy_test[name] /= num_test\n",
    "    yours_test[name] /= num_test\n",
    "\n",
    "yours_check = {'time': yours_test['time'] <= 0.5, \n",
    "               'orthogonal test error': yours_test['orthogonal test error'] <= 1e-5, \n",
    "               'correctness test error': yours_test['correctness test error'] <= 1e-5}\n",
    "\n",
    "print(f'numpy| test ---> {numpy_test}')\n",
    "print(f'yours| test ---> {yours_test}')\n",
    "print(f'yours| check ---> {yours_check}')"
   ]
  },
  {
   "cell_type": "markdown",
   "metadata": {
    "id": "4oc7CnpuIDUR"
   },
   "source": [
    "## 2. SVD\n",
    "\n",
    "$$A \\in \\mathbb{R}^{m\\times n} \\text{ is a matrix} \\iff \\exists \\text{ two orthogonal matrices } U \\text{ and } V: U^\\top A V = \\Sigma = \\text{diag}(\\sigma_1,\\ldots,\\sigma_p), p=\\min\\{m,n\\}, \\sigma_1 \\geq \\ldots \\geq \\sigma_p \\geq 0$$"
   ]
  },
  {
   "cell_type": "markdown",
   "metadata": {
    "id": "-s8GYzs-IDUS"
   },
   "source": [
    "<div dir=\"rtl\"> <font size=\"4\" face=\"HM XNiloofar\">\n",
    "الگوریتم two-sided را در حالت  cyclic پیاده‌سازی کنید.\n",
    "</font> </div>\n",
    "\n",
    "```python\n",
    "U, s, VT = my_svd(A)\n",
    "```\n",
    "\n",
    "<div dir=\"rtl\"> <font size=\"4\" face=\"HM XNiloofar\"> \n",
    "ورودی یک ماتریس حقیقی دلخواه و خروجی ماتریس بردارهای تکین چپ، مقادیر تکین و ترانهاده ماتریس بردارهای تکین راست است. \n",
    "<br />\n",
    "<b>ملاحظه.</b> الگوریتم شما باید ماتریس‌های خروجی را به صورتی به دست آورد که مقادیر تکین مثبت و نزولی باشند\n",
    "<br />\n",
    "Cell مربوط به ارزیابی کد را اجرا کنید. خروجی الگوریتم خود را با خروجی تابع numpy مقایسه کنید. درباره‌ی تفاوت‌ها توضیح دهید.\n",
    "<br />\n",
    "Cell تست زمان و صحت را جهت ارزیابی کارایی الگوریتم خود اجرا کنید.\n",
    "</font> </div>"
   ]
  },
  {
   "cell_type": "code",
   "execution_count": 24,
   "metadata": {
    "executionInfo": {
     "elapsed": 131,
     "status": "ok",
     "timestamp": 1659336089766,
     "user": {
      "displayName": "milad heidari",
      "userId": "01780670972758435893"
     },
     "user_tz": -270
    },
    "id": "c9Xv4lGBIDUS"
   },
   "outputs": [],
   "source": [
    "def my_svd(A):\n",
    "    \n",
    "    m, n = A.shape\n",
    "    is_wide = n > m\n",
    "    if is_wide:\n",
    "        A = A.T\n",
    "        m, n = A.shape\n",
    "\n",
    "\n",
    "    UT = np.eye(m, m)\n",
    "    V = np.eye(n, n)\n",
    "    tol = 1e-6\n",
    "    delta = tol * np.linalg.norm(A)\n",
    "    \n",
    "    while off_diag(A) > delta:\n",
    "        for q in range(n):\n",
    "            for p in range(q+1, n):\n",
    "                # Making sub-matrix symmetric first\n",
    "                alpha_sym = np.arctan2((A[q, p] - A[p, q]), (A[p, p] + A[q, q]))\n",
    "                J_alpha_sym = np.array([[np.cos(alpha_sym), np.sin(alpha_sym)], [-np.sin(alpha_sym), np.cos(alpha_sym)]])\n",
    "                UT[[q, p], :] = J_alpha_sym.T @ UT[[q, p], :]\n",
    "                A[[q, p], :] = J_alpha_sym.T @ A[[q, p], :]\n",
    "                theta = 0.5 * np.arctan2(2*A[q, p], (A[p, p] - A[q, q]))\n",
    "                J_theta = np.array([[np.cos(theta), np.sin(theta)], [-np.sin(theta), np.cos(theta)]])\n",
    "                A[[q, p], :] = J_theta.T @ A[[q, p], :]\n",
    "                UT[[q, p], :] = J_theta.T @ UT[[q, p], :]\n",
    "                A[:, [q, p]] = A[:, [q, p]] @ J_theta\n",
    "                V[:, [q, p]] = V[:, [q, p]] @ J_theta\n",
    "            for p in range(n, m):\n",
    "                theta = np.arctan(-A[p, q]/A[q, q])\n",
    "                J_theta = np.array([[np.cos(theta), np.sin(theta)], [-np.sin(theta), np.cos(theta)]])\n",
    "                A[[q, p], :] = J_theta.T @ A[[q, p], :]\n",
    "                UT[[q, p], :] = J_theta.T @ UT[[q, p], :]\n",
    "    \n",
    "    U = UT.T\n",
    "    VT = V.T\n",
    "    s = np.diag(A)\n",
    "    s.setflags(write=True)\n",
    "    U.setflags(write=True)\n",
    "    \n",
    "    negative_ind = np.where(s < 0)\n",
    "    s[negative_ind] = -s[negative_ind]\n",
    "    U[:, negative_ind] = -U[:, negative_ind]\n",
    "    \n",
    "    s = s[::-1]\n",
    "    U[:, :n] = U[:, n-1::-1]\n",
    "    VT = VT[::-1, :]\n",
    "    UT = U.T\n",
    "    V = VT.T\n",
    "    \n",
    "    if is_wide:\n",
    "        U, s, VT = V, s.T, U.T\n",
    "    \n",
    "    return U, s, VT"
   ]
  },
  {
   "cell_type": "code",
   "execution_count": 39,
   "metadata": {
    "colab": {
     "base_uri": "https://localhost:8080/"
    },
    "executionInfo": {
     "elapsed": 130,
     "status": "ok",
     "timestamp": 1659336089768,
     "user": {
      "displayName": "milad heidari",
      "userId": "01780670972758435893"
     },
     "user_tz": -270
    },
    "id": "yDNzE0H0IDUU",
    "outputId": "a4073654-1a2f-49ef-cceb-40119cb64e24"
   },
   "outputs": [
    {
     "name": "stdout",
     "output_type": "stream",
     "text": [
      "numpy| orthogonal test error ---> 2.0458291832936716e-14\n",
      "numpy| correctness test error ---> 9.421226313382014e-14\n",
      "yours| orthogonal test error ---> 2.7111365337301636e-14\n",
      "yours| correctness test error ---> 9.390349870487889e-09\n",
      "A = \n",
      "[[ 0.543 -0.325  0.838 ... -0.491 -0.897 -0.09 ]\n",
      " [ 0.502  0.406 -0.017 ...  1.593 -1.051 -0.445]\n",
      " [ 0.052 -1.832 -2.104 ... -0.495  0.155  0.024]\n",
      " ...\n",
      " [ 0.734 -0.507 -0.654 ... -1.383  0.365  1.304]\n",
      " [ 0.725  2.416  1.286 ... -0.977  0.456  0.538]\n",
      " [ 0.156  0.051  2.186 ...  0.122  0.953 -1.842]]\n",
      "U = \n",
      "[[ 0.103 -0.118  0.083 ...  0.033  0.057  0.089]\n",
      " [-0.212 -0.018 -0.267 ... -0.054 -0.043  0.208]\n",
      " [-0.187 -0.082  0.239 ... -0.151 -0.094  0.069]\n",
      " ...\n",
      " [-0.183  0.02   0.301 ... -0.011 -0.113  0.216]\n",
      " [ 0.114  0.076  0.103 ...  0.079 -0.093 -0.04 ]\n",
      " [-0.069  0.254  0.109 ...  0.312 -0.126 -0.099]]\n",
      "my_U = \n",
      "[[ 0.103  0.118 -0.083 ...  0.033  0.057  0.089]\n",
      " [-0.212  0.018  0.267 ... -0.054 -0.043  0.208]\n",
      " [-0.187  0.082 -0.239 ... -0.151 -0.094  0.069]\n",
      " ...\n",
      " [-0.183 -0.02  -0.301 ... -0.011 -0.113  0.216]\n",
      " [ 0.114 -0.076 -0.103 ...  0.079 -0.093 -0.04 ]\n",
      " [-0.069 -0.254 -0.109 ...  0.312 -0.126 -0.099]]\n",
      "s = \n",
      "[12.785 12.281 11.321 11.272 10.746 10.646 10.239  9.405  9.243  8.93\n",
      "  8.695  8.133  7.871  7.593  7.5    7.256  7.181  6.785  6.556  6.128\n",
      "  5.799  5.547  5.453  4.973  4.918  4.419  4.131  3.919  3.648  3.437\n",
      "  3.161  3.001  2.822  2.647  2.503  1.949  1.703  1.244  1.034  0.828]\n",
      "my_s = \n",
      "[12.785 12.281 11.321 11.272 10.746 10.646 10.239  9.405  9.243  8.93\n",
      "  8.695  8.133  7.871  7.593  7.5    7.256  7.181  6.785  6.556  6.128\n",
      "  5.799  5.547  5.453  4.973  4.918  4.419  4.131  3.919  3.648  3.437\n",
      "  3.161  3.001  2.822  2.647  2.503  1.949  1.703  1.244  1.034  0.828]\n",
      "VT = \n",
      "[[ 0.007  0.158  0.125 ...  0.08   0.074 -0.067]\n",
      " [ 0.147  0.018  0.386 ... -0.031  0.074 -0.195]\n",
      " [ 0.05  -0.122 -0.104 ... -0.257  0.047 -0.037]\n",
      " ...\n",
      " [ 0.081  0.054  0.054 ...  0.287 -0.141  0.078]\n",
      " [ 0.151  0.138 -0.198 ... -0.277  0.106 -0.046]\n",
      " [ 0.285  0.139 -0.108 ...  0.059 -0.132  0.173]]\n",
      "my_VT = \n",
      "[[ 0.007  0.158  0.125 ...  0.08   0.074 -0.067]\n",
      " [-0.147 -0.018 -0.386 ...  0.031 -0.074  0.195]\n",
      " [-0.05   0.122  0.104 ...  0.257 -0.047  0.037]\n",
      " ...\n",
      " [-0.077 -0.258  0.157 ...  0.217 -0.112  0.075]\n",
      " [-0.006  0.021 -0.127 ... -0.012  0.097  0.142]\n",
      " [-0.107 -0.054  0.017 ...  0.103  0.237  0.228]]\n"
     ]
    }
   ],
   "source": [
    "# evaluate\n",
    "# m, n = 8, 6\n",
    "m, n = 40, 50\n",
    "A = np.random.randn(m,n)\n",
    "\n",
    "# numpy code\n",
    "U, s, VT = np.linalg.svd(A.copy())\n",
    "S = np.zeros((m,n)); S[[range(min(m,n))],[range(min(m,n))]] = s\n",
    "print(f'numpy| orthogonal test error ---> {np.linalg.norm(np.eye(m) - U @ U.T) + np.linalg.norm(np.eye(n) - VT @ VT.T)}')\n",
    "print(f'numpy| correctness test error ---> {np.linalg.norm(A - U @ S @ VT)}')\n",
    "\n",
    "# your code\n",
    "my_U, my_s, my_VT  = my_svd(A.copy())\n",
    "my_S = np.zeros((m,n)); my_S[[range(min(m,n))],[range(min(m,n))]] = my_s\n",
    "print(f'yours| orthogonal test error ---> {np.linalg.norm(np.eye(m) - my_U @ my_U.T) + np.linalg.norm(np.eye(n) - my_VT @ my_VT.T)}')\n",
    "print(f'yours| correctness test error ---> {np.linalg.norm(A - my_U @ my_S @ my_VT)}')\n",
    "\n",
    "# print\n",
    "print(f'A = \\n{np.around(A, 3)}')\n",
    "print(f'U = \\n{np.around(U, 3)}')\n",
    "print(f'my_U = \\n{np.around(my_U, 3)}')\n",
    "print(f's = \\n{np.around(s, 3)}')\n",
    "print(f'my_s = \\n{np.around(my_s, 3)}')\n",
    "print(f'VT = \\n{np.around(VT, 3)}')\n",
    "print(f'my_VT = \\n{np.around(my_VT, 3)}')"
   ]
  },
  {
   "cell_type": "markdown",
   "metadata": {
    "id": "9doMk3VmIDUW"
   },
   "source": [
    "**Your answer:**\n",
    "\n",
    "<div dir=\"rtl\"> <font size=\"3\" face=\"HM XNiloofar\"> \n",
    "در پایان این الگوریتم بعضی از مقادیر تکین منفی هستند که برای مثبت کردن آن ها یا می توانیم علامت ستون متناظر در U را عوض کنیم و یا علامت سطر متناظر با آن در VT و علامت مقدار تکین را مثبت در نظر بگیریم. ما در اینجا علامت ستون U را تغییر داده ایم. بعد از مثبت کردن علامت مقادیر تکین آن ها sort می کنیم و ستون متناظر در U و سطر متناظر در VT را هم ظبق این مقادیر تکین عوض می کنیم. توجه شود که ستون های U و سطر های VT که متناظر مقادیر تکین صفر هستند در ساختن ماتریس اصلی نقشی ندارند (در واقع ضریب آن ها همان مقدار تکین است که صفر است) و برای همین ترتیب آن ها اهمیت ندارد. در کل تفاوتی که بین جواب ها دیده می شود در علامت ستون های U و سطر های VT است. از نظر زمانی هم الگوریتم numpy بسیار سریع تر است.\n",
    "</font> </div>"
   ]
  },
  {
   "cell_type": "code",
   "execution_count": 40,
   "metadata": {
    "executionInfo": {
     "elapsed": 117,
     "status": "ok",
     "timestamp": 1659336089769,
     "user": {
      "displayName": "milad heidari",
      "userId": "01780670972758435893"
     },
     "user_tz": -270
    },
    "id": "b_arn2WHIDUX"
   },
   "outputs": [
    {
     "name": "stdout",
     "output_type": "stream",
     "text": [
      "numpy| test ---> {'time': 0.0006444048881530762, 'orthogonal test error': 2.184687020609516e-14, 'correctness test error': 1.0377189323318387e-13}\n",
      "yours| test ---> {'time': 0.33237483978271487, 'orthogonal test error': 2.8200231581162183e-14, 'correctness test error': 3.881712649964906e-06}\n",
      "yours| check ---> {'time': True, 'orthogonal test error': True, 'correctness test error': True}\n"
     ]
    }
   ],
   "source": [
    "# time and correctness test\n",
    "numpy_test = {'time': 0.0, 'orthogonal test error':0.0, 'correctness test error':0.0}\n",
    "yours_test = {'time': 0.0, 'orthogonal test error':0.0, 'correctness test error':0.0}\n",
    "\n",
    "num_test = 100\n",
    "for i in range(num_test):\n",
    "    m, n = np.random.randint(40, 50), np.random.randint(40, 50)\n",
    "    A = np.random.randn(m,n)\n",
    "\n",
    "    # numpy code\n",
    "    start_time = time.time()\n",
    "    U, s, VT = np.linalg.svd(A.copy())\n",
    "    S = np.zeros((m,n)); S[[range(min(m,n))],[range(min(m,n))]] = s\n",
    "    \n",
    "    numpy_test['time'] += time.time() - start_time\n",
    "    numpy_test['orthogonal test error'] += np.linalg.norm(np.eye(m) - U @ U.T) + np.linalg.norm(np.eye(n) - VT @ VT.T)\n",
    "    numpy_test['correctness test error'] += np.linalg.norm(A - U @ S @ VT)\n",
    "\n",
    "    # your code\n",
    "    start_time = time.time()\n",
    "    my_U, my_s, my_VT  = my_svd(A.copy())\n",
    "    my_S = np.zeros((m,n)); my_S[[range(min(m,n))],[range(min(m,n))]] = my_s\n",
    "    \n",
    "    yours_test['time'] += time.time() - start_time\n",
    "    yours_test['orthogonal test error'] += np.linalg.norm(np.eye(m) - my_U @ my_U.T) + np.linalg.norm(np.eye(n) - my_VT @ my_VT.T)\n",
    "    yours_test['correctness test error'] += np.linalg.norm(A - my_U @ my_S @ my_VT)\n",
    "\n",
    "for name in numpy_test:\n",
    "    numpy_test[name] /= num_test\n",
    "    yours_test[name] /= num_test\n",
    "\n",
    "yours_check = {'time': yours_test['time'] <= 1.0, \n",
    "               'orthogonal test error': yours_test['orthogonal test error'] <= 1e-5, \n",
    "               'correctness test error': yours_test['correctness test error'] <= 1e-5}\n",
    "\n",
    "print(f'numpy| test ---> {numpy_test}')\n",
    "print(f'yours| test ---> {yours_test}')\n",
    "print(f'yours| check ---> {yours_check}')"
   ]
  },
  {
   "cell_type": "markdown",
   "metadata": {
    "id": "x80Hae26IDUa"
   },
   "source": [
    "## 3. Cholesky\n",
    "\n",
    "$$A \\in \\mathbb{R}^{n\\times n} \\text{ is a symmetric positive definite matrix} \\iff \\exists \\text{ a lower-triangular matrix } G: A = G G^\\top$$"
   ]
  },
  {
   "cell_type": "markdown",
   "metadata": {
    "id": "Vj3qqvdCIDUb"
   },
   "source": [
    "<div dir=\"rtl\"> <font size=\"4\" face=\"HM XNiloofar\">\n",
    "به کمک تبدیل‌های گوسی الگوریتم عددی برای محاسبه تجزیه Cholesky  پیاده‌سازی کنید.\n",
    "</font> </div>\n",
    "\n",
    "```python\n",
    "G = my_cholesky(A)\n",
    "```\n",
    "\n",
    "<div dir=\"rtl\"> <font size=\"4\" face=\"HM XNiloofar\"> \n",
    " ورودی یک ماتریس متقارن مثبت معین دلخواه و خروجی فاکتور Cholesky   است. \n",
    "<br />\n",
    "Cell مربوط به ارزیابی کد را اجرا کنید. خروجی الگوریتم خود را با خروجی تابع numpy مقایسه کنید. درباره‌ی تفاوت‌ها توضیح دهید.\n",
    "<br />\n",
    "Cell تست زمان و صحت را جهت ارزیابی کارایی الگوریتم خود اجرا کنید.\n",
    "</font> </div>"
   ]
  },
  {
   "cell_type": "code",
   "execution_count": 43,
   "metadata": {
    "executionInfo": {
     "elapsed": 115,
     "status": "ok",
     "timestamp": 1659336089771,
     "user": {
      "displayName": "milad heidari",
      "userId": "01780670972758435893"
     },
     "user_tz": -270
    },
    "id": "2xo8gKAcIDUd"
   },
   "outputs": [],
   "source": [
    "def my_cholesky(A):\n",
    "    \n",
    "    n = A.shape[0]\n",
    "    L = np.eye(n, n)\n",
    "    \n",
    "    for q in range(n-1):\n",
    "        t = np.zeros((n, 1))\n",
    "        e = np.zeros((n, 1))\n",
    "        t[q+1:n, 0] = A[q+1:n, q]/A[q, q]\n",
    "        e[q, 0] = 1\n",
    "        A[q+1:n, :] = A[q+1:n, :] - t[q+1:n, [0]] @ A[[q], :]\n",
    "        L[:, [q]] = L @ (e + t)\n",
    "    \n",
    "    G = L\n",
    "    for i in range(n):\n",
    "        G[:, i] = G[:, i]*np.sqrt(A[i, i])    \n",
    "    \n",
    "    return G"
   ]
  },
  {
   "cell_type": "code",
   "execution_count": 44,
   "metadata": {
    "executionInfo": {
     "elapsed": 114,
     "status": "ok",
     "timestamp": 1659336089773,
     "user": {
      "displayName": "milad heidari",
      "userId": "01780670972758435893"
     },
     "user_tz": -270
    },
    "id": "iIssgYvVIDUe"
   },
   "outputs": [
    {
     "name": "stdout",
     "output_type": "stream",
     "text": [
      "numpy| lower-triangular test error ---> 0.0\n",
      "numpy| correctness test error ---> 3.1396942251358856e-15\n",
      "yours| lower-triangular test error ---> 0.0\n",
      "yours| correctness test error ---> 4.3209646206452116e-15\n",
      "A = \n",
      "[[ 4.663  1.024  1.295 -0.66   1.294 -1.035  1.082  0.81 ]\n",
      " [ 1.024  8.4    1.595  3.626 -3.777  5.319 -0.763  3.197]\n",
      " [ 1.295  1.595  1.677  0.147 -0.918  2.274 -0.57   1.444]\n",
      " [-0.66   3.626  0.147  3.042 -2.827  3.112  0.493  1.914]\n",
      " [ 1.294 -3.777 -0.918 -2.827  4.817 -5.433  0.941 -3.195]\n",
      " [-1.035  5.319  2.274  3.112 -5.433  7.641 -1.394  3.966]\n",
      " [ 1.082 -0.763 -0.57   0.493  0.941 -1.394  4.006 -1.988]\n",
      " [ 0.81   3.197  1.444  1.914 -3.195  3.966 -1.988  4.46 ]]\n",
      "G = \n",
      "[[ 2.159  0.     0.     0.     0.     0.     0.     0.   ]\n",
      " [ 0.474  2.859  0.     0.     0.     0.     0.     0.   ]\n",
      " [ 0.6    0.458  1.052  0.     0.     0.     0.     0.   ]\n",
      " [-0.306  1.319 -0.261  1.068  0.     0.     0.     0.   ]\n",
      " [ 0.599 -1.42  -0.595 -0.866  1.155  0.     0.     0.   ]\n",
      " [-0.479  1.94   1.589  0.769 -0.673  0.281  0.     0.   ]\n",
      " [ 0.501 -0.35  -0.675  0.872  0.431  0.769  1.281  0.   ]\n",
      " [ 0.375  1.056  0.698  0.766 -0.728 -0.324 -1.125  0.479]]\n",
      "my_G = \n",
      "[[ 2.159  0.     0.     0.     0.     0.     0.     0.   ]\n",
      " [ 0.474  2.859  0.     0.     0.     0.     0.     0.   ]\n",
      " [ 0.6    0.458  1.052  0.     0.     0.     0.     0.   ]\n",
      " [-0.306  1.319 -0.261  1.068  0.     0.     0.     0.   ]\n",
      " [ 0.599 -1.42  -0.595 -0.866  1.155  0.     0.     0.   ]\n",
      " [-0.479  1.94   1.589  0.769 -0.673  0.281  0.     0.   ]\n",
      " [ 0.501 -0.35  -0.675  0.872  0.431  0.769  1.281  0.   ]\n",
      " [ 0.375  1.056  0.698  0.766 -0.728 -0.324 -1.125  0.479]]\n"
     ]
    }
   ],
   "source": [
    "# evaluate\n",
    "n = 8\n",
    "A = np.random.randn(n,n)\n",
    "A = A @ np.diag(np.random.rand(n)) @ A.T\n",
    "\n",
    "# numpy code\n",
    "G = np.linalg.cholesky(A.copy())\n",
    "print(f'numpy| lower-triangular test error ---> {np.linalg.norm(np.triu(G,1))}')\n",
    "print(f'numpy| correctness test error ---> {np.linalg.norm(A - G @ G.T)}')\n",
    "\n",
    "# your code\n",
    "my_G = my_cholesky(A.copy())\n",
    "print(f'yours| lower-triangular test error ---> {np.linalg.norm(np.triu(my_G,1))}')\n",
    "print(f'yours| correctness test error ---> {np.linalg.norm(A - my_G @ my_G.T)}')\n",
    "\n",
    "# print\n",
    "print(f'A = \\n{np.around(A, 3)}')\n",
    "print(f'G = \\n{np.around(G, 3)}')\n",
    "print(f'my_G = \\n{np.around(my_G, 3)}')"
   ]
  },
  {
   "cell_type": "markdown",
   "metadata": {
    "id": "wHb-Uz-EIDUg"
   },
   "source": [
    "**Your answer:**\n",
    "\n",
    "<div dir=\"rtl\"> <font size=\"3\" face=\"HM XNiloofar\"> \n",
    "در این سوال تفاوتی بین جواب ما و numpy دیده نمی شود (حداقل تا سه رقم اعشار) اما از نظر زمانی باز هم numpy سریع تر است.\n",
    "</font> </div>"
   ]
  },
  {
   "cell_type": "code",
   "execution_count": 45,
   "metadata": {
    "executionInfo": {
     "elapsed": 112,
     "status": "ok",
     "timestamp": 1659336089774,
     "user": {
      "displayName": "milad heidari",
      "userId": "01780670972758435893"
     },
     "user_tz": -270
    },
    "id": "L-ZP7DhhIDUh"
   },
   "outputs": [
    {
     "name": "stdout",
     "output_type": "stream",
     "text": [
      "numpy| test ---> {'time': 2.3028850555419923e-05, 'lower-triangular test error': 0.0, 'correctness test error': 3.553501745615805e-14}\n",
      "yours| test ---> {'time': 0.0007587099075317383, 'lower-triangular test error': 0.0, 'correctness test error': 9.803528554983192e-14}\n",
      "yours| check ---> {'time': True, 'lower-triangular test error': True, 'correctness test error': True}\n"
     ]
    }
   ],
   "source": [
    "# time and correctness test\n",
    "numpy_test = {'time': 0.0, 'lower-triangular test error':0.0, 'correctness test error':0.0}\n",
    "yours_test = {'time': 0.0, 'lower-triangular test error':0.0, 'correctness test error':0.0}\n",
    "\n",
    "num_test = 100\n",
    "for i in range(num_test):\n",
    "    n = np.random.randint(40, 50)\n",
    "    A = np.random.randn(n,n)\n",
    "    A = A @ np.diag(np.random.rand(n)) @ A.T\n",
    "\n",
    "    # numpy code\n",
    "    start_time = time.time()\n",
    "    G = np.linalg.cholesky(A.copy())\n",
    "    \n",
    "    numpy_test['time'] += time.time() - start_time\n",
    "    numpy_test['lower-triangular test error'] += np.linalg.norm(np.triu(G,1))\n",
    "    numpy_test['correctness test error'] += np.linalg.norm(A - G @ G.T)\n",
    "\n",
    "    # your code\n",
    "    start_time = time.time()\n",
    "    my_G = my_cholesky(A.copy())\n",
    "    \n",
    "    yours_test['time'] += time.time() - start_time\n",
    "    yours_test['lower-triangular test error'] += np.linalg.norm(np.triu(my_G,1))\n",
    "    yours_test['correctness test error'] += np.linalg.norm(A - my_G @ my_G.T)\n",
    "\n",
    "for name in numpy_test:\n",
    "    numpy_test[name] /= num_test\n",
    "    yours_test[name] /= num_test\n",
    "\n",
    "yours_check = {'time': yours_test['time'] <= 0.01, \n",
    "               'lower-triangular test error': yours_test['lower-triangular test error'] <= 1e-5, \n",
    "               'correctness test error': yours_test['correctness test error'] <= 1e-5}\n",
    "\n",
    "print(f'numpy| test ---> {numpy_test}')\n",
    "print(f'yours| test ---> {yours_test}')\n",
    "print(f'yours| check ---> {yours_check}')"
   ]
  },
  {
   "cell_type": "markdown",
   "metadata": {
    "id": "uc802EZSIDUj"
   },
   "source": [
    "## 4. QR\n",
    "\n",
    "$$A \\in \\mathbb{R}^{m\\times n} \\text{ is a matrix} \\iff \\exists \\text{ an orthogonal matrix } Q \\text{ and an upper-triangular matrix } R: A = QR$$"
   ]
  },
  {
   "cell_type": "markdown",
   "metadata": {
    "id": "f6gZhPvLIDUk"
   },
   "source": [
    "<div dir=\"rtl\"> <font size=\"4\" face=\"HM XNiloofar\">\n",
    "به کمک تبدیل‌های householder الگوریتم عددی برای محاسبه تجزیه QR  پیاده‌سازی کنید.\n",
    "</font> </div>\n",
    "\n",
    "```python\n",
    "Q, R = my_qr(A)\n",
    "```\n",
    "\n",
    "<div dir=\"rtl\"> <font size=\"4\" face=\"HM XNiloofar\"> \n",
    " ورودی یک ماتریس دلخواه و خروجی ماتریس مربعی متعامد و ماتریس بالا مثلثی در تجزیه QR   است. \n",
    "<br />\n",
    "Cell مربوط به ارزیابی کد را اجرا کنید. خروجی الگوریتم خود را با خروجی تابع numpy مقایسه کنید. درباره‌ی تفاوت‌ها توضیح دهید.\n",
    "<br />\n",
    "Cell تست زمان و صحت را جهت ارزیابی کارایی الگوریتم خود اجرا کنید.\n",
    "</font> </div>"
   ]
  },
  {
   "cell_type": "code",
   "execution_count": 48,
   "metadata": {
    "executionInfo": {
     "elapsed": 111,
     "status": "ok",
     "timestamp": 1659336089776,
     "user": {
      "displayName": "milad heidari",
      "userId": "01780670972758435893"
     },
     "user_tz": -270
    },
    "id": "oXWEkKtgIDUl"
   },
   "outputs": [],
   "source": [
    "def my_qr(A):\n",
    "    \n",
    "    m, n = A.shape\n",
    "    QT = np.eye(m, m)    \n",
    "    \n",
    "    for q in range(np.min((m, n))):\n",
    "        aqq = A[q:, [q]]\n",
    "        eq = np.zeros((m-q, 1))\n",
    "        eq[0, 0] = 1\n",
    "        v = np.zeros((m, 1))\n",
    "        v[q:, [0]] = aqq + np.sign(A[q, q])*np.linalg.norm(aqq)*eq\n",
    "        beta = 2/(v.T @ v)\n",
    "        A = A - (beta*v) @ (v.T @ A)\n",
    "        QT = QT - (beta*v) @ (v.T @ QT)\n",
    "        \n",
    "    R = A\n",
    "    Q = QT.T\n",
    "    \n",
    "    return Q, R"
   ]
  },
  {
   "cell_type": "code",
   "execution_count": 51,
   "metadata": {
    "executionInfo": {
     "elapsed": 109,
     "status": "ok",
     "timestamp": 1659336089777,
     "user": {
      "displayName": "milad heidari",
      "userId": "01780670972758435893"
     },
     "user_tz": -270
    },
    "id": "QAFByf_JIDUn",
    "scrolled": false
   },
   "outputs": [
    {
     "name": "stdout",
     "output_type": "stream",
     "text": [
      "numpy| upper-triangular and  orthogonal test error ---> 1.4365578960434186e-15\n",
      "numpy| correctness test error ---> 2.3909404882690704e-15\n",
      "yours| upper-triangular and  orthogonal test error ---> 2.8386696411455957e-15\n",
      "yours| correctness test error ---> 4.411549142709577e-15\n",
      "A = \n",
      "[[-1.242 -1.651 -0.879 -0.747  0.848 -0.327]\n",
      " [ 0.267  0.094  0.677  0.228  0.191 -0.147]\n",
      " [-1.197 -0.34  -0.656  1.619  2.445 -0.271]\n",
      " [ 0.941  0.074 -0.358  2.53   1.253 -0.666]\n",
      " [ 1.288  0.994 -0.894 -1.463 -0.064 -1.819]\n",
      " [ 0.421  0.011  2.496 -0.712  0.336 -2.087]\n",
      " [-1.443 -0.055 -0.09  -0.886 -1.44   1.262]\n",
      " [-0.071  1.511  0.369  2.376  0.721 -0.424]]\n",
      "Q = \n",
      "[[-0.443 -0.507 -0.16   0.011 -0.241  0.513 -0.223  0.388]\n",
      " [ 0.095 -0.017  0.214 -0.079 -0.046 -0.257  0.51   0.781]\n",
      " [-0.427  0.116 -0.146 -0.357 -0.659 -0.297  0.264 -0.25 ]\n",
      " [ 0.336 -0.185 -0.176 -0.657  0.165  0.434  0.385 -0.162]\n",
      " [ 0.46   0.179 -0.421  0.475 -0.481  0.275  0.214  0.034]\n",
      " [ 0.15  -0.093  0.833  0.068 -0.371  0.299  0.057 -0.201]\n",
      " [-0.515  0.312  0.048  0.304  0.32   0.358  0.544 -0.131]\n",
      " [-0.025  0.747  0.061 -0.333 -0.085  0.318 -0.357  0.302]]\n",
      "my_Q = \n",
      "[[-0.443 -0.507 -0.16   0.011 -0.241  0.513 -0.223  0.388]\n",
      " [ 0.095 -0.017  0.214 -0.079 -0.046 -0.257  0.51   0.781]\n",
      " [-0.427  0.116 -0.146 -0.357 -0.659 -0.297  0.264 -0.25 ]\n",
      " [ 0.336 -0.185 -0.176 -0.657  0.165  0.434  0.385 -0.162]\n",
      " [ 0.46   0.179 -0.421  0.475 -0.481  0.275  0.214  0.034]\n",
      " [ 0.15  -0.093  0.833  0.068 -0.371  0.299  0.057 -0.201]\n",
      " [-0.515  0.312  0.048  0.304  0.32   0.358  0.544 -0.131]\n",
      " [-0.025  0.747  0.061 -0.333 -0.085  0.318 -0.357  0.302]]\n",
      "R = \n",
      "[[ 2.803  1.359  0.615  0.127 -0.237 -1.765]\n",
      " [ 0.     2.07   0.278  1.399 -0.333  0.207]\n",
      " [ 0.     0.     2.917 -0.389 -0.391 -0.761]\n",
      " [ 0.     0.     0.    -4.072 -2.388  0.062]\n",
      " [ 0.     0.     0.     0.    -2.234  2.243]\n",
      " [ 0.     0.     0.     0.     0.    -1.145]\n",
      " [ 0.     0.     0.     0.     0.     0.   ]\n",
      " [ 0.     0.     0.     0.     0.     0.   ]]\n",
      "my_R = \n",
      "[[ 2.803  1.359  0.615  0.127 -0.237 -1.765]\n",
      " [ 0.     2.07   0.278  1.399 -0.333  0.207]\n",
      " [ 0.    -0.     2.917 -0.389 -0.391 -0.761]\n",
      " [-0.     0.     0.    -4.072 -2.388  0.062]\n",
      " [ 0.     0.    -0.     0.    -2.234  2.243]\n",
      " [-0.     0.    -0.     0.     0.    -1.145]\n",
      " [ 0.    -0.    -0.     0.    -0.     0.   ]\n",
      " [-0.    -0.    -0.    -0.     0.     0.   ]]\n"
     ]
    }
   ],
   "source": [
    "# evaluate\n",
    "m ,n = 8, 6\n",
    "A = np.random.randn(m,n)\n",
    "\n",
    "# numpy code\n",
    "Q, R = np.linalg.qr(A.copy(), mode='complete')\n",
    "print(f'numpy| upper-triangular and  orthogonal test error ---> {np.linalg.norm(np.tril(R,-1)) + np.linalg.norm(np.eye(m) - Q @ Q.T)}')\n",
    "print(f'numpy| correctness test error ---> {np.linalg.norm(A - Q @ R)}')\n",
    "\n",
    "# your code\n",
    "my_Q, my_R = my_qr(A.copy())\n",
    "print(f'yours| upper-triangular and  orthogonal test error ---> {np.linalg.norm(np.tril(my_R,-1)) + np.linalg.norm(np.eye(m) - my_Q @ my_Q.T)}')\n",
    "print(f'yours| correctness test error ---> {np.linalg.norm(A - my_Q @ my_R)}')\n",
    "\n",
    "# print\n",
    "print(f'A = \\n{np.around(A, 3)}')\n",
    "print(f'Q = \\n{np.around(Q, 3)}')\n",
    "print(f'my_Q = \\n{np.around(my_Q, 3)}')\n",
    "print(f'R = \\n{np.around(R, 3)}')\n",
    "print(f'my_R = \\n{np.around(my_R, 3)}')"
   ]
  },
  {
   "cell_type": "markdown",
   "metadata": {
    "id": "89ZOoydRIDUo"
   },
   "source": [
    "**Your answer:**\n",
    "\n",
    "<div dir=\"rtl\"> <font size=\"3\" face=\"HM XNiloofar\"> \n",
    "در این سوال تفاوتی بین جواب ما و numpy دیده نمی شود (حداقل تا سه رقم اعشار) اما از نظر زمانی باز هم numpy سریع تر است.\n",
    "</font> </div>"
   ]
  },
  {
   "cell_type": "code",
   "execution_count": 50,
   "metadata": {
    "executionInfo": {
     "elapsed": 108,
     "status": "ok",
     "timestamp": 1659336089779,
     "user": {
      "displayName": "milad heidari",
      "userId": "01780670972758435893"
     },
     "user_tz": -270
    },
    "id": "IApUb6gfIDUp"
   },
   "outputs": [
    {
     "name": "stdout",
     "output_type": "stream",
     "text": [
      "numpy| test ---> {'time': 0.00011080741882324219, 'upper-triangular and  orthogonal test error': 4.134145239776311e-15, 'correctness test error': 2.206794099944482e-14}\n",
      "yours| test ---> {'time': 0.0013890743255615234, 'upper-triangular and  orthogonal test error': 1.1956875524927438e-14, 'correctness test error': 3.2358990248993474e-14}\n",
      "yours| check ---> {'time': True, 'upper-triangular and  orthogonal test error': True, 'correctness test error': True}\n"
     ]
    }
   ],
   "source": [
    "# time and correctness test\n",
    "numpy_test = {'time': 0.0, 'upper-triangular and  orthogonal test error':0.0, 'correctness test error':0.0}\n",
    "yours_test = {'time': 0.0, 'upper-triangular and  orthogonal test error':0.0, 'correctness test error':0.0}\n",
    "\n",
    "num_test = 100\n",
    "for i in range(num_test):\n",
    "    m, n = np.random.randint(40, 50), np.random.randint(40, 50)\n",
    "    A = np.random.randn(m,n)\n",
    "\n",
    "    # numpy code\n",
    "    start_time = time.time()\n",
    "    Q, R = np.linalg.qr(A.copy(), mode='complete')\n",
    "    \n",
    "    numpy_test['time'] += time.time() - start_time\n",
    "    numpy_test['upper-triangular and  orthogonal test error'] += np.linalg.norm(np.tril(R,-1)) + np.linalg.norm(np.eye(m) - Q @ Q.T)\n",
    "    numpy_test['correctness test error'] += np.linalg.norm(A - Q @ R)\n",
    "\n",
    "    # your code\n",
    "    start_time = time.time()\n",
    "    my_Q, my_R = my_qr(A.copy())\n",
    "    \n",
    "    yours_test['time'] += time.time() - start_time\n",
    "    yours_test['upper-triangular and  orthogonal test error'] += np.linalg.norm(np.tril(my_R,-1)) + np.linalg.norm(np.eye(m) - my_Q @ my_Q.T)\n",
    "    yours_test['correctness test error'] += np.linalg.norm(A - my_Q @ my_R)\n",
    "\n",
    "for name in numpy_test:\n",
    "    numpy_test[name] /= num_test\n",
    "    yours_test[name] /= num_test\n",
    "\n",
    "yours_check = {'time': yours_test['time'] <= 0.01, \n",
    "               'upper-triangular and  orthogonal test error': yours_test['upper-triangular and  orthogonal test error'] <= 1e-5, \n",
    "               'correctness test error': yours_test['correctness test error'] <= 1e-5}\n",
    "\n",
    "print(f'numpy| test ---> {numpy_test}')\n",
    "print(f'yours| test ---> {yours_test}')\n",
    "print(f'yours| check ---> {yours_check}')"
   ]
  },
  {
   "cell_type": "markdown",
   "metadata": {
    "id": "eEdJJanRIDUq"
   },
   "source": [
    "---"
   ]
  },
  {
   "cell_type": "markdown",
   "metadata": {
    "id": "jArW97DnIDUr"
   },
   "source": [
    "# B. Dictionary Learning"
   ]
  },
  {
   "cell_type": "code",
   "execution_count": null,
   "metadata": {
    "executionInfo": {
     "elapsed": 107,
     "status": "ok",
     "timestamp": 1659336089780,
     "user": {
      "displayName": "milad heidari",
      "userId": "01780670972758435893"
     },
     "user_tz": -270
    },
    "id": "VjEMhdPHIDUs"
   },
   "outputs": [],
   "source": [
    "# The allowed libraries\n",
    "from sklearn.feature_extraction.image import extract_patches_2d\n",
    "import numpy as np\n",
    "import matplotlib.pyplot as plt\n",
    "import imageio"
   ]
  },
  {
   "cell_type": "code",
   "execution_count": null,
   "metadata": {
    "executionInfo": {
     "elapsed": 101,
     "status": "ok",
     "timestamp": 1659336089781,
     "user": {
      "displayName": "milad heidari",
      "userId": "01780670972758435893"
     },
     "user_tz": -270
    },
    "id": "DPTSYMRHIDUs"
   },
   "outputs": [],
   "source": [
    "'''\n",
    "Download the necessary files from Google Drive via gdown library (source: https://pypi.org/project/gdown/) \n",
    "\n",
    "Do the following steps:\n",
    "\n",
    "1) Install gdown (if you are using Google Colab, skip this step). \n",
    "In jupyter notebook: run (!pip install gdown) and (!pip install --upgrade gdown)\n",
    "\n",
    "2) Run the following script to download files:\n",
    "'''\n",
    "\n",
    "# EE.png\n",
    "!gdown 12ONag930wZvpmkVQ0JV35qDVFjm9bq4J\n",
    "\n",
    "# EE_noisy.png\n",
    "!gdown 1FH8SYf_IaOWX0fu_buFIfwshrnUUC6CW\n",
    "\n",
    "# random_dictionary_64_121.npy\n",
    "!gdown 195AygBnFlzdBO5ikyc3lkCrxdKK8sSf3"
   ]
  },
  {
   "cell_type": "code",
   "execution_count": null,
   "metadata": {
    "executionInfo": {
     "elapsed": 99,
     "status": "ok",
     "timestamp": 1659336089783,
     "user": {
      "displayName": "milad heidari",
      "userId": "01780670972758435893"
     },
     "user_tz": -270
    },
    "id": "GYSIXPRRIDUs"
   },
   "outputs": [],
   "source": [
    "image_clean = imageio.imread('EE.png')[:, :].astype('float32')\n",
    "image_noisy = imageio.imread('EE_noisy.png')[:, :].astype('float32')\n",
    "\n",
    "plt.figure(figsize=(10,5))\n",
    "plt.subplot(1, 2, 1)\n",
    "plt.title('clean image')\n",
    "plt.imshow(image_clean, cmap='gray')\n",
    "plt.subplot(1, 2, 2)\n",
    "plt.title('noisy image')\n",
    "plt.imshow(image_noisy, cmap='gray')\n",
    "plt.show()"
   ]
  },
  {
   "cell_type": "markdown",
   "metadata": {
    "id": "87AZIflOIDUt"
   },
   "source": [
    "<div dir=\"rtl\"> <font size=\"4\" face=\"HM XNiloofar\">\n",
    "در این بخش از تمرین با استفاده از یادگیری واژه‌نامه، سیستمی به منظور نویززدایی تصاویر مقیاس خاکستری توسعه خواهید داد [1]. \n",
    "</font> </div>\n",
    "\n",
    "[1] Elad, M. and Aharon, M., 2006. Image denoising via sparse and redundant representations over learned dictionaries. IEEE Transactions on Image processing, 15(12), pp.3736-3745.\n",
    "\n",
    "<div dir=\"rtl\"> <font size=\"4\" face=\"HM XNiloofar\">\n",
    "    <br />\n",
    "تصویر مقیاس خاکستری Y را می‌توان به صورت یک ماتریس r×c در نظر گرفت که هر مولفه آن عدد صحیحی در بازه [0,255] اختیار می‌نماید. یکی از نویزهای رایج در تصاویر، نویز گاوسی جمع‌شونده است که در نتیجه آن تصویر نویزی Y_n=Y+N در اختیار شما قرار می‌گیرد که N ماتریس نویز است. در سیستم نویززدایی مورد نظر در این تمرین، فرض می‌شود که قطعات هم‌اندازه در تصویر Y با ابعاد p×p از یک مدل تنک تولید شده‌اند. از آنجایی که تصویر اصلی در اختیار شما قرار ندارد، باید با استفاده از قطعات تصویر در Y_n، واژه‌نامه‌ای که قطعات تصویر اصلی از آن تولید شده‌اند را تخمین بزنید. سپس از این واژه‌نامه برای نویززدایی قطعات تصویر Y_n استفاده کنید. به این منظور در ادامه بخش‌های مختلف سیستم را پیاده‌سازی می‌نمایید و در انتها نیز با کنار هم قرار دادن این بخش‌ها، سیستم نهایی پیاده‌سازی خواهد گردید.\n",
    "</font> </div>"
   ]
  },
  {
   "cell_type": "markdown",
   "metadata": {
    "id": "Sf3JWvCrIDUt"
   },
   "source": [
    "## 1. Create dataset"
   ]
  },
  {
   "cell_type": "markdown",
   "metadata": {
    "id": "1mzm9ZieIDUt"
   },
   "source": [
    "<div dir=\"rtl\"> <font size=\"4\" face=\"HM XNiloofar\">\n",
    "    <b>\n",
    "    ساخت پایگاه داده یادگیری واژه‌نامه:\n",
    "    </b>\n",
    "    <br />\n",
    "        در این گام باید تابع <code>create_dataset</code> را پیاده‌سازی نمایید. ورودی‌های این تابع عبارتند از: \n",
    "<ul>\n",
    "  <li> <code>image_noisy</code>:\tتصویر نویزی با ابعاد r×c که هر مولفه آن عدد صحیحی در بازه [0,255] است و نوع آن <code>float32</code> است.</li>\n",
    "  <li> <code>p</code>: طول قطعات تصویر.</li>\n",
    "</ul>\n",
    " خروجی این تابع عبارتست از:\n",
    "<ul>\n",
    "<li><code>dataset</code>: \tپایگاه داده که یک ماتریس با ابعاد p^2×((r-p+1)(c-p+1)) است. هر ستون یکی از قطعات تصویر است که برداری شده است. از آنجایی که سایز تصویر r×c است و طول قطعات برابر با p است، در نتیجه در کل تصویر نویزی (r-p+1)(c-p+1) قطعه خواهیم داشت. هر قطعه نیز یک ماتریس مربعی p×p  است که با برداری‌سازی آن، برداری به طول p^2 خواهیم داشت . </li>\n",
    "</ul>\n",
    " به منظور درستی پیاده‌سازی، به نکات زیر توجه نمایید.\n",
    " <ul>\n",
    "  <li>\tقطعه اول تصویر زیر ماتریس <code>image_noisy[0:8,0:8]</code> و قطعه دوم <code>image_noisy[0:8,1:9]</code> می‌باشد. یعنی قطعات به صورت سطری جلو می‌روند. </li>\n",
    "  <li>\tبرای برداری‌سازی قطعات تصویر، سطرها را به صورت بردار عمودی در آورده و به ترتیب زیر هم قرار دهید تا یکی از ستون‌های ماتریس <code>dataset</code> را بسازد.</li>\n",
    "     <li> \tبرای پیاده‌سازی بهینه از تابع <code>extract_patches_2d</code> بهره ببرید. </li>\n",
    "</ul>\n",
    "</font> </div>"
   ]
  },
  {
   "cell_type": "code",
   "execution_count": null,
   "metadata": {
    "executionInfo": {
     "elapsed": 98,
     "status": "ok",
     "timestamp": 1659336089784,
     "user": {
      "displayName": "milad heidari",
      "userId": "01780670972758435893"
     },
     "user_tz": -270
    },
    "id": "ZssShm-iIDUu"
   },
   "outputs": [],
   "source": [
    "def create_dataset(image_noisy, p):\n",
    "    \n",
    "    dataset = extract_patches_2d(image_noisy, (p, p))\n",
    "    dataset = dataset.reshape(-1, p*p).T\n",
    "    \n",
    "    return dataset"
   ]
  },
  {
   "cell_type": "markdown",
   "metadata": {
    "id": "UpWuoX3tIDUu"
   },
   "source": [
    "## 2. Initialize dictionary\n",
    "\n",
    "<div dir=\"rtl\"> <font size=\"4\" face=\"HM XNiloofar\">\n",
    "    <b>\n",
    "   مقداردهی اولیه واژه‌نامه: \n",
    "    </b>\n",
    "    <br />\n",
    "مقداردهی اولیه واژه‌نامه از مراحلی است که می‌تواند کیفیت نویززدایی را تحت تاثیر قرار دهد. این واژه‌نامه می‌تواند با استفاده از DCT فوق کامل مقداردهی اولیه شود. در این تمرین به منظور ساده‌سازی همراه با سوالات تمرین یک واژه‌نامه نیز در اختیار شما قرار گرفته است که می‌توانید برای تست کار خود از آن استفاده نمایید. شما کافیست تابعی بنویسید که با دریافت آدرس واژه‌نامه، آن را لود کرده و در متغیر <code>init_dictionary</code> قرار داده و به خروجی بدهد. بنابراین ورودی این تابع عبارتست از:   \n",
    "<ul>\n",
    "  <li><code>address</code>:\t\tآدرس واژه‌نامه اولیه </li>\n",
    "</ul>\n",
    " خروجی این تابع عبارتست از:\n",
    "<ul>\n",
    "<li><code>init_dictionary</code>: \t\tواژه‌نامه اولیه </li>\n",
    "</ul>\n",
    "</font> </div>"
   ]
  },
  {
   "cell_type": "code",
   "execution_count": null,
   "metadata": {
    "executionInfo": {
     "elapsed": 96,
     "status": "ok",
     "timestamp": 1659336089785,
     "user": {
      "displayName": "milad heidari",
      "userId": "01780670972758435893"
     },
     "user_tz": -270
    },
    "id": "3fU6GJf8IDUv"
   },
   "outputs": [],
   "source": [
    "def create_init_dictionary(address):\n",
    "    \n",
    "    init_dictionary = np.load(address)\n",
    "    \n",
    "    return init_dictionary"
   ]
  },
  {
   "cell_type": "markdown",
   "metadata": {
    "id": "EvGxW7kUIDUw"
   },
   "source": [
    "## 3. Learn dictionary\n",
    "\n",
    "<div dir=\"rtl\"> <font size=\"4\" face=\"HM XNiloofar\">\n",
    "    <b>\n",
    "  یادگیری واژه‌نامه: \n",
    "    </b>\n",
    "    <br />در این بخش شما می‌بایست تابع <code>train_dictionary</code> را پیاده‌سازی نمایید. در گام نمایش تنک برای یک بردار دلخواه y_i از مجموعه آموزش می‌بایست نمایش تنک x_i را با حل مساله زیر به دست آورید:\n",
    " </font> </div>   \n",
    "    \n",
    "$$ x_i= \\text{argmin}_x ‖x‖_0    \\text{ subject to }   ‖y_i-Dx‖_2^2/l≤(\\text{sigma}×\\text{noise_gain})^2  $$\n",
    "\n",
    "<div dir=\"rtl\"> <font size=\"4\" face=\"HM XNiloofar\">\n",
    "    <br />\n",
    "که در رابطه فوق D ماتریس واژه‌نامه، <code>sigma</code> تخمین واریانس نویز گاوسی جمع‌شوند، <code>noise_gain</code> بهره نویز و l طول بردار y_i است.\n",
    "<br />   \n",
    "در این تابع برای گام نمایش تنک و به‌روزرسانی واژه‌نامه می‌بایست روش‌های مختلفی را پیاده‌سازی نمایید. برای گام نمایش تنک می‌بایست روش‌های زیر را پیاده‌سازی نمایید:\n",
    "<ul>\n",
    "  <li><code>MP</code>:\tروش جستجوی انطابق </li>\n",
    "  <li><code>OMP</code>:\tروش جستجوی انطابق متعامد </li>\n",
    "  <li><code>BOMP</code>: روش جستجوی انطابق متعامد دسته‌ای [2]</li>\n",
    "</ul>\n",
    "    برای گام به‌روزرسانی واژه‌نامه نیز می‌بایست دور روش زیر پیاده‌سازی شوند:\n",
    "<ul>\n",
    "  <li><code>AKSVD</code>:\t\tتقریب الگوریتم [2] KSVD  </li>\n",
    "  <li><code>MOD</code>:\t\tالگوریتم MOD </li>\n",
    "</ul>  \n",
    "    توجه: در الگوریتم <code>MOD</code> امکان دارد ماتریس XX^T معکوس‌پذیر نباشد. به منظور رفع این مشکل از تنظیم کننده تیخونوف استفاده نمایید و به جای معکوس‌گیری از XX^T  از ماتریس I+XX^T  معکوس بگیرید.\n",
    "<br />     \n",
    "    بنابراین ورودی‌های این تابع عبارتست از:\n",
    "<ul>\n",
    "  <li><code>init_dictionary</code>:\tواژه‌نامه اولیه </li>\n",
    "  <li><code>dataset</code>:\tپایگاه داده </li>\n",
    "  <li><code>iter_num</code>:\tتعداد تکرارهای یادگیری واژه‌نامه </li>\n",
    "  <li><code>sigma</code>:\tتخمین واریانس نویز </li>\n",
    "  <li><code>noise_gain</code>:\tبهره نویز </li>\n",
    "  <li><code>SC_method</code>:\tروش مورد استفاده برای نمایش تنک </li>\n",
    "  <li><code>DL_method</code>:\tروش مورد استفاده برای به‌روزرسانی واژه‌نامه </li>\n",
    "</ul>\n",
    " خروجی‌های این تابع عبارتست از:\n",
    "<ul>\n",
    "  <li><code>final_dictionary</code>:\t\tواژه‌نامه آموزش داده شده </li>\n",
    "  <li><code>X</code>:\t\tنمایش قطعات تصویر پایگاه داده در واژه‌نامه آموزش داده شده \n",
    "</ul>    \n",
    "</font> </div>    \n",
    "    \n",
    "[2] Rubinstein, R., Zibulevsky, M. and Elad, M., 2008. Efficient implementation of the K-SVD algorithm using batch orthogonal matching pursuit (No. CS Technion report CS-2008-08). Computer Science Department, Technion."
   ]
  },
  {
   "cell_type": "code",
   "execution_count": null,
   "metadata": {
    "executionInfo": {
     "elapsed": 99,
     "status": "ok",
     "timestamp": 1659336089790,
     "user": {
      "displayName": "milad heidari",
      "userId": "01780670972758435893"
     },
     "user_tz": -270
    },
    "id": "JffiLEqxIDUx"
   },
   "outputs": [],
   "source": [
    "def train_dictionary(init_dictionary, dataset, iter_num, sigma, noise_gain, SC_method, DL_method):\n",
    "    D = init_dictionary\n",
    "    Y = dataset\n",
    "    for iter in range(iter_num):\n",
    "        print('iter %d'%iter)\n",
    "        X = sparse_coding(D, Y, tol=sigma * noise_gain, SC_method=SC_method)\n",
    "        D, X = dictionary_update(D, Y, X, DL_method=DL_method)\n",
    "    final_dictionary = D\n",
    "    return (final_dictionary, X)\n",
    "\n",
    "\n",
    "def sparse_coding(D, Y, tol, SC_method):\n",
    "    if SC_method.upper() == 'MP':\n",
    "        X = MP(D, Y, tol)\n",
    "    elif SC_method.upper() == 'OMP':\n",
    "        X = OMP(D, Y, tol)\n",
    "    elif SC_method.upper() == 'BOMP':\n",
    "        X = BOMP(D, Y, tol)\n",
    "    return X\n",
    "\n",
    "\n",
    "def dictionary_update(D, Y, X, DL_method):\n",
    "    if DL_method.upper() == 'AKSVD':\n",
    "        D, X = AKSVD(D, Y, X)\n",
    "    elif DL_method.upper() == 'MOD':\n",
    "        D, X = MOD(D, Y, X)\n",
    "    return (D, X)\n",
    "\n",
    "def MP(D, Y, tol, col):\n",
    "    \n",
    "    # initialization\n",
    "    k, u = D.shape\n",
    "    _, n = Y.shape\n",
    "    \n",
    "    X = np.zeros((u, n))\n",
    "    R = Y.copy()\n",
    "    \n",
    "    for i in range(n):\n",
    "        while (np.linalg.norm(R[:, i]) > tol):\n",
    "            E = np.linalg.norm(R[:, i]) ** 2 - ((D.T @ R[:, i]) / np.linalg.norm(D, axis=0))**2\n",
    "            J = np.argmin(E)\n",
    "            Z = (D[:, J].T @ R[:, i]) / (D[:, J].T @ D[:, J])\n",
    "            X[J, i] += Z\n",
    "            R[:, i] -= Z * D[:, J]\n",
    "            \n",
    "    return X\n",
    "\n",
    "\n",
    "def OMP(D, Y, tol):\n",
    "    \n",
    "    # TODO\n",
    "\n",
    "    return X\n",
    "\n",
    "\n",
    "def BOMP(D, Y, tol):\n",
    "    \n",
    "    # TODO\n",
    "    \n",
    "    return X\n",
    "\n",
    "\n",
    "def AKSVD(D, Y, X):\n",
    "    \n",
    "    # TODO\n",
    "    \n",
    "    return (D, X)\n",
    "\n",
    "\n",
    "def MOD(D, Y, X):\n",
    "    \n",
    "    k, u = D.shape\n",
    "    _, n = Y.shape\n",
    "    I = np.eye(u, u)\n",
    "    D = Y @ X.T @ np.linalg.pinv((X @ X.T + 0.1 * I))\n",
    "    \n",
    "    return (D, X)\n",
    "\n",
    " "
   ]
  },
  {
   "cell_type": "markdown",
   "metadata": {
    "id": "01_CyJC0IDUy"
   },
   "source": [
    "## 4. Reconstruct image\n",
    "\n",
    "<div dir=\"rtl\"> <font size=\"4\" face=\"HM XNiloofar\">\n",
    "    <b>\n",
    "بازسازی تصویر: \n",
    "    </b>\n",
    "    <br />\n",
    "    در قسمت قبل شما توانستید نمایش تمام قطعات تصویر در واژه‌نامه نهایی (<code>final_dictionary</code>) را به دست آورید. در این قسمت به‌جای هر قطعه از تصویر، بازسازی شده آن را جایگزین می‌نمایید. فرض کنید x_i نمایش یک قطعه برداری شده از تصویر در واژه‌نامه نهایی (D_f) باشد. در این صورت تخمین بدون نویز از آن قطعه برداری شده را می‌توان به صورت D_f x_i ساخت و با استفاده از عملیات معکوس برداری‌سازی (تبدیل بردارها به قطعات تصویر)، می‌توان تخمینی از قطعه تصویر بدون نویز به دست آورد. از آنجایی که شما تمام قطعات قابل استخراج از تصویر را در قسمت الف در نظر گرفتید، بنابراین هر پیکسل از تصویر در تعدادی از قطعات قرار می‌گیرد (پیکسل‌های مرکزی دقیقا در p^2 قطعه و پیکسل‌های حاشیه‌ای در کمتر از این مقدار قطعه تصویر حضور دارند). به منظور نویززدایی بهتر می‌توان متوسط تمام تخمین‌ها از یک پیکسل را در نظر گرفت. به عبارت دیگر یک ماتریس O و یک ماتریس C صفر در نظر بگیرید. حال هر یک از قطعات نویزدایی شده را با بخشی از ماتریس O که متناظر با آن است جمع نمایید. همزمان به بخش متناظر با قطعه تصویر در ماتریس C نیز یک واحد اضافه کنید. پس از قرار دادن تمام قطعات نویز زدایی شده، اگر ماتریس O را به صورت عنصر به عنصر بر ماتریس C تقسیم نمایید، خروجی مورد نظر به دست می‌آید. \n",
    "    <br />\n",
    "    روال فوق معمولا منجر به بایاس در تصویر حاصل می‌گردد. به منظور کاهش این بایاس نیز ضریبی از تصویر نویزی با خروجی حاصل از الگوریتم فوق ترکیب می‌شود. فرض کنید طبق روال فوق، O و C را به دست آورده‌اید. خروجی نهایی از رابطه زیر به دست خواهد آمد:\n",
    "    <center><code>image_denoised =  (O + m × image_noisy) / (C + m)</code></center>\n",
    "در این گام شما می‌بایست تابع بازسازی تصویر با نام <code>reconstruct_image</code> را پیاده‌سازی نمایید. این تابع ورودی‌های زیر را می‌پذیرد:\n",
    "<ul>\n",
    "  <li><code>final_dictionary</code>:\tواژه‌نامه آموزش داده شده </li>\n",
    "  <li><code>X</code>:   \tنمایش قطعات تصویر پایگاه داده در واژه‌نامه آموزش داده شده </li>\n",
    "  <li><code>image_noisy</code>:   \tتصویر نویزی با ابعاد r×c که هر مولفه آن عددی صحیحی در بازه [0,255] است و نوع آن <code>float32</code> است. </li>\n",
    "  <li><code>p</code>:  \tطول قطعات تصویر</li>\n",
    "   <li><code>m</code>:  \tثابت ترکیب تصویر نویزی</li>\n",
    "</ul>\n",
    " خروجی این تابع عبارتست از:\n",
    "<ul>\n",
    "<li><code>image_denoised</code>:\tتصویر نویززدایی شده با ابعاد r×c که هر مولفه آن عددی صحیحی در بازه [0,255] است و نوع آن <code>float32</code> است.</li>\n",
    "</ul>\n",
    "</font> </div>"
   ]
  },
  {
   "cell_type": "code",
   "execution_count": null,
   "metadata": {
    "executionInfo": {
     "elapsed": 100,
     "status": "ok",
     "timestamp": 1659336089793,
     "user": {
      "displayName": "milad heidari",
      "userId": "01780670972758435893"
     },
     "user_tz": -270
    },
    "id": "wfyz6DaJIDUz"
   },
   "outputs": [],
   "source": [
    "def reconstruct_image(final_dictionary, X, image_noisy, p, m):\n",
    "    \n",
    "    O = np.zeros(image_noisy.shape)\n",
    "    C = np.zeros(image_noisy.shape)\n",
    "    Y_hat = final_dictionary @ X\n",
    "    \n",
    "    k = 0\n",
    "    \n",
    "    r, c = image_noisy.shape\n",
    "    \n",
    "    for i in range(r-p+1):\n",
    "        for j in range(c-p+1):\n",
    "            O[i:i+p, j:j+p] += Y_hat[:, k].reshape(p, p)\n",
    "            C[i:i+p, j:j+p] += np.ones((p, p))\n",
    "            k += 1\n",
    "        \n",
    "    image_denoised = (O + m * image_noisy) / (C + m)\n",
    "    \n",
    "    return image_denoised"
   ]
  },
  {
   "cell_type": "markdown",
   "metadata": {
    "id": "sZPcZrrRIDUz"
   },
   "source": [
    "## 5. Evaluation\n",
    "\n",
    "<div dir=\"rtl\"> <font size=\"4\" face=\"HM XNiloofar\">\n",
    "حال  تمام ماژول‌های مورد نیاز برای ساخت سیستم نویززدایی را در اختیار دارید. تابع <code>DL_denoising</code> سیستم‌ فوق را یکپارچه می‌نماید و خروجی شما را می‌سازد.\n",
    "<br />    \n",
    "به منظور اینکه بتوانید پیاده‌سازی خود را چک نمایید، یک تصویر نویز پاک (<code>EE.png</code>) یک نمونه نویزی شده آن با انحراف معیار 20 (<code>EE_noisy.png</code>) و یک دیکشنری اولیه تصادفی (<code>random_dictionary_64_121.npy</code>) در اختیار شما قرار گرفته است. نتایج حاصل از نویززدایی این تصویر برای حالت‌های مختلف مختلف مشاهده کنید. در هر حالت ماتریس <code>D</code> و <code>X</code> خروجی را در Google Drive آپلود کنید. فایل‌ها را در حالت دسترسی عمومی قرار دهید. ID لینک هر فایل را در محل مربوطه بنویسید. با اجرای cell مربوطه باید هر شخصی بتواند فایل‌ها را دانلود و نتیجه نهایی را بازتولید کند.\n",
    " </font> </div>   "
   ]
  },
  {
   "cell_type": "code",
   "execution_count": null,
   "metadata": {
    "executionInfo": {
     "elapsed": 99,
     "status": "ok",
     "timestamp": 1659336089794,
     "user": {
      "displayName": "milad heidari",
      "userId": "01780670972758435893"
     },
     "user_tz": -270
    },
    "id": "QfLO4RUBIDU0"
   },
   "outputs": [],
   "source": [
    "def DL_denoising(address_image_noisy, address_init_dictionary, p, iter_num, sigma, noise_gain, SC_method, dl_method, m):\n",
    "    image_noisy = imageio.imread(address_image_noisy)[:, :].astype('float32')\n",
    "    dataset = create_dataset(image_noisy, p)\n",
    "    D = create_init_dictionary(address_init_dictionary)  \n",
    "    D, X = train_dictionary(D, dataset, iter_num, sigma, noise_gain, SC_method, dl_method)\n",
    "    image_denoised = reconstruct_image(D, X, image_noisy, p, m)\n",
    "    return (image_denoised, image_noisy, D, X)\n",
    "\n",
    "def Calculate_PSNR(image1, image2):\n",
    "    mse = np.sum((image1-image2)**2)/np.prod(image1.shape)\n",
    "    return 10*np.log10((255**2)/mse)"
   ]
  },
  {
   "cell_type": "code",
   "execution_count": null,
   "metadata": {
    "colab": {
     "base_uri": "https://localhost:8080/",
     "height": 304
    },
    "executionInfo": {
     "elapsed": 103,
     "status": "error",
     "timestamp": 1659336089800,
     "user": {
      "displayName": "milad heidari",
      "userId": "01780670972758435893"
     },
     "user_tz": -270
    },
    "id": "4OaKVsBbIDU1",
    "outputId": "5596f9ef-de27-45d4-b927-7e9e3758da01",
    "scrolled": false
   },
   "outputs": [],
   "source": [
    "image_denoised, image_noisy, D_MP_MOD, X_MP_MOD = DL_denoising('EE_noisy.png', 'random_dictionary_64_121.npy', p=8, iter_num=20, sigma=20, noise_gain=1.075, SC_method='MP', dl_method='MOD', m=0.5)\n",
    "np.save('D_MP_MOD', D_MP_MOD)\n",
    "np.save('X_MP_MOD', X_MP_MOD)\n",
    "\n",
    "# image_denoised, image_noisy, D_OMP_MOD, X_OMP_MOD = DL_denoising('EE_noisy.png', 'random_dictionary_64_121.npy', p=8, iter_num=20, sigma=20, noise_gain=1.075, SC_method='OMP', dl_method='MOD', m=0.5)\n",
    "# np.save('D_OMP_MOD', D_OMP_MOD)\n",
    "# np.save('X_OMP_MOD', X_OMP_MOD)\n",
    "\n",
    "# image_denoised, image_noisy, D_BOMP_MOD, X_BOMP_MOD = DL_denoising('EE_noisy.png', 'random_dictionary_64_121.npy', p=8, iter_num=20, sigma=20, noise_gain=1.075, SC_method='BOMP', dl_method='MOD', m=0.5)\n",
    "# np.save('D_BOMP_MOD', D_BOMP_MOD)\n",
    "# np.save('X_BOMP_MOD', X_BOMP_MOD)\n",
    "\n",
    "# image_denoised, image_noisy, D_MP_AKSVD, X_MP_AKSVD = DL_denoising('EE_noisy.png', 'random_dictionary_64_121.npy', p=8, iter_num=20, sigma=20, noise_gain=1.075, SC_method='MP', dl_method='AKSVD', m=0.5)\n",
    "# np.save('D_MP_AKSVD', D_MP_AKSVD)\n",
    "# np.save('X_MP_AKSVD', X_MP_AKSVD)\n",
    "\n",
    "# image_denoised, image_noisy, D_OMP_AKSVD, X_OMP_AKSVD = DL_denoising('EE_noisy.png', 'random_dictionary_64_121.npy', p=8, iter_num=20, sigma=20, noise_gain=1.075, SC_method='OMP', dl_method='AKSVD', m=0.5)\n",
    "# np.save('D_OMP_AKSVD', D_OMP_AKSVD)\n",
    "# np.save('X_OMP_AKSVD', X_OMP_AKSVD)\n",
    "\n",
    "# image_denoised, image_noisy, D_BOMP_AKSVD, X_BOMP_AKSVD = DL_denoising('EE_noisy.png', 'random_dictionary_64_121.npy', p=8, iter_num=20, sigma=20, noise_gain=1.075, SC_method='BOMP', dl_method='AKSVD', m=0.5)\n",
    "# np.save('D_BOMP_AKSVD', D_BOMP_AKSVD)\n",
    "# np.save('X_BOMP_AKSVD', X_BOMP_AKSVD)\n",
    "\n",
    "# # upload the saved files to Google Drive, then their access to 'Everyone with the link'. \n"
   ]
  },
  {
   "cell_type": "code",
   "execution_count": null,
   "metadata": {
    "executionInfo": {
     "elapsed": 86,
     "status": "aborted",
     "timestamp": 1659336089795,
     "user": {
      "displayName": "milad heidari",
      "userId": "01780670972758435893"
     },
     "user_tz": -270
    },
    "id": "8t19aUtzIDU2",
    "scrolled": false
   },
   "outputs": [],
   "source": [
    "plt.figure(figsize=(10,20))\n",
    "\n",
    "plt.subplot(4, 2, 1)\n",
    "plt.title('image_clean')\n",
    "plt.imshow(image_clean, cmap='gray')\n",
    "\n",
    "psnr = Calculate_PSNR(image_clean, image_noisy)\n",
    "print('\\n image_noisy')\n",
    "print(psnr)\n",
    "print(psnr >= 24)\n",
    "plt.subplot(4, 2, 2)\n",
    "plt.title('image_noisy ' + str(np.around(psnr, 3)))\n",
    "plt.imshow(image_noisy, cmap='gray')\n",
    "\n",
    "p = 8\n",
    "m = 0.5\n",
    "\n",
    "# --------------- MP_MOD --------------- #\n",
    "# download D\n",
    "!gdown # TODO\n",
    "# download X\n",
    "!gdown # TODO\n",
    "\n",
    "D = np.load('D_MP_MOD.npy')\n",
    "X = np.load('X_MP_MOD.npy')\n",
    "image_denoised = reconstruct_image(D, X, image_noisy, p, m)\n",
    "psnr = Calculate_PSNR(image_clean, image_denoised)\n",
    "print('\\n MP+MOD')\n",
    "print(psnr)\n",
    "print(psnr >= 24)\n",
    "plt.subplot(4, 2, 3)\n",
    "plt.title('MP+MOD ' + str(np.around(psnr, 3)))\n",
    "plt.imshow(image_denoised, cmap='gray')\n",
    "\n",
    "print(image_clean)\n",
    "print(image_denoised)\n",
    "\n",
    "# # --------------- OMP_MOD --------------- #\n",
    "# # download D\n",
    "# !gdown # TODO\n",
    "# # download X\n",
    "# !gdown # TODO\n",
    "\n",
    "# D = np.load('D_OMP_MOD.npy')\n",
    "# X = np.load('X_OMP_MOD.npy')\n",
    "# image_denoised = reconstruct_image(D, X, image_noisy, p, m)\n",
    "# psnr = Calculate_PSNR(image_clean, image_denoised)\n",
    "# print('\\n OMP+MOD')\n",
    "# print(psnr)\n",
    "# print(psnr >= 24)\n",
    "# plt.subplot(4, 2, 4)\n",
    "# plt.title('OMP+MOD ' + str(np.around(psnr, 3)))\n",
    "# plt.imshow(image_denoised, cmap='gray')\n",
    "\n",
    "# # --------------- BOMP_MOD --------------- #\n",
    "# # download D\n",
    "# !gdown # TODO\n",
    "# # download X\n",
    "# !gdown # TODO\n",
    "\n",
    "# D = np.load('D_BOMP_MOD.npy')\n",
    "# X = np.load('X_BOMP_MOD.npy')\n",
    "# image_denoised = reconstruct_image(D, X, image_noisy, p, m)\n",
    "# psnr = Calculate_PSNR(image_clean, image_denoised)\n",
    "# print('\\n BOMP+MOD')\n",
    "# print(psnr)\n",
    "# print(psnr >= 24)\n",
    "# plt.subplot(4, 2, 5)\n",
    "# plt.title('BOMP+MOD ' + str(np.around(psnr, 3)))\n",
    "# plt.imshow(image_denoised, cmap='gray')\n",
    "\n",
    "\n",
    "# # --------------- MP_AKSVD --------------- #\n",
    "# # download D\n",
    "# !gdown # TODO\n",
    "# # download X\n",
    "# !gdown # TODO\n",
    "\n",
    "# D = np.load('D_MP_AKSVD.npy')\n",
    "# X = np.load('X_MP_AKSVD.npy')\n",
    "# image_denoised = reconstruct_image(D, X, image_noisy, p, m)\n",
    "# psnr = Calculate_PSNR(image_clean, image_denoised)\n",
    "# print('\\n MP+AKSVD')\n",
    "# print(psnr)\n",
    "# print(psnr >= 24)\n",
    "# plt.subplot(4, 2, 6)\n",
    "# plt.title('MP+AKSVD ' + str(np.around(psnr, 3)))\n",
    "# plt.imshow(image_denoised, cmap='gray')\n",
    "\n",
    "# # --------------- OMP_AKSVD --------------- #\n",
    "# # download D\n",
    "# !gdown # TODO\n",
    "# # download X\n",
    "# !gdown # TODO\n",
    "\n",
    "# D = np.load('D_OMP_AKSVD.npy')\n",
    "# X = np.load('X_OMP_AKSVD.npy')\n",
    "# image_denoised = reconstruct_image(D, X, image_noisy, p, m)\n",
    "# psnr = Calculate_PSNR(image_clean, image_denoised)\n",
    "# print('\\n OMP+AKSVD')\n",
    "# print(psnr)\n",
    "# print(psnr >= 24)\n",
    "# plt.subplot(4, 2, 7)\n",
    "# plt.title('OMP+AKSVD ' + str(np.around(psnr, 3)))\n",
    "# plt.imshow(image_denoised, cmap='gray')\n",
    "\n",
    "# # --------------- BOMP_AKSVD --------------- #\n",
    "# # download D\n",
    "# !gdown # TODO\n",
    "# # download X\n",
    "# !gdown # TODO\n",
    "\n",
    "# D = np.load('D_BOMP_AKSVD.npy')\n",
    "# X = np.load('X_BOMP_AKSVD.npy')\n",
    "# image_denoised = reconstruct_image(D, X, image_noisy, p, m)\n",
    "# psnr = Calculate_PSNR(image_clean, image_denoised)\n",
    "# print('\\n BOMP+AKSVD')\n",
    "# print(psnr)\n",
    "# print(psnr >= 24)\n",
    "# plt.subplot(4, 2, 8)\n",
    "# plt.title('BOMP+AKSVD ' + str(np.around(psnr, 3)))\n",
    "# plt.imshow(image_denoised, cmap='gray')\n",
    "\n",
    "# plt.show()"
   ]
  },
  {
   "cell_type": "code",
   "execution_count": null,
   "metadata": {},
   "outputs": [],
   "source": [
    "fig = plt.figure(figsize=(15, 15))\n",
    "ax = fig.add_subplot(1, 1, 1)\n",
    "ax.imshow(image_denoised, cmap='gray')"
   ]
  },
  {
   "cell_type": "markdown",
   "metadata": {
    "id": "4yw14eXpIDU4"
   },
   "source": [
    "---"
   ]
  },
  {
   "cell_type": "markdown",
   "metadata": {
    "id": "rddaoNfWIDU5"
   },
   "source": [
    "# Give Us Feedback"
   ]
  },
  {
   "cell_type": "code",
   "execution_count": null,
   "metadata": {
    "executionInfo": {
     "elapsed": 87,
     "status": "aborted",
     "timestamp": 1659336089797,
     "user": {
      "displayName": "milad heidari",
      "userId": "01780670972758435893"
     },
     "user_tz": -270
    },
    "id": "5Oq6wmlAIDU5"
   },
   "outputs": [],
   "source": [
    "from ipywidgets import Label, IntSlider, Textarea, Button, Layout, HBox, VBox\n",
    "from IPython.display import clear_output\n",
    "\n",
    "IntSlider_list = {i:IntSlider(value=3, min=1, max=5) for i in range(5)}\n",
    "H1 = HBox([Label(\"How was the homework?\")])\n",
    "H2 = HBox([Label(\"Please rate the homework from 1 to 5 (lowest to highest).\")])\n",
    "H3 = HBox([Label(\"The assignment was instructive.\", layout=Layout(width=\"22%\")), IntSlider_list[0]])\n",
    "H4 = HBox([Label(\"It was not time consuming.\", layout=Layout(width=\"22%\")), IntSlider_list[1]])\n",
    "H5 = HBox([Label(\"The questions were clear.\", layout=Layout(width=\"22%\")), IntSlider_list[2]])\n",
    "H6 = HBox([Label(\"The homework was well organized.\", layout=Layout(width=\"22%\")), IntSlider_list[3]])\n",
    "H7 = HBox([Label(\"Finally, you had a good vibe!\", layout=Layout(width=\"22%\")), IntSlider_list[4]])\n",
    "textarea = Textarea(value='', placeholder='Any comments or suggestions', description='', disabled=False)\n",
    "button = Button(description='Submit', disabled=False, button_style='', tooltip='Click me', icon='paper-plane')\n",
    "H8 = HBox([textarea])\n",
    "H9 = HBox([button])\n",
    "\n",
    "def ff(button):\n",
    "    button.button_style = 'success'\n",
    "    score = sum([IntSlider_list[i].value for i in IntSlider_list]) / 5\n",
    "    x = round(score*4)/4\n",
    "    y = int(x) * '🌕' + ((x-int(x))==0 and not x==5) * '🌑' + ((x-int(x))==0.25) * '🌘' + ((x-int(x))==0.5) * '🌗' + ((x-int(x))==0.75) * '🌖' + (4-int(x)) * '🌑'\n",
    "    clear_output(wait=True)\n",
    "    display(VBox([H1, H2, H3, H4, H5, H6, H7, H8, H9]))\n",
    "    print(\"Thank you for your feedback! 😊\")\n",
    "    print(f\"Score: {y}\")\n",
    "    print(\"\\nFeedback:\",*[IntSlider_list[i].value for i in IntSlider_list])\n",
    "    print(textarea.value)\n",
    "\n",
    "button.on_click(ff)\n",
    "\n",
    "VBox([H1, H2, H3, H4, H5, H6, H7, H8, H9])"
   ]
  },
  {
   "cell_type": "code",
   "execution_count": null,
   "metadata": {
    "executionInfo": {
     "elapsed": 87,
     "status": "aborted",
     "timestamp": 1659336089798,
     "user": {
      "displayName": "milad heidari",
      "userId": "01780670972758435893"
     },
     "user_tz": -270
    },
    "id": "6eWMOys5IDU6"
   },
   "outputs": [],
   "source": [
    "# To export jupyter notebook to html, save your notebook and run this cell\n",
    "!jupyter nbconvert --to html PHW.ipynb"
   ]
  },
  {
   "cell_type": "code",
   "execution_count": null,
   "metadata": {
    "executionInfo": {
     "elapsed": 87,
     "status": "aborted",
     "timestamp": 1659336089799,
     "user": {
      "displayName": "milad heidari",
      "userId": "01780670972758435893"
     },
     "user_tz": -270
    },
    "id": "sZEr9MOEIDU7"
   },
   "outputs": [],
   "source": []
  }
 ],
 "metadata": {
  "colab": {
   "name": "PHW.ipynb",
   "provenance": []
  },
  "kernelspec": {
   "display_name": "Python 3 (ipykernel)",
   "language": "python",
   "name": "python3"
  },
  "language_info": {
   "codemirror_mode": {
    "name": "ipython",
    "version": 3
   },
   "file_extension": ".py",
   "mimetype": "text/x-python",
   "name": "python",
   "nbconvert_exporter": "python",
   "pygments_lexer": "ipython3",
   "version": "3.10.4"
  }
 },
 "nbformat": 4,
 "nbformat_minor": 1
}
