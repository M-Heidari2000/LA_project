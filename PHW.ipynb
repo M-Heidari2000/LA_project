{
 "cells": [
  {
   "cell_type": "markdown",
   "metadata": {
    "id": "C8jh_vQxIDTh"
   },
   "source": [
    "<div dir=\"rtl\" class=\"alert alert-block alert-info\"> <font size=\"5\" face=\"HM XNiloofar\"> \n",
    "<b> روش‌های ریاضی در مهندسی - دکتر امینی: تمرین شبیه‌سازی </b>\n",
    "</font> </div>\n",
    "\n",
    "<div dir=\"rtl\"> <font size=\"4\" face=\"HM XNiloofar\"> \n",
    "<br />\n",
    "مهلت تحویل تمرین: ۶ مرداد ۱۴۰۱ <br />\n",
    "فقط قسمت‌های <code>TODO</code> را پر کنید و  Jupyter Notebook تکمیل شده را به فرمت <code>ipynb</code> و <code>html</code> به عنوان گزارش خود در CW آپلود کنید. <br />\n",
    "ابهامات و سوالات خود در مورد این تمرین را می توانید با طراح تمرین مطرح کنید. <br />\n",
    "<div dir=\"ltr\">@hamidreza_ehteram </div> <br />  \n",
    "در این تمرین شما با روش‌های عددی در تجزیه‌های ماتریسی و یادگیری واژه‌نامه به منظور نویززدایی تصاویر  آشنا می‌شوید. <br />\n",
    "</font> </div>"
   ]
  },
  {
   "cell_type": "markdown",
   "metadata": {
    "id": "lGO8ZgsiIDT6"
   },
   "source": [
    "***You can jump directly to these sections:***\n",
    "\n",
    "+ [A. Matrix Decompositions](#A.-Matrix-Decompositions)\n",
    "    + [1. Schur](#1.-Schur)\n",
    "    + [2. SVD](#2.-SVD)\n",
    "    + [3. Cholesky](#3.-Cholesky)\n",
    "    + [4. QR](#4.-QR)\n",
    "+ [B. Dictionary Learning](#B.-Dictionary-Learning)\n",
    "    + [1. Create dataset](#1.-Create-dataset)\n",
    "    + [2. Initialize dictionary](#2.-Initialize-dictionary)    \n",
    "    + [3. Learn dictionary](#3.-Learn-dictionary) \n",
    "    + [4. Reconstruct image](#4.-Reconstruct-image)     \n",
    "    + [5. Evaluation](#5.-Evaluation)     \n",
    "+ [Give Us Feedback](#Give-Us-Feedback)\n",
    "\n",
    "---"
   ]
  },
  {
   "cell_type": "markdown",
   "metadata": {
    "id": "2pRsfADvIDT-"
   },
   "source": [
    "# A. Matrix Decompositions"
   ]
  },
  {
   "cell_type": "code",
   "execution_count": 1,
   "metadata": {
    "executionInfo": {
     "elapsed": 166,
     "status": "ok",
     "timestamp": 1659336089758,
     "user": {
      "displayName": "milad heidari",
      "userId": "01780670972758435893"
     },
     "user_tz": -270
    },
    "id": "FjhROSbDIDUB"
   },
   "outputs": [],
   "source": [
    "# The allowed libraries\n",
    "import time\n",
    "import numpy as np"
   ]
  },
  {
   "cell_type": "markdown",
   "metadata": {
    "id": "DSbXHDIkIDUG"
   },
   "source": [
    "## 1. Schur\n",
    "\n",
    "\n",
    "$$A \\in \\mathbb{R}^{n\\times n} \\text{ is a symmetric matrix} \\iff \\exists \\text{ an orthogonal matrix } Q: Q^\\top A Q = \\Lambda = \\text{diag}(\\lambda_1,\\ldots,\\lambda_n)$$"
   ]
  },
  {
   "cell_type": "markdown",
   "metadata": {
    "id": "Wc898eBvIDUH"
   },
   "source": [
    "<div dir=\"rtl\"> <font size=\"4\" face=\"HM XNiloofar\">\n",
    "الگوریتم jacobi را در حالت  cyclic پیاده‌سازی کنید.\n",
    "</font> </div>\n",
    "\n",
    "```python\n",
    "d, Q = my_schur(A)\n",
    "```\n",
    "\n",
    "<div dir=\"rtl\"> <font size=\"4\" face=\"HM XNiloofar\"> \n",
    "ورودی یک ماتریس متقارن حقیقی دلخواه و خروجی مقادیر ویژه و بردار‌های ویژه متناظر در تجزیه schur است. \n",
    "<br />\n",
    "Cell مربوط به ارزیابی کد را اجرا کنید. خروجی الگوریتم خود را با خروجی تابع numpy مقایسه کنید. درباره‌ی تفاوت‌ها توضیح دهید.\n",
    "<br />\n",
    "Cell تست زمان و صحت را جهت ارزیابی کارایی الگوریتم خود اجرا کنید.\n",
    "</font> </div>"
   ]
  },
  {
   "cell_type": "code",
   "execution_count": 2,
   "metadata": {
    "executionInfo": {
     "elapsed": 157,
     "status": "ok",
     "timestamp": 1659336089761,
     "user": {
      "displayName": "milad heidari",
      "userId": "01780670972758435893"
     },
     "user_tz": -270
    },
    "id": "ZNywWejaIDUJ"
   },
   "outputs": [],
   "source": [
    "def off_diag(A):\n",
    "    result = np.linalg.norm(A)**2 - np.linalg.norm(np.diag(A))**2\n",
    "    if result < 0:\n",
    "        return 0\n",
    "    return np.sqrt(result)\n",
    "\n",
    "def my_schur(A):\n",
    "    \n",
    "    n = A.shape[0]\n",
    "    Q = np.eye(n, n)\n",
    "    tol = 1e-6\n",
    "    delta = tol * np.linalg.norm(A)\n",
    "    \n",
    "    while off_diag(A) > delta:\n",
    "        for p in range(n):\n",
    "            for q in range(p+1, n):\n",
    "                theta = 0.5 * np.arctan(2*A[p, q]/(A[q, q] - A[p, p]))\n",
    "                J_theta = np.array([[np.cos(theta), np.sin(theta)], [-np.sin(theta), np.cos(theta)]])\n",
    "                A[[p, q], :] = J_theta.T @ A[[p, q], :]\n",
    "                A[:, [p, q]] = A[:, [p, q]] @ J_theta\n",
    "                Q[:, [p, q]] = Q[:, [p, q]] @ J_theta\n",
    "                \n",
    "    d = np.diag(A)\n",
    "    return d, Q"
   ]
  },
  {
   "cell_type": "code",
   "execution_count": 3,
   "metadata": {
    "colab": {
     "base_uri": "https://localhost:8080/"
    },
    "executionInfo": {
     "elapsed": 154,
     "status": "ok",
     "timestamp": 1659336089763,
     "user": {
      "displayName": "milad heidari",
      "userId": "01780670972758435893"
     },
     "user_tz": -270
    },
    "id": "YdrVAOhtIDUK",
    "outputId": "9d3d1e93-eae8-4b9b-8955-c1fb75baecd5"
   },
   "outputs": [
    {
     "name": "stdout",
     "output_type": "stream",
     "text": [
      "numpy| orthogonal test error ---> 1.4807481923543072e-14\n",
      "numpy| correctness test error ---> 2.6920569051400402e-14\n",
      "yours| orthogonal test error ---> 1.5391120871294226e-15\n",
      "yours| correctness test error ---> 2.7753683124529916e-12\n",
      "A = \n",
      "[[ 0.502  0.362  0.28  -0.18   0.267  1.404  0.108 -1.302]\n",
      " [ 0.362 -1.492 -0.601 -0.569  0.58   0.458  0.381 -0.782]\n",
      " [ 0.28  -0.601  1.255  0.044  0.174  0.043 -0.44  -0.829]\n",
      " [-0.18  -0.569  0.044  0.299 -0.989 -0.71  -1.271 -0.775]\n",
      " [ 0.267  0.58   0.174 -0.989  0.583  1.376 -0.252 -1.804]\n",
      " [ 1.404  0.458  0.043 -0.71   1.376  1.01  -0.681  0.268]\n",
      " [ 0.108  0.381 -0.44  -1.271 -0.252 -0.681 -0.248  0.469]\n",
      " [-1.302 -0.782 -0.829 -0.775 -1.804  0.268  0.469 -0.144]]\n",
      "d = \n",
      "[ 3.989 -3.006 -1.797 -1.846  2.337  0.34   0.948  0.802]\n",
      "my_d = \n",
      "[ 3.989 -1.797  2.337  0.948  0.34  -3.006 -1.846  0.802]\n",
      "Q = \n",
      "[[-0.432 -0.295  0.333  0.082 -0.035 -0.754 -0.174 -0.094]\n",
      " [-0.176 -0.362 -0.47  -0.717  0.168 -0.079 -0.018  0.261]\n",
      " [-0.178 -0.134 -0.177 -0.083 -0.548  0.003  0.638 -0.452]\n",
      " [ 0.176 -0.268 -0.467  0.324 -0.56  -0.041 -0.497  0.11 ]\n",
      " [-0.544 -0.423  0.101  0.368  0.069  0.483  0.139  0.35 ]\n",
      " [-0.514  0.297 -0.384  0.082  0.251  0.152 -0.343 -0.538]\n",
      " [ 0.097  0.062 -0.508  0.467  0.387 -0.391  0.42   0.178]\n",
      " [ 0.387 -0.649  0.05   0.089  0.374  0.121 -0.046 -0.512]]\n",
      "my_Q = \n",
      "[[ 0.432 -0.333  0.035  0.174 -0.754 -0.295  0.082  0.094]\n",
      " [ 0.176  0.47  -0.168  0.018 -0.079 -0.362 -0.717 -0.261]\n",
      " [ 0.178  0.177  0.548 -0.638  0.003 -0.134 -0.083  0.452]\n",
      " [-0.176  0.467  0.56   0.497 -0.041 -0.268  0.324 -0.11 ]\n",
      " [ 0.544 -0.101 -0.069 -0.139  0.483 -0.423  0.368 -0.35 ]\n",
      " [ 0.514  0.384 -0.251  0.343  0.152  0.297  0.082  0.538]\n",
      " [-0.097  0.508 -0.387 -0.42  -0.391  0.062  0.467 -0.178]\n",
      " [-0.387 -0.05  -0.374  0.046  0.121 -0.649  0.089  0.512]]\n"
     ]
    }
   ],
   "source": [
    "# evaluate\n",
    "n = 8\n",
    "A = np.random.randn(n,n)\n",
    "A = (A + A.transpose()) / 2\n",
    "\n",
    "# numpy code\n",
    "d, Q = np.linalg.eig(A.copy())\n",
    "print(f'numpy| orthogonal test error ---> {np.linalg.norm(np.eye(n) - Q @ Q.T)}')\n",
    "print(f'numpy| correctness test error ---> {np.linalg.norm(A - Q @ np.diag(d) @ Q.T)}')\n",
    "\n",
    "# your code\n",
    "my_d, my_Q = my_schur(A.copy())\n",
    "print(f'yours| orthogonal test error ---> {np.linalg.norm(np.eye(n) - my_Q @ my_Q.T)}')\n",
    "print(f'yours| correctness test error ---> {np.linalg.norm(A - my_Q @ np.diag(my_d) @ my_Q.T)}')\n",
    "\n",
    "# print\n",
    "print(f'A = \\n{np.around(A, 3)}')\n",
    "print(f'd = \\n{np.around(d, 3)}')\n",
    "print(f'my_d = \\n{np.around(my_d, 3)}')\n",
    "print(f'Q = \\n{np.around(Q, 3)}')\n",
    "print(f'my_Q = \\n{np.around(my_Q, 3)}')"
   ]
  },
  {
   "cell_type": "markdown",
   "metadata": {
    "id": "weyHxIvoIDUO"
   },
   "source": [
    "**Your answer:** \n",
    "\n",
    "<div dir=\"rtl\"> <font size=\"3\" face=\"HM XNiloofar\"> \n",
    "همانطور که می دانیم ماتریس Q شامل بردار های ویژه و ماتریس A شامل مقادیر ویژه ماتریس ورودی هستند.\n",
    "<br/>\n",
    "تفاوت جواب الگوریتم ما با numpy فقط در ترتیب ستون ها و مقادیر ویژه است.از نظر زمانی هم numpy سریع تر است. \n",
    "</font> </div>"
   ]
  },
  {
   "cell_type": "code",
   "execution_count": 4,
   "metadata": {
    "executionInfo": {
     "elapsed": 132,
     "status": "ok",
     "timestamp": 1659336089764,
     "user": {
      "displayName": "milad heidari",
      "userId": "01780670972758435893"
     },
     "user_tz": -270
    },
    "id": "RuNvFxKtIDUQ"
   },
   "outputs": [],
   "source": [
    "# # time and correctness test\n",
    "# numpy_test = {'time': 0.0, 'orthogonal test error':0.0, 'correctness test error':0.0}\n",
    "# yours_test = {'time': 0.0, 'orthogonal test error':0.0, 'correctness test error':0.0}\n",
    "\n",
    "# num_test = 100\n",
    "# for i in range(num_test):\n",
    "#     n = np.random.randint(40, 50)\n",
    "#     A = np.random.randn(n,n)\n",
    "#     A = (A + A.transpose()) / 2\n",
    "\n",
    "#     # numpy code\n",
    "#     start_time = time.time()\n",
    "#     d, Q = np.linalg.eig(A.copy())\n",
    "    \n",
    "#     numpy_test['time'] += time.time() - start_time\n",
    "#     numpy_test['orthogonal test error'] += np.linalg.norm(np.eye(n) - Q @ Q.T)\n",
    "#     numpy_test['correctness test error'] += np.linalg.norm(A - Q @ np.diag(d) @ Q.T)\n",
    "\n",
    "#     # your code\n",
    "#     start_time = time.time()\n",
    "#     my_d, my_Q = my_schur(A.copy())\n",
    "    \n",
    "#     yours_test['time'] += time.time() - start_time\n",
    "#     yours_test['orthogonal test error'] += np.linalg.norm(np.eye(n) - my_Q @ my_Q.T)\n",
    "#     yours_test['correctness test error'] += np.linalg.norm(A - my_Q @ np.diag(my_d) @ my_Q.T)\n",
    "\n",
    "# for name in numpy_test:\n",
    "#     numpy_test[name] /= num_test\n",
    "#     yours_test[name] /= num_test\n",
    "\n",
    "# yours_check = {'time': yours_test['time'] <= 0.5, \n",
    "#                'orthogonal test error': yours_test['orthogonal test error'] <= 1e-5, \n",
    "#                'correctness test error': yours_test['correctness test error'] <= 1e-5}\n",
    "\n",
    "# print(f'numpy| test ---> {numpy_test}')\n",
    "# print(f'yours| test ---> {yours_test}')\n",
    "# print(f'yours| check ---> {yours_check}')"
   ]
  },
  {
   "cell_type": "markdown",
   "metadata": {
    "id": "4oc7CnpuIDUR"
   },
   "source": [
    "## 2. SVD\n",
    "\n",
    "$$A \\in \\mathbb{R}^{m\\times n} \\text{ is a matrix} \\iff \\exists \\text{ two orthogonal matrices } U \\text{ and } V: U^\\top A V = \\Sigma = \\text{diag}(\\sigma_1,\\ldots,\\sigma_p), p=\\min\\{m,n\\}, \\sigma_1 \\geq \\ldots \\geq \\sigma_p \\geq 0$$"
   ]
  },
  {
   "cell_type": "markdown",
   "metadata": {
    "id": "-s8GYzs-IDUS"
   },
   "source": [
    "<div dir=\"rtl\"> <font size=\"4\" face=\"HM XNiloofar\">\n",
    "الگوریتم two-sided را در حالت  cyclic پیاده‌سازی کنید.\n",
    "</font> </div>\n",
    "\n",
    "```python\n",
    "U, s, VT = my_svd(A)\n",
    "```\n",
    "\n",
    "<div dir=\"rtl\"> <font size=\"4\" face=\"HM XNiloofar\"> \n",
    "ورودی یک ماتریس حقیقی دلخواه و خروجی ماتریس بردارهای تکین چپ، مقادیر تکین و ترانهاده ماتریس بردارهای تکین راست است. \n",
    "<br />\n",
    "<b>ملاحظه.</b> الگوریتم شما باید ماتریس‌های خروجی را به صورتی به دست آورد که مقادیر تکین مثبت و نزولی باشند\n",
    "<br />\n",
    "Cell مربوط به ارزیابی کد را اجرا کنید. خروجی الگوریتم خود را با خروجی تابع numpy مقایسه کنید. درباره‌ی تفاوت‌ها توضیح دهید.\n",
    "<br />\n",
    "Cell تست زمان و صحت را جهت ارزیابی کارایی الگوریتم خود اجرا کنید.\n",
    "</font> </div>"
   ]
  },
  {
   "cell_type": "code",
   "execution_count": 5,
   "metadata": {
    "executionInfo": {
     "elapsed": 131,
     "status": "ok",
     "timestamp": 1659336089766,
     "user": {
      "displayName": "milad heidari",
      "userId": "01780670972758435893"
     },
     "user_tz": -270
    },
    "id": "c9Xv4lGBIDUS"
   },
   "outputs": [],
   "source": [
    "def my_svd(A):\n",
    "    \n",
    "    m, n = A.shape\n",
    "    is_wide = n > m\n",
    "    if is_wide:\n",
    "        A = A.T\n",
    "        m, n = A.shape\n",
    "\n",
    "\n",
    "    UT = np.eye(m, m)\n",
    "    V = np.eye(n, n)\n",
    "    tol = 1e-6\n",
    "    delta = tol * np.linalg.norm(A)\n",
    "    \n",
    "    while off_diag(A) > delta:\n",
    "        for q in range(n):\n",
    "            for p in range(q+1, n):\n",
    "                # Making sub-matrix symmetric first\n",
    "                alpha_sym = np.arctan2((A[q, p] - A[p, q]), (A[p, p] + A[q, q]))\n",
    "                J_alpha_sym = np.array([[np.cos(alpha_sym), np.sin(alpha_sym)], [-np.sin(alpha_sym), np.cos(alpha_sym)]])\n",
    "                UT[[q, p], :] = J_alpha_sym.T @ UT[[q, p], :]\n",
    "                A[[q, p], :] = J_alpha_sym.T @ A[[q, p], :]\n",
    "                theta = 0.5 * np.arctan2(2*A[q, p], (A[p, p] - A[q, q]))\n",
    "                J_theta = np.array([[np.cos(theta), np.sin(theta)], [-np.sin(theta), np.cos(theta)]])\n",
    "                A[[q, p], :] = J_theta.T @ A[[q, p], :]\n",
    "                UT[[q, p], :] = J_theta.T @ UT[[q, p], :]\n",
    "                A[:, [q, p]] = A[:, [q, p]] @ J_theta\n",
    "                V[:, [q, p]] = V[:, [q, p]] @ J_theta\n",
    "            for p in range(n, m):\n",
    "                theta = np.arctan(-A[p, q]/A[q, q])\n",
    "                J_theta = np.array([[np.cos(theta), np.sin(theta)], [-np.sin(theta), np.cos(theta)]])\n",
    "                A[[q, p], :] = J_theta.T @ A[[q, p], :]\n",
    "                UT[[q, p], :] = J_theta.T @ UT[[q, p], :]\n",
    "    \n",
    "    U = UT.T\n",
    "    VT = V.T\n",
    "    s = np.diag(A)\n",
    "    s.setflags(write=True)\n",
    "    U.setflags(write=True)\n",
    "    \n",
    "    negative_ind = np.where(s < 0)\n",
    "    s[negative_ind] = -s[negative_ind]\n",
    "    U[:, negative_ind] = -U[:, negative_ind]\n",
    "    \n",
    "    s = s[::-1]\n",
    "    U[:, :n] = U[:, n-1::-1]\n",
    "    VT = VT[::-1, :]\n",
    "    UT = U.T\n",
    "    V = VT.T\n",
    "    \n",
    "    if is_wide:\n",
    "        U, s, VT = V, s.T, U.T\n",
    "    \n",
    "    return U, s, VT"
   ]
  },
  {
   "cell_type": "code",
   "execution_count": 6,
   "metadata": {
    "colab": {
     "base_uri": "https://localhost:8080/"
    },
    "executionInfo": {
     "elapsed": 130,
     "status": "ok",
     "timestamp": 1659336089768,
     "user": {
      "displayName": "milad heidari",
      "userId": "01780670972758435893"
     },
     "user_tz": -270
    },
    "id": "yDNzE0H0IDUU",
    "outputId": "a4073654-1a2f-49ef-cceb-40119cb64e24"
   },
   "outputs": [
    {
     "name": "stdout",
     "output_type": "stream",
     "text": [
      "numpy| orthogonal test error ---> 2.092001397792115e-14\n",
      "numpy| correctness test error ---> 1.0527699202052564e-13\n",
      "yours| orthogonal test error ---> 2.6071492497845667e-14\n",
      "yours| correctness test error ---> 2.743098180235027e-08\n",
      "A = \n",
      "[[ 0.108 -0.501 -0.236 ...  0.377  2.044 -0.711]\n",
      " [-0.05   1.369 -0.783 ... -1.49  -0.026 -0.656]\n",
      " [ 0.213  0.095  0.566 ... -0.14   0.508  0.894]\n",
      " ...\n",
      " [ 0.349 -1.059  0.361 ... -0.793 -0.497  1.038]\n",
      " [-0.631 -0.676 -0.04  ... -0.439  0.458 -0.48 ]\n",
      " [-0.568  0.643  0.984 ...  1.47   0.008  0.008]]\n",
      "U = \n",
      "[[-0.136  0.126 -0.069 ... -0.13  -0.007 -0.031]\n",
      " [-0.094  0.078 -0.142 ... -0.065  0.041 -0.237]\n",
      " [ 0.116  0.18  -0.119 ... -0.109  0.176 -0.196]\n",
      " ...\n",
      " [ 0.125  0.066  0.058 ...  0.017 -0.271  0.182]\n",
      " [ 0.03  -0.122 -0.153 ...  0.062  0.125 -0.131]\n",
      " [-0.029 -0.048  0.076 ... -0.257  0.076 -0.024]]\n",
      "my_U = \n",
      "[[ 0.136 -0.126 -0.069 ...  0.13   0.007  0.031]\n",
      " [ 0.094 -0.078 -0.142 ...  0.065 -0.041  0.237]\n",
      " [-0.116 -0.18  -0.119 ...  0.109 -0.176  0.196]\n",
      " ...\n",
      " [-0.125 -0.066  0.058 ... -0.017  0.271 -0.182]\n",
      " [-0.03   0.122 -0.153 ... -0.062 -0.125  0.131]\n",
      " [ 0.029  0.048  0.076 ...  0.257 -0.076  0.024]]\n",
      "s = \n",
      "[12.453 12.184 11.618 10.979 10.846 10.244 10.105  9.677  9.478  9.315\n",
      "  8.857  8.557  8.159  7.847  7.719  7.284  6.778  6.611  6.358  6.069\n",
      "  5.81   5.599  5.539  5.302  4.906  4.638  4.477  4.221  3.919  3.457\n",
      "  3.37   3.165  2.737  2.45   2.399  2.341  1.956  1.851  1.233  0.875]\n",
      "my_s = \n",
      "[12.453 12.184 11.618 10.979 10.846 10.244 10.105  9.677  9.478  9.315\n",
      "  8.857  8.557  8.159  7.847  7.719  7.284  6.778  6.611  6.358  6.069\n",
      "  5.81   5.599  5.539  5.302  4.906  4.638  4.477  4.221  3.919  3.457\n",
      "  3.37   3.165  2.737  2.45   2.399  2.341  1.956  1.851  1.233  0.875]\n",
      "VT = \n",
      "[[ 0.027 -0.155  0.175 ... -0.107  0.015  0.012]\n",
      " [ 0.093 -0.132  0.048 ... -0.023 -0.037  0.079]\n",
      " [-0.023 -0.213  0.186 ...  0.278 -0.111 -0.062]\n",
      " ...\n",
      " [ 0.006  0.09  -0.01  ... -0.004  0.043  0.015]\n",
      " [-0.089  0.146 -0.069 ...  0.052  0.2    0.035]\n",
      " [ 0.14   0.304 -0.178 ...  0.08  -0.059  0.109]]\n",
      "my_VT = \n",
      "[[-0.027  0.155 -0.175 ...  0.107 -0.015 -0.012]\n",
      " [-0.093  0.132 -0.048 ...  0.023  0.037 -0.079]\n",
      " [-0.023 -0.213  0.186 ...  0.278 -0.111 -0.062]\n",
      " ...\n",
      " [-0.204  0.187 -0.015 ...  0.207 -0.066  0.034]\n",
      " [ 0.034  0.148  0.075 ...  0.083  0.389  0.05 ]\n",
      " [-0.02   0.162  0.12  ...  0.016 -0.127  0.098]]\n"
     ]
    }
   ],
   "source": [
    "# evaluate\n",
    "# m, n = 8, 6\n",
    "m, n = 40, 50\n",
    "A = np.random.randn(m,n)\n",
    "\n",
    "# numpy code\n",
    "U, s, VT = np.linalg.svd(A.copy())\n",
    "S = np.zeros((m,n)); S[[range(min(m,n))],[range(min(m,n))]] = s\n",
    "print(f'numpy| orthogonal test error ---> {np.linalg.norm(np.eye(m) - U @ U.T) + np.linalg.norm(np.eye(n) - VT @ VT.T)}')\n",
    "print(f'numpy| correctness test error ---> {np.linalg.norm(A - U @ S @ VT)}')\n",
    "\n",
    "# your code\n",
    "my_U, my_s, my_VT  = my_svd(A.copy())\n",
    "my_S = np.zeros((m,n)); my_S[[range(min(m,n))],[range(min(m,n))]] = my_s\n",
    "print(f'yours| orthogonal test error ---> {np.linalg.norm(np.eye(m) - my_U @ my_U.T) + np.linalg.norm(np.eye(n) - my_VT @ my_VT.T)}')\n",
    "print(f'yours| correctness test error ---> {np.linalg.norm(A - my_U @ my_S @ my_VT)}')\n",
    "\n",
    "# print\n",
    "print(f'A = \\n{np.around(A, 3)}')\n",
    "print(f'U = \\n{np.around(U, 3)}')\n",
    "print(f'my_U = \\n{np.around(my_U, 3)}')\n",
    "print(f's = \\n{np.around(s, 3)}')\n",
    "print(f'my_s = \\n{np.around(my_s, 3)}')\n",
    "print(f'VT = \\n{np.around(VT, 3)}')\n",
    "print(f'my_VT = \\n{np.around(my_VT, 3)}')"
   ]
  },
  {
   "cell_type": "markdown",
   "metadata": {
    "id": "9doMk3VmIDUW"
   },
   "source": [
    "**Your answer:**\n",
    "\n",
    "<div dir=\"rtl\"> <font size=\"3\" face=\"HM XNiloofar\"> \n",
    "در پایان این الگوریتم بعضی از مقادیر تکین منفی هستند که برای مثبت کردن آن ها یا می توانیم علامت ستون متناظر در U را عوض کنیم و یا علامت سطر متناظر با آن در VT و علامت مقدار تکین را مثبت در نظر بگیریم. ما در اینجا علامت ستون U را تغییر داده ایم. بعد از مثبت کردن علامت مقادیر تکین آن ها sort می کنیم و ستون متناظر در U و سطر متناظر در VT را هم ظبق این مقادیر تکین عوض می کنیم. توجه شود که ستون های U و سطر های VT که متناظر مقادیر تکین صفر هستند در ساختن ماتریس اصلی نقشی ندارند (در واقع ضریب آن ها همان مقدار تکین است که صفر است) و برای همین ترتیب آن ها اهمیت ندارد. در کل تفاوتی که بین جواب ها دیده می شود در علامت ستون های U و سطر های VT است. از نظر زمانی هم الگوریتم numpy بسیار سریع تر است.\n",
    "</font> </div>"
   ]
  },
  {
   "cell_type": "code",
   "execution_count": 7,
   "metadata": {
    "executionInfo": {
     "elapsed": 117,
     "status": "ok",
     "timestamp": 1659336089769,
     "user": {
      "displayName": "milad heidari",
      "userId": "01780670972758435893"
     },
     "user_tz": -270
    },
    "id": "b_arn2WHIDUX"
   },
   "outputs": [],
   "source": [
    "# # time and correctness test\n",
    "# numpy_test = {'time': 0.0, 'orthogonal test error':0.0, 'correctness test error':0.0}\n",
    "# yours_test = {'time': 0.0, 'orthogonal test error':0.0, 'correctness test error':0.0}\n",
    "\n",
    "# num_test = 100\n",
    "# for i in range(num_test):\n",
    "#     m, n = np.random.randint(40, 50), np.random.randint(40, 50)\n",
    "#     A = np.random.randn(m,n)\n",
    "\n",
    "#     # numpy code\n",
    "#     start_time = time.time()\n",
    "#     U, s, VT = np.linalg.svd(A.copy())\n",
    "#     S = np.zeros((m,n)); S[[range(min(m,n))],[range(min(m,n))]] = s\n",
    "    \n",
    "#     numpy_test['time'] += time.time() - start_time\n",
    "#     numpy_test['orthogonal test error'] += np.linalg.norm(np.eye(m) - U @ U.T) + np.linalg.norm(np.eye(n) - VT @ VT.T)\n",
    "#     numpy_test['correctness test error'] += np.linalg.norm(A - U @ S @ VT)\n",
    "\n",
    "#     # your code\n",
    "#     start_time = time.time()\n",
    "#     my_U, my_s, my_VT  = my_svd(A.copy())\n",
    "#     my_S = np.zeros((m,n)); my_S[[range(min(m,n))],[range(min(m,n))]] = my_s\n",
    "    \n",
    "#     yours_test['time'] += time.time() - start_time\n",
    "#     yours_test['orthogonal test error'] += np.linalg.norm(np.eye(m) - my_U @ my_U.T) + np.linalg.norm(np.eye(n) - my_VT @ my_VT.T)\n",
    "#     yours_test['correctness test error'] += np.linalg.norm(A - my_U @ my_S @ my_VT)\n",
    "\n",
    "# for name in numpy_test:\n",
    "#     numpy_test[name] /= num_test\n",
    "#     yours_test[name] /= num_test\n",
    "\n",
    "# yours_check = {'time': yours_test['time'] <= 1.0, \n",
    "#                'orthogonal test error': yours_test['orthogonal test error'] <= 1e-5, \n",
    "#                'correctness test error': yours_test['correctness test error'] <= 1e-5}\n",
    "\n",
    "# print(f'numpy| test ---> {numpy_test}')\n",
    "# print(f'yours| test ---> {yours_test}')\n",
    "# print(f'yours| check ---> {yours_check}')"
   ]
  },
  {
   "cell_type": "markdown",
   "metadata": {
    "id": "x80Hae26IDUa"
   },
   "source": [
    "## 3. Cholesky\n",
    "\n",
    "$$A \\in \\mathbb{R}^{n\\times n} \\text{ is a symmetric positive definite matrix} \\iff \\exists \\text{ a lower-triangular matrix } G: A = G G^\\top$$"
   ]
  },
  {
   "cell_type": "markdown",
   "metadata": {
    "id": "Vj3qqvdCIDUb"
   },
   "source": [
    "<div dir=\"rtl\"> <font size=\"4\" face=\"HM XNiloofar\">\n",
    "به کمک تبدیل‌های گوسی الگوریتم عددی برای محاسبه تجزیه Cholesky  پیاده‌سازی کنید.\n",
    "</font> </div>\n",
    "\n",
    "```python\n",
    "G = my_cholesky(A)\n",
    "```\n",
    "\n",
    "<div dir=\"rtl\"> <font size=\"4\" face=\"HM XNiloofar\"> \n",
    " ورودی یک ماتریس متقارن مثبت معین دلخواه و خروجی فاکتور Cholesky   است. \n",
    "<br />\n",
    "Cell مربوط به ارزیابی کد را اجرا کنید. خروجی الگوریتم خود را با خروجی تابع numpy مقایسه کنید. درباره‌ی تفاوت‌ها توضیح دهید.\n",
    "<br />\n",
    "Cell تست زمان و صحت را جهت ارزیابی کارایی الگوریتم خود اجرا کنید.\n",
    "</font> </div>"
   ]
  },
  {
   "cell_type": "code",
   "execution_count": 8,
   "metadata": {
    "executionInfo": {
     "elapsed": 115,
     "status": "ok",
     "timestamp": 1659336089771,
     "user": {
      "displayName": "milad heidari",
      "userId": "01780670972758435893"
     },
     "user_tz": -270
    },
    "id": "2xo8gKAcIDUd"
   },
   "outputs": [],
   "source": [
    "def my_cholesky(A):\n",
    "    \n",
    "    n = A.shape[0]\n",
    "    L = np.eye(n, n)\n",
    "    \n",
    "    for q in range(n-1):\n",
    "        t = np.zeros((n, 1))\n",
    "        e = np.zeros((n, 1))\n",
    "        t[q+1:n, 0] = A[q+1:n, q]/A[q, q]\n",
    "        e[q, 0] = 1\n",
    "        A[q+1:n, :] = A[q+1:n, :] - t[q+1:n, [0]] @ A[[q], :]\n",
    "        L[:, [q]] = L @ (e + t)\n",
    "    \n",
    "    G = L\n",
    "    for i in range(n):\n",
    "        G[:, i] = G[:, i]*np.sqrt(A[i, i])    \n",
    "    \n",
    "    return G"
   ]
  },
  {
   "cell_type": "code",
   "execution_count": 9,
   "metadata": {
    "executionInfo": {
     "elapsed": 114,
     "status": "ok",
     "timestamp": 1659336089773,
     "user": {
      "displayName": "milad heidari",
      "userId": "01780670972758435893"
     },
     "user_tz": -270
    },
    "id": "iIssgYvVIDUe"
   },
   "outputs": [
    {
     "name": "stdout",
     "output_type": "stream",
     "text": [
      "numpy| lower-triangular test error ---> 0.0\n",
      "numpy| correctness test error ---> 1.0695410826756265e-15\n",
      "yours| lower-triangular test error ---> 0.0\n",
      "yours| correctness test error ---> 1.3019859545568024e-15\n",
      "A = \n",
      "[[ 3.125  0.419 -1.101 -0.71  -1.376 -0.054  1.702  1.832]\n",
      " [ 0.419  1.081  0.046  0.165  1.315  0.902 -0.561  0.572]\n",
      " [-1.101  0.046  2.47  -0.042  0.023  0.446 -0.041 -0.183]\n",
      " [-0.71   0.165 -0.042  0.613  0.79   0.38  -0.753 -0.642]\n",
      " [-1.376  1.315  0.023  0.79   3.886  0.786 -2.058  0.097]\n",
      " [-0.054  0.902  0.446  0.38   0.786  2.144 -1.314 -0.549]\n",
      " [ 1.702 -0.561 -0.041 -0.753 -2.058 -1.314  2.197  1.292]\n",
      " [ 1.832  0.572 -0.183 -0.642  0.097 -0.549  1.292  2.064]]\n",
      "G = \n",
      "[[ 1.768  0.     0.     0.     0.     0.     0.     0.   ]\n",
      " [ 0.237  1.012  0.     0.     0.     0.     0.     0.   ]\n",
      " [-0.623  0.192  1.43   0.     0.     0.     0.     0.   ]\n",
      " [-0.402  0.257 -0.238  0.574  0.     0.     0.     0.   ]\n",
      " [-0.778  1.481 -0.521 -0.046  0.901  0.     0.     0.   ]\n",
      " [-0.031  0.898  0.178  0.314 -0.511  0.972  0.     0.   ]\n",
      " [ 0.963 -0.779  0.495 -0.084  0.11  -0.608  0.172  0.   ]\n",
      " [ 1.036  0.323  0.28  -0.423  0.612 -0.423  0.274  0.033]]\n",
      "my_G = \n",
      "[[ 1.768  0.     0.     0.     0.     0.     0.     0.   ]\n",
      " [ 0.237  1.012  0.     0.     0.     0.     0.     0.   ]\n",
      " [-0.623  0.192  1.43   0.     0.     0.     0.     0.   ]\n",
      " [-0.402  0.257 -0.238  0.574  0.     0.     0.     0.   ]\n",
      " [-0.778  1.481 -0.521 -0.046  0.901  0.     0.     0.   ]\n",
      " [-0.031  0.898  0.178  0.314 -0.511  0.972  0.     0.   ]\n",
      " [ 0.963 -0.779  0.495 -0.084  0.11  -0.608  0.172  0.   ]\n",
      " [ 1.036  0.323  0.28  -0.423  0.612 -0.423  0.274  0.033]]\n"
     ]
    }
   ],
   "source": [
    "# evaluate\n",
    "n = 8\n",
    "A = np.random.randn(n,n)\n",
    "A = A @ np.diag(np.random.rand(n)) @ A.T\n",
    "\n",
    "# numpy code\n",
    "G = np.linalg.cholesky(A.copy())\n",
    "print(f'numpy| lower-triangular test error ---> {np.linalg.norm(np.triu(G,1))}')\n",
    "print(f'numpy| correctness test error ---> {np.linalg.norm(A - G @ G.T)}')\n",
    "\n",
    "# your code\n",
    "my_G = my_cholesky(A.copy())\n",
    "print(f'yours| lower-triangular test error ---> {np.linalg.norm(np.triu(my_G,1))}')\n",
    "print(f'yours| correctness test error ---> {np.linalg.norm(A - my_G @ my_G.T)}')\n",
    "\n",
    "# print\n",
    "print(f'A = \\n{np.around(A, 3)}')\n",
    "print(f'G = \\n{np.around(G, 3)}')\n",
    "print(f'my_G = \\n{np.around(my_G, 3)}')"
   ]
  },
  {
   "cell_type": "markdown",
   "metadata": {
    "id": "wHb-Uz-EIDUg"
   },
   "source": [
    "**Your answer:**\n",
    "\n",
    "<div dir=\"rtl\"> <font size=\"3\" face=\"HM XNiloofar\"> \n",
    "در این سوال تفاوتی بین جواب ما و numpy دیده نمی شود (حداقل تا سه رقم اعشار) اما از نظر زمانی باز هم numpy سریع تر است.\n",
    "</font> </div>"
   ]
  },
  {
   "cell_type": "code",
   "execution_count": 10,
   "metadata": {
    "executionInfo": {
     "elapsed": 112,
     "status": "ok",
     "timestamp": 1659336089774,
     "user": {
      "displayName": "milad heidari",
      "userId": "01780670972758435893"
     },
     "user_tz": -270
    },
    "id": "L-ZP7DhhIDUh"
   },
   "outputs": [],
   "source": [
    "# # time and correctness test\n",
    "# numpy_test = {'time': 0.0, 'lower-triangular test error':0.0, 'correctness test error':0.0}\n",
    "# yours_test = {'time': 0.0, 'lower-triangular test error':0.0, 'correctness test error':0.0}\n",
    "\n",
    "# num_test = 100\n",
    "# for i in range(num_test):\n",
    "#     n = np.random.randint(40, 50)\n",
    "#     A = np.random.randn(n,n)\n",
    "#     A = A @ np.diag(np.random.rand(n)) @ A.T\n",
    "\n",
    "#     # numpy code\n",
    "#     start_time = time.time()\n",
    "#     G = np.linalg.cholesky(A.copy())\n",
    "    \n",
    "#     numpy_test['time'] += time.time() - start_time\n",
    "#     numpy_test['lower-triangular test error'] += np.linalg.norm(np.triu(G,1))\n",
    "#     numpy_test['correctness test error'] += np.linalg.norm(A - G @ G.T)\n",
    "\n",
    "#     # your code\n",
    "#     start_time = time.time()\n",
    "#     my_G = my_cholesky(A.copy())\n",
    "    \n",
    "#     yours_test['time'] += time.time() - start_time\n",
    "#     yours_test['lower-triangular test error'] += np.linalg.norm(np.triu(my_G,1))\n",
    "#     yours_test['correctness test error'] += np.linalg.norm(A - my_G @ my_G.T)\n",
    "\n",
    "# for name in numpy_test:\n",
    "#     numpy_test[name] /= num_test\n",
    "#     yours_test[name] /= num_test\n",
    "\n",
    "# yours_check = {'time': yours_test['time'] <= 0.01, \n",
    "#                'lower-triangular test error': yours_test['lower-triangular test error'] <= 1e-5, \n",
    "#                'correctness test error': yours_test['correctness test error'] <= 1e-5}\n",
    "\n",
    "# print(f'numpy| test ---> {numpy_test}')\n",
    "# print(f'yours| test ---> {yours_test}')\n",
    "# print(f'yours| check ---> {yours_check}')"
   ]
  },
  {
   "cell_type": "markdown",
   "metadata": {
    "id": "uc802EZSIDUj"
   },
   "source": [
    "## 4. QR\n",
    "\n",
    "$$A \\in \\mathbb{R}^{m\\times n} \\text{ is a matrix} \\iff \\exists \\text{ an orthogonal matrix } Q \\text{ and an upper-triangular matrix } R: A = QR$$"
   ]
  },
  {
   "cell_type": "markdown",
   "metadata": {
    "id": "f6gZhPvLIDUk"
   },
   "source": [
    "<div dir=\"rtl\"> <font size=\"4\" face=\"HM XNiloofar\">\n",
    "به کمک تبدیل‌های householder الگوریتم عددی برای محاسبه تجزیه QR  پیاده‌سازی کنید.\n",
    "</font> </div>\n",
    "\n",
    "```python\n",
    "Q, R = my_qr(A)\n",
    "```\n",
    "\n",
    "<div dir=\"rtl\"> <font size=\"4\" face=\"HM XNiloofar\"> \n",
    " ورودی یک ماتریس دلخواه و خروجی ماتریس مربعی متعامد و ماتریس بالا مثلثی در تجزیه QR   است. \n",
    "<br />\n",
    "Cell مربوط به ارزیابی کد را اجرا کنید. خروجی الگوریتم خود را با خروجی تابع numpy مقایسه کنید. درباره‌ی تفاوت‌ها توضیح دهید.\n",
    "<br />\n",
    "Cell تست زمان و صحت را جهت ارزیابی کارایی الگوریتم خود اجرا کنید.\n",
    "</font> </div>"
   ]
  },
  {
   "cell_type": "code",
   "execution_count": 11,
   "metadata": {
    "executionInfo": {
     "elapsed": 111,
     "status": "ok",
     "timestamp": 1659336089776,
     "user": {
      "displayName": "milad heidari",
      "userId": "01780670972758435893"
     },
     "user_tz": -270
    },
    "id": "oXWEkKtgIDUl"
   },
   "outputs": [],
   "source": [
    "def my_qr(A):\n",
    "    \n",
    "    m, n = A.shape\n",
    "    QT = np.eye(m, m)    \n",
    "    \n",
    "    for q in range(np.min((m, n))):\n",
    "        aqq = A[q:, [q]]\n",
    "        eq = np.zeros((m-q, 1))\n",
    "        eq[0, 0] = 1\n",
    "        v = np.zeros((m, 1))\n",
    "        v[q:, [0]] = aqq + np.sign(A[q, q])*np.linalg.norm(aqq)*eq\n",
    "        beta = 2/(v.T @ v)\n",
    "        A = A - (beta*v) @ (v.T @ A)\n",
    "        QT = QT - (beta*v) @ (v.T @ QT)\n",
    "        \n",
    "    R = A\n",
    "    Q = QT.T\n",
    "    \n",
    "    return Q, R"
   ]
  },
  {
   "cell_type": "code",
   "execution_count": 12,
   "metadata": {
    "executionInfo": {
     "elapsed": 109,
     "status": "ok",
     "timestamp": 1659336089777,
     "user": {
      "displayName": "milad heidari",
      "userId": "01780670972758435893"
     },
     "user_tz": -270
    },
    "id": "QAFByf_JIDUn",
    "scrolled": false
   },
   "outputs": [
    {
     "name": "stdout",
     "output_type": "stream",
     "text": [
      "numpy| upper-triangular and  orthogonal test error ---> 5.896139866114153e-16\n",
      "numpy| correctness test error ---> 1.5347352612048728e-15\n",
      "yours| upper-triangular and  orthogonal test error ---> 2.5444883401175154e-15\n",
      "yours| correctness test error ---> 4.197250830668515e-15\n",
      "A = \n",
      "[[ 2.394 -0.877  0.264 -0.766 -0.543  0.227]\n",
      " [-0.851  0.576  0.159  1.665 -0.37   2.79 ]\n",
      " [-0.211  0.117 -1.661 -0.196 -0.692  0.326]\n",
      " [ 0.152 -0.846 -1.399 -0.259 -0.382 -1.116]\n",
      " [ 0.875 -0.807  0.78  -1.178  0.63  -1.605]\n",
      " [-0.234  0.277 -0.953  2.286 -0.837 -0.367]\n",
      " [ 0.21  -1.465  0.397  0.684  1.313  0.041]\n",
      " [-0.354  0.544 -0.965 -0.183  0.583 -1.691]]\n",
      "Q = \n",
      "[[-0.873 -0.238 -0.133 -0.248  0.029  0.288 -0.12   0.056]\n",
      " [ 0.31  -0.072  0.147 -0.429 -0.148  0.506  0.084  0.638]\n",
      " [ 0.077 -0.002 -0.611  0.176 -0.141  0.406  0.6   -0.212]\n",
      " [-0.055  0.453 -0.558  0.128 -0.317 -0.161 -0.421  0.401]\n",
      " [-0.319  0.201  0.205  0.218  0.057 -0.363  0.621  0.497]\n",
      " [ 0.085 -0.09  -0.337 -0.744  0.051 -0.519  0.199 -0.077]\n",
      " [-0.077  0.8    0.112 -0.278  0.385  0.262  0.048 -0.21 ]\n",
      " [ 0.129 -0.21  -0.328  0.169  0.838  0.024 -0.116  0.294]]\n",
      "my_Q = \n",
      "[[-0.873 -0.238 -0.133 -0.248  0.029  0.288 -0.12   0.056]\n",
      " [ 0.31  -0.072  0.147 -0.429 -0.148  0.506  0.084  0.638]\n",
      " [ 0.077 -0.002 -0.611  0.176 -0.141  0.406  0.6   -0.212]\n",
      " [-0.055  0.453 -0.558  0.128 -0.317 -0.161 -0.421  0.401]\n",
      " [-0.319  0.201  0.205  0.218  0.057 -0.363  0.621  0.497]\n",
      " [ 0.085 -0.09  -0.337 -0.744  0.051 -0.519  0.199 -0.077]\n",
      " [-0.077  0.8    0.112 -0.278  0.385  0.262  0.048 -0.21 ]\n",
      " [ 0.129 -0.21  -0.328  0.169  0.838  0.024 -0.116  0.294]]\n",
      "R = \n",
      "[[-2.741  1.465 -0.717  1.681  0.029  1.014]\n",
      " [ 0.    -1.689  0.059  0.09   1.115 -0.662]\n",
      " [ 0.     0.     2.626 -0.266  1.022  1.156]\n",
      " [ 0.     0.     0.    -2.77   0.616 -1.714]\n",
      " [ 0.     0.     0.     0.     1.245 -1.613]\n",
      " [ 0.     0.     0.     0.     0.     2.533]\n",
      " [ 0.     0.     0.     0.     0.     0.   ]\n",
      " [ 0.     0.     0.     0.     0.     0.   ]]\n",
      "my_R = \n",
      "[[-2.741  1.465 -0.717  1.681  0.029  1.014]\n",
      " [-0.    -1.689  0.059  0.09   1.115 -0.662]\n",
      " [-0.    -0.     2.626 -0.266  1.022  1.156]\n",
      " [-0.    -0.    -0.    -2.77   0.616 -1.714]\n",
      " [ 0.    -0.     0.     0.     1.245 -1.613]\n",
      " [ 0.     0.    -0.     0.     0.     2.533]\n",
      " [-0.    -0.    -0.     0.     0.     0.   ]\n",
      " [-0.    -0.    -0.    -0.     0.    -0.   ]]\n"
     ]
    }
   ],
   "source": [
    "# evaluate\n",
    "m ,n = 8, 6\n",
    "A = np.random.randn(m,n)\n",
    "\n",
    "# numpy code\n",
    "Q, R = np.linalg.qr(A.copy(), mode='complete')\n",
    "print(f'numpy| upper-triangular and  orthogonal test error ---> {np.linalg.norm(np.tril(R,-1)) + np.linalg.norm(np.eye(m) - Q @ Q.T)}')\n",
    "print(f'numpy| correctness test error ---> {np.linalg.norm(A - Q @ R)}')\n",
    "\n",
    "# your code\n",
    "my_Q, my_R = my_qr(A.copy())\n",
    "print(f'yours| upper-triangular and  orthogonal test error ---> {np.linalg.norm(np.tril(my_R,-1)) + np.linalg.norm(np.eye(m) - my_Q @ my_Q.T)}')\n",
    "print(f'yours| correctness test error ---> {np.linalg.norm(A - my_Q @ my_R)}')\n",
    "\n",
    "# print\n",
    "print(f'A = \\n{np.around(A, 3)}')\n",
    "print(f'Q = \\n{np.around(Q, 3)}')\n",
    "print(f'my_Q = \\n{np.around(my_Q, 3)}')\n",
    "print(f'R = \\n{np.around(R, 3)}')\n",
    "print(f'my_R = \\n{np.around(my_R, 3)}')"
   ]
  },
  {
   "cell_type": "markdown",
   "metadata": {
    "id": "89ZOoydRIDUo"
   },
   "source": [
    "**Your answer:**\n",
    "\n",
    "<div dir=\"rtl\"> <font size=\"3\" face=\"HM XNiloofar\"> \n",
    "در این سوال تفاوتی بین جواب ما و numpy دیده نمی شود (حداقل تا سه رقم اعشار) اما از نظر زمانی باز هم numpy سریع تر است.\n",
    "</font> </div>"
   ]
  },
  {
   "cell_type": "code",
   "execution_count": 13,
   "metadata": {
    "executionInfo": {
     "elapsed": 108,
     "status": "ok",
     "timestamp": 1659336089779,
     "user": {
      "displayName": "milad heidari",
      "userId": "01780670972758435893"
     },
     "user_tz": -270
    },
    "id": "IApUb6gfIDUp"
   },
   "outputs": [],
   "source": [
    "# # time and correctness test\n",
    "# numpy_test = {'time': 0.0, 'upper-triangular and  orthogonal test error':0.0, 'correctness test error':0.0}\n",
    "# yours_test = {'time': 0.0, 'upper-triangular and  orthogonal test error':0.0, 'correctness test error':0.0}\n",
    "\n",
    "# num_test = 100\n",
    "# for i in range(num_test):\n",
    "#     m, n = np.random.randint(40, 50), np.random.randint(40, 50)\n",
    "#     A = np.random.randn(m,n)\n",
    "\n",
    "#     # numpy code\n",
    "#     start_time = time.time()\n",
    "#     Q, R = np.linalg.qr(A.copy(), mode='complete')\n",
    "    \n",
    "#     numpy_test['time'] += time.time() - start_time\n",
    "#     numpy_test['upper-triangular and  orthogonal test error'] += np.linalg.norm(np.tril(R,-1)) + np.linalg.norm(np.eye(m) - Q @ Q.T)\n",
    "#     numpy_test['correctness test error'] += np.linalg.norm(A - Q @ R)\n",
    "\n",
    "#     # your code\n",
    "#     start_time = time.time()\n",
    "#     my_Q, my_R = my_qr(A.copy())\n",
    "    \n",
    "#     yours_test['time'] += time.time() - start_time\n",
    "#     yours_test['upper-triangular and  orthogonal test error'] += np.linalg.norm(np.tril(my_R,-1)) + np.linalg.norm(np.eye(m) - my_Q @ my_Q.T)\n",
    "#     yours_test['correctness test error'] += np.linalg.norm(A - my_Q @ my_R)\n",
    "\n",
    "# for name in numpy_test:\n",
    "#     numpy_test[name] /= num_test\n",
    "#     yours_test[name] /= num_test\n",
    "\n",
    "# yours_check = {'time': yours_test['time'] <= 0.01, \n",
    "#                'upper-triangular and  orthogonal test error': yours_test['upper-triangular and  orthogonal test error'] <= 1e-5, \n",
    "#                'correctness test error': yours_test['correctness test error'] <= 1e-5}\n",
    "\n",
    "# print(f'numpy| test ---> {numpy_test}')\n",
    "# print(f'yours| test ---> {yours_test}')\n",
    "# print(f'yours| check ---> {yours_check}')"
   ]
  },
  {
   "cell_type": "markdown",
   "metadata": {
    "id": "eEdJJanRIDUq"
   },
   "source": [
    "---"
   ]
  },
  {
   "cell_type": "markdown",
   "metadata": {
    "id": "jArW97DnIDUr"
   },
   "source": [
    "# B. Dictionary Learning"
   ]
  },
  {
   "cell_type": "code",
   "execution_count": 14,
   "metadata": {
    "executionInfo": {
     "elapsed": 107,
     "status": "ok",
     "timestamp": 1659336089780,
     "user": {
      "displayName": "milad heidari",
      "userId": "01780670972758435893"
     },
     "user_tz": -270
    },
    "id": "VjEMhdPHIDUs"
   },
   "outputs": [],
   "source": [
    "# The allowed libraries\n",
    "from sklearn.feature_extraction.image import extract_patches_2d\n",
    "import numpy as np\n",
    "import matplotlib.pyplot as plt\n",
    "import imageio"
   ]
  },
  {
   "cell_type": "code",
   "execution_count": 15,
   "metadata": {
    "executionInfo": {
     "elapsed": 101,
     "status": "ok",
     "timestamp": 1659336089781,
     "user": {
      "displayName": "milad heidari",
      "userId": "01780670972758435893"
     },
     "user_tz": -270
    },
    "id": "DPTSYMRHIDUs"
   },
   "outputs": [
    {
     "name": "stdout",
     "output_type": "stream",
     "text": [
      "Traceback (most recent call last):\n",
      "  File \"/usr/lib/python3/dist-packages/urllib3/connectionpool.py\", line 699, in urlopen\n",
      "    httplib_response = self._make_request(\n",
      "  File \"/usr/lib/python3/dist-packages/urllib3/connectionpool.py\", line 382, in _make_request\n",
      "    self._validate_conn(conn)\n",
      "  File \"/usr/lib/python3/dist-packages/urllib3/connectionpool.py\", line 1012, in _validate_conn\n",
      "    conn.connect()\n",
      "  File \"/usr/lib/python3/dist-packages/urllib3/connection.py\", line 411, in connect\n",
      "    self.sock = ssl_wrap_socket(\n",
      "  File \"/usr/lib/python3/dist-packages/urllib3/util/ssl_.py\", line 449, in ssl_wrap_socket\n",
      "    ssl_sock = _ssl_wrap_socket_impl(\n",
      "  File \"/usr/lib/python3/dist-packages/urllib3/util/ssl_.py\", line 493, in _ssl_wrap_socket_impl\n",
      "    return ssl_context.wrap_socket(sock, server_hostname=server_hostname)\n",
      "  File \"/usr/lib/python3.10/ssl.py\", line 512, in wrap_socket\n",
      "    return self.sslsocket_class._create(\n",
      "  File \"/usr/lib/python3.10/ssl.py\", line 1070, in _create\n",
      "    self.do_handshake()\n",
      "  File \"/usr/lib/python3.10/ssl.py\", line 1341, in do_handshake\n",
      "    self._sslobj.do_handshake()\n",
      "ssl.SSLCertVerificationError: [SSL: CERTIFICATE_VERIFY_FAILED] certificate verify failed: unable to get local issuer certificate (_ssl.c:997)\n",
      "\n",
      "During handling of the above exception, another exception occurred:\n",
      "\n",
      "Traceback (most recent call last):\n",
      "  File \"/usr/lib/python3/dist-packages/requests/adapters.py\", line 439, in send\n",
      "    resp = conn.urlopen(\n",
      "  File \"/usr/lib/python3/dist-packages/urllib3/connectionpool.py\", line 755, in urlopen\n",
      "    retries = retries.increment(\n",
      "  File \"/usr/lib/python3/dist-packages/urllib3/util/retry.py\", line 574, in increment\n",
      "    raise MaxRetryError(_pool, url, error or ResponseError(cause))\n",
      "urllib3.exceptions.MaxRetryError: HTTPSConnectionPool(host='drive.google.com', port=443): Max retries exceeded with url: /uc?id=12ONag930wZvpmkVQ0JV35qDVFjm9bq4J (Caused by SSLError(SSLCertVerificationError(1, '[SSL: CERTIFICATE_VERIFY_FAILED] certificate verify failed: unable to get local issuer certificate (_ssl.c:997)')))\n",
      "\n",
      "During handling of the above exception, another exception occurred:\n",
      "\n",
      "Traceback (most recent call last):\n",
      "  File \"/home/milad/.local/bin/gdown\", line 8, in <module>\n",
      "    sys.exit(main())\n",
      "  File \"/home/milad/.local/lib/python3.10/site-packages/gdown/cli.py\", line 156, in main\n",
      "    filename = download(\n",
      "  File \"/home/milad/.local/lib/python3.10/site-packages/gdown/download.py\", line 146, in download\n",
      "    res = sess.get(url, headers=headers, stream=True, verify=verify)\n",
      "  File \"/usr/lib/python3/dist-packages/requests/sessions.py\", line 555, in get\n",
      "    return self.request('GET', url, **kwargs)\n",
      "  File \"/usr/lib/python3/dist-packages/requests/sessions.py\", line 542, in request\n",
      "    resp = self.send(prep, **send_kwargs)\n",
      "  File \"/usr/lib/python3/dist-packages/requests/sessions.py\", line 655, in send\n",
      "    r = adapter.send(request, **kwargs)\n",
      "  File \"/usr/lib/python3/dist-packages/requests/adapters.py\", line 514, in send\n",
      "    raise SSLError(e, request=request)\n",
      "requests.exceptions.SSLError: HTTPSConnectionPool(host='drive.google.com', port=443): Max retries exceeded with url: /uc?id=12ONag930wZvpmkVQ0JV35qDVFjm9bq4J (Caused by SSLError(SSLCertVerificationError(1, '[SSL: CERTIFICATE_VERIFY_FAILED] certificate verify failed: unable to get local issuer certificate (_ssl.c:997)')))\n",
      "Traceback (most recent call last):\n",
      "  File \"/usr/lib/python3/dist-packages/urllib3/connectionpool.py\", line 699, in urlopen\n",
      "    httplib_response = self._make_request(\n",
      "  File \"/usr/lib/python3/dist-packages/urllib3/connectionpool.py\", line 382, in _make_request\n",
      "    self._validate_conn(conn)\n",
      "  File \"/usr/lib/python3/dist-packages/urllib3/connectionpool.py\", line 1012, in _validate_conn\n",
      "    conn.connect()\n",
      "  File \"/usr/lib/python3/dist-packages/urllib3/connection.py\", line 411, in connect\n",
      "    self.sock = ssl_wrap_socket(\n",
      "  File \"/usr/lib/python3/dist-packages/urllib3/util/ssl_.py\", line 449, in ssl_wrap_socket\n",
      "    ssl_sock = _ssl_wrap_socket_impl(\n",
      "  File \"/usr/lib/python3/dist-packages/urllib3/util/ssl_.py\", line 493, in _ssl_wrap_socket_impl\n",
      "    return ssl_context.wrap_socket(sock, server_hostname=server_hostname)\n",
      "  File \"/usr/lib/python3.10/ssl.py\", line 512, in wrap_socket\n",
      "    return self.sslsocket_class._create(\n",
      "  File \"/usr/lib/python3.10/ssl.py\", line 1070, in _create\n",
      "    self.do_handshake()\n",
      "  File \"/usr/lib/python3.10/ssl.py\", line 1341, in do_handshake\n",
      "    self._sslobj.do_handshake()\n",
      "ssl.SSLCertVerificationError: [SSL: CERTIFICATE_VERIFY_FAILED] certificate verify failed: unable to get local issuer certificate (_ssl.c:997)\n",
      "\n",
      "During handling of the above exception, another exception occurred:\n",
      "\n",
      "Traceback (most recent call last):\n",
      "  File \"/usr/lib/python3/dist-packages/requests/adapters.py\", line 439, in send\n",
      "    resp = conn.urlopen(\n",
      "  File \"/usr/lib/python3/dist-packages/urllib3/connectionpool.py\", line 755, in urlopen\n",
      "    retries = retries.increment(\n",
      "  File \"/usr/lib/python3/dist-packages/urllib3/util/retry.py\", line 574, in increment\n",
      "    raise MaxRetryError(_pool, url, error or ResponseError(cause))\n",
      "urllib3.exceptions.MaxRetryError: HTTPSConnectionPool(host='drive.google.com', port=443): Max retries exceeded with url: /uc?id=1FH8SYf_IaOWX0fu_buFIfwshrnUUC6CW (Caused by SSLError(SSLCertVerificationError(1, '[SSL: CERTIFICATE_VERIFY_FAILED] certificate verify failed: unable to get local issuer certificate (_ssl.c:997)')))\n",
      "\n",
      "During handling of the above exception, another exception occurred:\n",
      "\n",
      "Traceback (most recent call last):\n",
      "  File \"/home/milad/.local/bin/gdown\", line 8, in <module>\n",
      "    sys.exit(main())\n",
      "  File \"/home/milad/.local/lib/python3.10/site-packages/gdown/cli.py\", line 156, in main\n",
      "    filename = download(\n",
      "  File \"/home/milad/.local/lib/python3.10/site-packages/gdown/download.py\", line 146, in download\n",
      "    res = sess.get(url, headers=headers, stream=True, verify=verify)\n",
      "  File \"/usr/lib/python3/dist-packages/requests/sessions.py\", line 555, in get\n",
      "    return self.request('GET', url, **kwargs)\n",
      "  File \"/usr/lib/python3/dist-packages/requests/sessions.py\", line 542, in request\n",
      "    resp = self.send(prep, **send_kwargs)\n",
      "  File \"/usr/lib/python3/dist-packages/requests/sessions.py\", line 655, in send\n",
      "    r = adapter.send(request, **kwargs)\n",
      "  File \"/usr/lib/python3/dist-packages/requests/adapters.py\", line 514, in send\n",
      "    raise SSLError(e, request=request)\n",
      "requests.exceptions.SSLError: HTTPSConnectionPool(host='drive.google.com', port=443): Max retries exceeded with url: /uc?id=1FH8SYf_IaOWX0fu_buFIfwshrnUUC6CW (Caused by SSLError(SSLCertVerificationError(1, '[SSL: CERTIFICATE_VERIFY_FAILED] certificate verify failed: unable to get local issuer certificate (_ssl.c:997)')))\n",
      "Traceback (most recent call last):\n",
      "  File \"/usr/lib/python3/dist-packages/urllib3/connectionpool.py\", line 699, in urlopen\n",
      "    httplib_response = self._make_request(\n",
      "  File \"/usr/lib/python3/dist-packages/urllib3/connectionpool.py\", line 382, in _make_request\n",
      "    self._validate_conn(conn)\n",
      "  File \"/usr/lib/python3/dist-packages/urllib3/connectionpool.py\", line 1012, in _validate_conn\n",
      "    conn.connect()\n",
      "  File \"/usr/lib/python3/dist-packages/urllib3/connection.py\", line 411, in connect\n",
      "    self.sock = ssl_wrap_socket(\n",
      "  File \"/usr/lib/python3/dist-packages/urllib3/util/ssl_.py\", line 449, in ssl_wrap_socket\n",
      "    ssl_sock = _ssl_wrap_socket_impl(\n",
      "  File \"/usr/lib/python3/dist-packages/urllib3/util/ssl_.py\", line 493, in _ssl_wrap_socket_impl\n",
      "    return ssl_context.wrap_socket(sock, server_hostname=server_hostname)\n",
      "  File \"/usr/lib/python3.10/ssl.py\", line 512, in wrap_socket\n",
      "    return self.sslsocket_class._create(\n",
      "  File \"/usr/lib/python3.10/ssl.py\", line 1070, in _create\n",
      "    self.do_handshake()\n",
      "  File \"/usr/lib/python3.10/ssl.py\", line 1341, in do_handshake\n",
      "    self._sslobj.do_handshake()\n",
      "ssl.SSLCertVerificationError: [SSL: CERTIFICATE_VERIFY_FAILED] certificate verify failed: unable to get local issuer certificate (_ssl.c:997)\n",
      "\n",
      "During handling of the above exception, another exception occurred:\n",
      "\n",
      "Traceback (most recent call last):\n",
      "  File \"/usr/lib/python3/dist-packages/requests/adapters.py\", line 439, in send\n",
      "    resp = conn.urlopen(\n",
      "  File \"/usr/lib/python3/dist-packages/urllib3/connectionpool.py\", line 755, in urlopen\n",
      "    retries = retries.increment(\n",
      "  File \"/usr/lib/python3/dist-packages/urllib3/util/retry.py\", line 574, in increment\n",
      "    raise MaxRetryError(_pool, url, error or ResponseError(cause))\n",
      "urllib3.exceptions.MaxRetryError: HTTPSConnectionPool(host='drive.google.com', port=443): Max retries exceeded with url: /uc?id=195AygBnFlzdBO5ikyc3lkCrxdKK8sSf3 (Caused by SSLError(SSLCertVerificationError(1, '[SSL: CERTIFICATE_VERIFY_FAILED] certificate verify failed: unable to get local issuer certificate (_ssl.c:997)')))\n",
      "\n",
      "During handling of the above exception, another exception occurred:\n",
      "\n",
      "Traceback (most recent call last):\n",
      "  File \"/home/milad/.local/bin/gdown\", line 8, in <module>\n",
      "    sys.exit(main())\n",
      "  File \"/home/milad/.local/lib/python3.10/site-packages/gdown/cli.py\", line 156, in main\n",
      "    filename = download(\n",
      "  File \"/home/milad/.local/lib/python3.10/site-packages/gdown/download.py\", line 146, in download\n",
      "    res = sess.get(url, headers=headers, stream=True, verify=verify)\n",
      "  File \"/usr/lib/python3/dist-packages/requests/sessions.py\", line 555, in get\n",
      "    return self.request('GET', url, **kwargs)\n",
      "  File \"/usr/lib/python3/dist-packages/requests/sessions.py\", line 542, in request\n",
      "    resp = self.send(prep, **send_kwargs)\n",
      "  File \"/usr/lib/python3/dist-packages/requests/sessions.py\", line 655, in send\n",
      "    r = adapter.send(request, **kwargs)\n",
      "  File \"/usr/lib/python3/dist-packages/requests/adapters.py\", line 514, in send\n",
      "    raise SSLError(e, request=request)\n",
      "requests.exceptions.SSLError: HTTPSConnectionPool(host='drive.google.com', port=443): Max retries exceeded with url: /uc?id=195AygBnFlzdBO5ikyc3lkCrxdKK8sSf3 (Caused by SSLError(SSLCertVerificationError(1, '[SSL: CERTIFICATE_VERIFY_FAILED] certificate verify failed: unable to get local issuer certificate (_ssl.c:997)')))\n"
     ]
    }
   ],
   "source": [
    "'''\n",
    "Download the necessary files from Google Drive via gdown library (source: https://pypi.org/project/gdown/) \n",
    "\n",
    "Do the following steps:\n",
    "\n",
    "1) Install gdown (if you are using Google Colab, skip this step). \n",
    "In jupyter notebook: run (!pip install gdown) and (!pip install --upgrade gdown)\n",
    "\n",
    "2) Run the following script to download files:\n",
    "'''\n",
    "\n",
    "# EE.png\n",
    "!gdown 12ONag930wZvpmkVQ0JV35qDVFjm9bq4J\n",
    "\n",
    "# EE_noisy.png\n",
    "!gdown 1FH8SYf_IaOWX0fu_buFIfwshrnUUC6CW\n",
    "\n",
    "# random_dictionary_64_121.npy\n",
    "!gdown 195AygBnFlzdBO5ikyc3lkCrxdKK8sSf3"
   ]
  },
  {
   "cell_type": "code",
   "execution_count": 16,
   "metadata": {
    "executionInfo": {
     "elapsed": 99,
     "status": "ok",
     "timestamp": 1659336089783,
     "user": {
      "displayName": "milad heidari",
      "userId": "01780670972758435893"
     },
     "user_tz": -270
    },
    "id": "GYSIXPRRIDUs"
   },
   "outputs": [
    {
     "name": "stderr",
     "output_type": "stream",
     "text": [
      "/tmp/ipykernel_6239/3024120324.py:1: DeprecationWarning: Starting with ImageIO v3 the behavior of this function will switch to that of iio.v3.imread. To keep the current behavior (and make this warning dissapear) use `import imageio.v2 as imageio` or call `imageio.v2.imread` directly.\n",
      "  image_clean = imageio.imread('EE.png')[:, :].astype('float32')\n"
     ]
    },
    {
     "ename": "FileNotFoundError",
     "evalue": "No such file: '/home/milad/Desktop/LA_project/EE.png'",
     "output_type": "error",
     "traceback": [
      "\u001b[0;31m---------------------------------------------------------------------------\u001b[0m",
      "\u001b[0;31mFileNotFoundError\u001b[0m                         Traceback (most recent call last)",
      "\u001b[0;32m/tmp/ipykernel_6239/3024120324.py\u001b[0m in \u001b[0;36m<module>\u001b[0;34m\u001b[0m\n\u001b[0;32m----> 1\u001b[0;31m \u001b[0mimage_clean\u001b[0m \u001b[0;34m=\u001b[0m \u001b[0mimageio\u001b[0m\u001b[0;34m.\u001b[0m\u001b[0mimread\u001b[0m\u001b[0;34m(\u001b[0m\u001b[0;34m'EE.png'\u001b[0m\u001b[0;34m)\u001b[0m\u001b[0;34m[\u001b[0m\u001b[0;34m:\u001b[0m\u001b[0;34m,\u001b[0m \u001b[0;34m:\u001b[0m\u001b[0;34m]\u001b[0m\u001b[0;34m.\u001b[0m\u001b[0mastype\u001b[0m\u001b[0;34m(\u001b[0m\u001b[0;34m'float32'\u001b[0m\u001b[0;34m)\u001b[0m\u001b[0;34m\u001b[0m\u001b[0;34m\u001b[0m\u001b[0m\n\u001b[0m\u001b[1;32m      2\u001b[0m \u001b[0mimage_noisy\u001b[0m \u001b[0;34m=\u001b[0m \u001b[0mimageio\u001b[0m\u001b[0;34m.\u001b[0m\u001b[0mimread\u001b[0m\u001b[0;34m(\u001b[0m\u001b[0;34m'EE_noisy.png'\u001b[0m\u001b[0;34m)\u001b[0m\u001b[0;34m[\u001b[0m\u001b[0;34m:\u001b[0m\u001b[0;34m,\u001b[0m \u001b[0;34m:\u001b[0m\u001b[0;34m]\u001b[0m\u001b[0;34m.\u001b[0m\u001b[0mastype\u001b[0m\u001b[0;34m(\u001b[0m\u001b[0;34m'float32'\u001b[0m\u001b[0;34m)\u001b[0m\u001b[0;34m\u001b[0m\u001b[0;34m\u001b[0m\u001b[0m\n\u001b[1;32m      3\u001b[0m \u001b[0;34m\u001b[0m\u001b[0m\n\u001b[1;32m      4\u001b[0m \u001b[0mplt\u001b[0m\u001b[0;34m.\u001b[0m\u001b[0mfigure\u001b[0m\u001b[0;34m(\u001b[0m\u001b[0mfigsize\u001b[0m\u001b[0;34m=\u001b[0m\u001b[0;34m(\u001b[0m\u001b[0;36m10\u001b[0m\u001b[0;34m,\u001b[0m\u001b[0;36m5\u001b[0m\u001b[0;34m)\u001b[0m\u001b[0;34m)\u001b[0m\u001b[0;34m\u001b[0m\u001b[0;34m\u001b[0m\u001b[0m\n\u001b[1;32m      5\u001b[0m \u001b[0mplt\u001b[0m\u001b[0;34m.\u001b[0m\u001b[0msubplot\u001b[0m\u001b[0;34m(\u001b[0m\u001b[0;36m1\u001b[0m\u001b[0;34m,\u001b[0m \u001b[0;36m2\u001b[0m\u001b[0;34m,\u001b[0m \u001b[0;36m1\u001b[0m\u001b[0;34m)\u001b[0m\u001b[0;34m\u001b[0m\u001b[0;34m\u001b[0m\u001b[0m\n",
      "\u001b[0;32m~/.local/lib/python3.10/site-packages/imageio/__init__.py\u001b[0m in \u001b[0;36mimread\u001b[0;34m(uri, format, **kwargs)\u001b[0m\n\u001b[1;32m     95\u001b[0m     )\n\u001b[1;32m     96\u001b[0m \u001b[0;34m\u001b[0m\u001b[0m\n\u001b[0;32m---> 97\u001b[0;31m     \u001b[0;32mreturn\u001b[0m \u001b[0mimread_v2\u001b[0m\u001b[0;34m(\u001b[0m\u001b[0muri\u001b[0m\u001b[0;34m,\u001b[0m \u001b[0mformat\u001b[0m\u001b[0;34m=\u001b[0m\u001b[0mformat\u001b[0m\u001b[0;34m,\u001b[0m \u001b[0;34m**\u001b[0m\u001b[0mkwargs\u001b[0m\u001b[0;34m)\u001b[0m\u001b[0;34m\u001b[0m\u001b[0;34m\u001b[0m\u001b[0m\n\u001b[0m\u001b[1;32m     98\u001b[0m \u001b[0;34m\u001b[0m\u001b[0m\n\u001b[1;32m     99\u001b[0m \u001b[0;34m\u001b[0m\u001b[0m\n",
      "\u001b[0;32m~/.local/lib/python3.10/site-packages/imageio/v2.py\u001b[0m in \u001b[0;36mimread\u001b[0;34m(uri, format, **kwargs)\u001b[0m\n\u001b[1;32m    198\u001b[0m     \u001b[0mimopen_args\u001b[0m\u001b[0;34m[\u001b[0m\u001b[0;34m\"legacy_mode\"\u001b[0m\u001b[0;34m]\u001b[0m \u001b[0;34m=\u001b[0m \u001b[0;32mTrue\u001b[0m\u001b[0;34m\u001b[0m\u001b[0;34m\u001b[0m\u001b[0m\n\u001b[1;32m    199\u001b[0m \u001b[0;34m\u001b[0m\u001b[0m\n\u001b[0;32m--> 200\u001b[0;31m     \u001b[0;32mwith\u001b[0m \u001b[0mimopen\u001b[0m\u001b[0;34m(\u001b[0m\u001b[0muri\u001b[0m\u001b[0;34m,\u001b[0m \u001b[0;34m\"ri\"\u001b[0m\u001b[0;34m,\u001b[0m \u001b[0;34m**\u001b[0m\u001b[0mimopen_args\u001b[0m\u001b[0;34m)\u001b[0m \u001b[0;32mas\u001b[0m \u001b[0mfile\u001b[0m\u001b[0;34m:\u001b[0m\u001b[0;34m\u001b[0m\u001b[0;34m\u001b[0m\u001b[0m\n\u001b[0m\u001b[1;32m    201\u001b[0m         \u001b[0;32mreturn\u001b[0m \u001b[0mfile\u001b[0m\u001b[0;34m.\u001b[0m\u001b[0mread\u001b[0m\u001b[0;34m(\u001b[0m\u001b[0mindex\u001b[0m\u001b[0;34m=\u001b[0m\u001b[0;36m0\u001b[0m\u001b[0;34m,\u001b[0m \u001b[0;34m**\u001b[0m\u001b[0mkwargs\u001b[0m\u001b[0;34m)\u001b[0m\u001b[0;34m\u001b[0m\u001b[0;34m\u001b[0m\u001b[0m\n\u001b[1;32m    202\u001b[0m \u001b[0;34m\u001b[0m\u001b[0m\n",
      "\u001b[0;32m~/.local/lib/python3.10/site-packages/imageio/core/imopen.py\u001b[0m in \u001b[0;36mimopen\u001b[0;34m(uri, io_mode, plugin, extension, format_hint, legacy_mode, **kwargs)\u001b[0m\n\u001b[1;32m    116\u001b[0m         \u001b[0mrequest\u001b[0m\u001b[0;34m.\u001b[0m\u001b[0mformat_hint\u001b[0m \u001b[0;34m=\u001b[0m \u001b[0mformat_hint\u001b[0m\u001b[0;34m\u001b[0m\u001b[0;34m\u001b[0m\u001b[0m\n\u001b[1;32m    117\u001b[0m     \u001b[0;32melse\u001b[0m\u001b[0;34m:\u001b[0m\u001b[0;34m\u001b[0m\u001b[0;34m\u001b[0m\u001b[0m\n\u001b[0;32m--> 118\u001b[0;31m         \u001b[0mrequest\u001b[0m \u001b[0;34m=\u001b[0m \u001b[0mRequest\u001b[0m\u001b[0;34m(\u001b[0m\u001b[0muri\u001b[0m\u001b[0;34m,\u001b[0m \u001b[0mio_mode\u001b[0m\u001b[0;34m,\u001b[0m \u001b[0mformat_hint\u001b[0m\u001b[0;34m=\u001b[0m\u001b[0mformat_hint\u001b[0m\u001b[0;34m,\u001b[0m \u001b[0mextension\u001b[0m\u001b[0;34m=\u001b[0m\u001b[0mextension\u001b[0m\u001b[0;34m)\u001b[0m\u001b[0;34m\u001b[0m\u001b[0;34m\u001b[0m\u001b[0m\n\u001b[0m\u001b[1;32m    119\u001b[0m \u001b[0;34m\u001b[0m\u001b[0m\n\u001b[1;32m    120\u001b[0m     \u001b[0msource\u001b[0m \u001b[0;34m=\u001b[0m \u001b[0;34m\"<bytes>\"\u001b[0m \u001b[0;32mif\u001b[0m \u001b[0misinstance\u001b[0m\u001b[0;34m(\u001b[0m\u001b[0muri\u001b[0m\u001b[0;34m,\u001b[0m \u001b[0mbytes\u001b[0m\u001b[0;34m)\u001b[0m \u001b[0;32melse\u001b[0m \u001b[0muri\u001b[0m\u001b[0;34m\u001b[0m\u001b[0;34m\u001b[0m\u001b[0m\n",
      "\u001b[0;32m~/.local/lib/python3.10/site-packages/imageio/core/request.py\u001b[0m in \u001b[0;36m__init__\u001b[0;34m(self, uri, mode, extension, format_hint, **kwargs)\u001b[0m\n\u001b[1;32m    246\u001b[0m \u001b[0;34m\u001b[0m\u001b[0m\n\u001b[1;32m    247\u001b[0m         \u001b[0;31m# Parse what was given\u001b[0m\u001b[0;34m\u001b[0m\u001b[0;34m\u001b[0m\u001b[0m\n\u001b[0;32m--> 248\u001b[0;31m         \u001b[0mself\u001b[0m\u001b[0;34m.\u001b[0m\u001b[0m_parse_uri\u001b[0m\u001b[0;34m(\u001b[0m\u001b[0muri\u001b[0m\u001b[0;34m)\u001b[0m\u001b[0;34m\u001b[0m\u001b[0;34m\u001b[0m\u001b[0m\n\u001b[0m\u001b[1;32m    249\u001b[0m \u001b[0;34m\u001b[0m\u001b[0m\n\u001b[1;32m    250\u001b[0m         \u001b[0;31m# Set extension\u001b[0m\u001b[0;34m\u001b[0m\u001b[0;34m\u001b[0m\u001b[0m\n",
      "\u001b[0;32m~/.local/lib/python3.10/site-packages/imageio/core/request.py\u001b[0m in \u001b[0;36m_parse_uri\u001b[0;34m(self, uri)\u001b[0m\n\u001b[1;32m    405\u001b[0m                 \u001b[0;31m# Reading: check that the file exists (but is allowed a dir)\u001b[0m\u001b[0;34m\u001b[0m\u001b[0;34m\u001b[0m\u001b[0m\n\u001b[1;32m    406\u001b[0m                 \u001b[0;32mif\u001b[0m \u001b[0;32mnot\u001b[0m \u001b[0mos\u001b[0m\u001b[0;34m.\u001b[0m\u001b[0mpath\u001b[0m\u001b[0;34m.\u001b[0m\u001b[0mexists\u001b[0m\u001b[0;34m(\u001b[0m\u001b[0mfn\u001b[0m\u001b[0;34m)\u001b[0m\u001b[0;34m:\u001b[0m\u001b[0;34m\u001b[0m\u001b[0;34m\u001b[0m\u001b[0m\n\u001b[0;32m--> 407\u001b[0;31m                     \u001b[0;32mraise\u001b[0m \u001b[0mFileNotFoundError\u001b[0m\u001b[0;34m(\u001b[0m\u001b[0;34m\"No such file: '%s'\"\u001b[0m \u001b[0;34m%\u001b[0m \u001b[0mfn\u001b[0m\u001b[0;34m)\u001b[0m\u001b[0;34m\u001b[0m\u001b[0;34m\u001b[0m\u001b[0m\n\u001b[0m\u001b[1;32m    408\u001b[0m             \u001b[0;32melse\u001b[0m\u001b[0;34m:\u001b[0m\u001b[0;34m\u001b[0m\u001b[0;34m\u001b[0m\u001b[0m\n\u001b[1;32m    409\u001b[0m                 \u001b[0;31m# Writing: check that the directory to write to does exist\u001b[0m\u001b[0;34m\u001b[0m\u001b[0;34m\u001b[0m\u001b[0m\n",
      "\u001b[0;31mFileNotFoundError\u001b[0m: No such file: '/home/milad/Desktop/LA_project/EE.png'"
     ]
    }
   ],
   "source": [
    "image_clean = imageio.imread('EE.png')[:, :].astype('float32')\n",
    "image_noisy = imageio.imread('EE_noisy.png')[:, :].astype('float32')\n",
    "\n",
    "plt.figure(figsize=(10,5))\n",
    "plt.subplot(1, 2, 1)\n",
    "plt.title('clean image')\n",
    "plt.imshow(image_clean, cmap='gray')\n",
    "plt.subplot(1, 2, 2)\n",
    "plt.title('noisy image')\n",
    "plt.imshow(image_noisy, cmap='gray')\n",
    "plt.show()"
   ]
  },
  {
   "cell_type": "markdown",
   "metadata": {
    "id": "87AZIflOIDUt"
   },
   "source": [
    "<div dir=\"rtl\"> <font size=\"4\" face=\"HM XNiloofar\">\n",
    "در این بخش از تمرین با استفاده از یادگیری واژه‌نامه، سیستمی به منظور نویززدایی تصاویر مقیاس خاکستری توسعه خواهید داد [1]. \n",
    "</font> </div>\n",
    "\n",
    "[1] Elad, M. and Aharon, M., 2006. Image denoising via sparse and redundant representations over learned dictionaries. IEEE Transactions on Image processing, 15(12), pp.3736-3745.\n",
    "\n",
    "<div dir=\"rtl\"> <font size=\"4\" face=\"HM XNiloofar\">\n",
    "    <br />\n",
    "تصویر مقیاس خاکستری Y را می‌توان به صورت یک ماتریس r×c در نظر گرفت که هر مولفه آن عدد صحیحی در بازه [0,255] اختیار می‌نماید. یکی از نویزهای رایج در تصاویر، نویز گاوسی جمع‌شونده است که در نتیجه آن تصویر نویزی Y_n=Y+N در اختیار شما قرار می‌گیرد که N ماتریس نویز است. در سیستم نویززدایی مورد نظر در این تمرین، فرض می‌شود که قطعات هم‌اندازه در تصویر Y با ابعاد p×p از یک مدل تنک تولید شده‌اند. از آنجایی که تصویر اصلی در اختیار شما قرار ندارد، باید با استفاده از قطعات تصویر در Y_n، واژه‌نامه‌ای که قطعات تصویر اصلی از آن تولید شده‌اند را تخمین بزنید. سپس از این واژه‌نامه برای نویززدایی قطعات تصویر Y_n استفاده کنید. به این منظور در ادامه بخش‌های مختلف سیستم را پیاده‌سازی می‌نمایید و در انتها نیز با کنار هم قرار دادن این بخش‌ها، سیستم نهایی پیاده‌سازی خواهد گردید.\n",
    "</font> </div>"
   ]
  },
  {
   "cell_type": "markdown",
   "metadata": {
    "id": "Sf3JWvCrIDUt"
   },
   "source": [
    "## 1. Create dataset"
   ]
  },
  {
   "cell_type": "markdown",
   "metadata": {
    "id": "1mzm9ZieIDUt"
   },
   "source": [
    "<div dir=\"rtl\"> <font size=\"4\" face=\"HM XNiloofar\">\n",
    "    <b>\n",
    "    ساخت پایگاه داده یادگیری واژه‌نامه:\n",
    "    </b>\n",
    "    <br />\n",
    "        در این گام باید تابع <code>create_dataset</code> را پیاده‌سازی نمایید. ورودی‌های این تابع عبارتند از: \n",
    "<ul>\n",
    "  <li> <code>image_noisy</code>:\tتصویر نویزی با ابعاد r×c که هر مولفه آن عدد صحیحی در بازه [0,255] است و نوع آن <code>float32</code> است.</li>\n",
    "  <li> <code>p</code>: طول قطعات تصویر.</li>\n",
    "</ul>\n",
    " خروجی این تابع عبارتست از:\n",
    "<ul>\n",
    "<li><code>dataset</code>: \tپایگاه داده که یک ماتریس با ابعاد p^2×((r-p+1)(c-p+1)) است. هر ستون یکی از قطعات تصویر است که برداری شده است. از آنجایی که سایز تصویر r×c است و طول قطعات برابر با p است، در نتیجه در کل تصویر نویزی (r-p+1)(c-p+1) قطعه خواهیم داشت. هر قطعه نیز یک ماتریس مربعی p×p  است که با برداری‌سازی آن، برداری به طول p^2 خواهیم داشت . </li>\n",
    "</ul>\n",
    " به منظور درستی پیاده‌سازی، به نکات زیر توجه نمایید.\n",
    " <ul>\n",
    "  <li>\tقطعه اول تصویر زیر ماتریس <code>image_noisy[0:8,0:8]</code> و قطعه دوم <code>image_noisy[0:8,1:9]</code> می‌باشد. یعنی قطعات به صورت سطری جلو می‌روند. </li>\n",
    "  <li>\tبرای برداری‌سازی قطعات تصویر، سطرها را به صورت بردار عمودی در آورده و به ترتیب زیر هم قرار دهید تا یکی از ستون‌های ماتریس <code>dataset</code> را بسازد.</li>\n",
    "     <li> \tبرای پیاده‌سازی بهینه از تابع <code>extract_patches_2d</code> بهره ببرید. </li>\n",
    "</ul>\n",
    "</font> </div>"
   ]
  },
  {
   "cell_type": "code",
   "execution_count": null,
   "metadata": {
    "executionInfo": {
     "elapsed": 98,
     "status": "ok",
     "timestamp": 1659336089784,
     "user": {
      "displayName": "milad heidari",
      "userId": "01780670972758435893"
     },
     "user_tz": -270
    },
    "id": "ZssShm-iIDUu"
   },
   "outputs": [],
   "source": [
    "def create_dataset(image_noisy, p):\n",
    "    \n",
    "    dataset = extract_patches_2d(image_noisy, (p, p))\n",
    "    dataset = dataset.reshape(-1, p*p).T\n",
    "    \n",
    "    return dataset"
   ]
  },
  {
   "cell_type": "markdown",
   "metadata": {
    "id": "UpWuoX3tIDUu"
   },
   "source": [
    "## 2. Initialize dictionary\n",
    "\n",
    "<div dir=\"rtl\"> <font size=\"4\" face=\"HM XNiloofar\">\n",
    "    <b>\n",
    "   مقداردهی اولیه واژه‌نامه: \n",
    "    </b>\n",
    "    <br />\n",
    "مقداردهی اولیه واژه‌نامه از مراحلی است که می‌تواند کیفیت نویززدایی را تحت تاثیر قرار دهد. این واژه‌نامه می‌تواند با استفاده از DCT فوق کامل مقداردهی اولیه شود. در این تمرین به منظور ساده‌سازی همراه با سوالات تمرین یک واژه‌نامه نیز در اختیار شما قرار گرفته است که می‌توانید برای تست کار خود از آن استفاده نمایید. شما کافیست تابعی بنویسید که با دریافت آدرس واژه‌نامه، آن را لود کرده و در متغیر <code>init_dictionary</code> قرار داده و به خروجی بدهد. بنابراین ورودی این تابع عبارتست از:   \n",
    "<ul>\n",
    "  <li><code>address</code>:\t\tآدرس واژه‌نامه اولیه </li>\n",
    "</ul>\n",
    " خروجی این تابع عبارتست از:\n",
    "<ul>\n",
    "<li><code>init_dictionary</code>: \t\tواژه‌نامه اولیه </li>\n",
    "</ul>\n",
    "</font> </div>"
   ]
  },
  {
   "cell_type": "code",
   "execution_count": null,
   "metadata": {
    "executionInfo": {
     "elapsed": 96,
     "status": "ok",
     "timestamp": 1659336089785,
     "user": {
      "displayName": "milad heidari",
      "userId": "01780670972758435893"
     },
     "user_tz": -270
    },
    "id": "3fU6GJf8IDUv"
   },
   "outputs": [],
   "source": [
    "def create_init_dictionary(address):\n",
    "    \n",
    "    init_dictionary = np.load(address)\n",
    "    \n",
    "    return init_dictionary"
   ]
  },
  {
   "cell_type": "markdown",
   "metadata": {
    "id": "EvGxW7kUIDUw"
   },
   "source": [
    "## 3. Learn dictionary\n",
    "\n",
    "<div dir=\"rtl\"> <font size=\"4\" face=\"HM XNiloofar\">\n",
    "    <b>\n",
    "  یادگیری واژه‌نامه: \n",
    "    </b>\n",
    "    <br />در این بخش شما می‌بایست تابع <code>train_dictionary</code> را پیاده‌سازی نمایید. در گام نمایش تنک برای یک بردار دلخواه y_i از مجموعه آموزش می‌بایست نمایش تنک x_i را با حل مساله زیر به دست آورید:\n",
    " </font> </div>   \n",
    "    \n",
    "$$ x_i= \\text{argmin}_x ‖x‖_0    \\text{ subject to }   ‖y_i-Dx‖_2^2/l≤(\\text{sigma}×\\text{noise_gain})^2  $$\n",
    "\n",
    "<div dir=\"rtl\"> <font size=\"4\" face=\"HM XNiloofar\">\n",
    "    <br />\n",
    "که در رابطه فوق D ماتریس واژه‌نامه، <code>sigma</code> تخمین واریانس نویز گاوسی جمع‌شوند، <code>noise_gain</code> بهره نویز و l طول بردار y_i است.\n",
    "<br />   \n",
    "در این تابع برای گام نمایش تنک و به‌روزرسانی واژه‌نامه می‌بایست روش‌های مختلفی را پیاده‌سازی نمایید. برای گام نمایش تنک می‌بایست روش‌های زیر را پیاده‌سازی نمایید:\n",
    "<ul>\n",
    "  <li><code>MP</code>:\tروش جستجوی انطابق </li>\n",
    "  <li><code>OMP</code>:\tروش جستجوی انطابق متعامد </li>\n",
    "  <li><code>BOMP</code>: روش جستجوی انطابق متعامد دسته‌ای [2]</li>\n",
    "</ul>\n",
    "    برای گام به‌روزرسانی واژه‌نامه نیز می‌بایست دور روش زیر پیاده‌سازی شوند:\n",
    "<ul>\n",
    "  <li><code>AKSVD</code>:\t\tتقریب الگوریتم [2] KSVD  </li>\n",
    "  <li><code>MOD</code>:\t\tالگوریتم MOD </li>\n",
    "</ul>  \n",
    "    توجه: در الگوریتم <code>MOD</code> امکان دارد ماتریس XX^T معکوس‌پذیر نباشد. به منظور رفع این مشکل از تنظیم کننده تیخونوف استفاده نمایید و به جای معکوس‌گیری از XX^T  از ماتریس I+XX^T  معکوس بگیرید.\n",
    "<br />     \n",
    "    بنابراین ورودی‌های این تابع عبارتست از:\n",
    "<ul>\n",
    "  <li><code>init_dictionary</code>:\tواژه‌نامه اولیه </li>\n",
    "  <li><code>dataset</code>:\tپایگاه داده </li>\n",
    "  <li><code>iter_num</code>:\tتعداد تکرارهای یادگیری واژه‌نامه </li>\n",
    "  <li><code>sigma</code>:\tتخمین واریانس نویز </li>\n",
    "  <li><code>noise_gain</code>:\tبهره نویز </li>\n",
    "  <li><code>SC_method</code>:\tروش مورد استفاده برای نمایش تنک </li>\n",
    "  <li><code>DL_method</code>:\tروش مورد استفاده برای به‌روزرسانی واژه‌نامه </li>\n",
    "</ul>\n",
    " خروجی‌های این تابع عبارتست از:\n",
    "<ul>\n",
    "  <li><code>final_dictionary</code>:\t\tواژه‌نامه آموزش داده شده </li>\n",
    "  <li><code>X</code>:\t\tنمایش قطعات تصویر پایگاه داده در واژه‌نامه آموزش داده شده \n",
    "</ul>    \n",
    "</font> </div>    \n",
    "    \n",
    "[2] Rubinstein, R., Zibulevsky, M. and Elad, M., 2008. Efficient implementation of the K-SVD algorithm using batch orthogonal matching pursuit (No. CS Technion report CS-2008-08). Computer Science Department, Technion."
   ]
  },
  {
   "cell_type": "code",
   "execution_count": null,
   "metadata": {
    "executionInfo": {
     "elapsed": 99,
     "status": "ok",
     "timestamp": 1659336089790,
     "user": {
      "displayName": "milad heidari",
      "userId": "01780670972758435893"
     },
     "user_tz": -270
    },
    "id": "JffiLEqxIDUx"
   },
   "outputs": [],
   "source": [
    "def train_dictionary(init_dictionary, dataset, iter_num, sigma, noise_gain, SC_method, DL_method):\n",
    "    D = init_dictionary\n",
    "    Y = dataset\n",
    "    for iter in range(iter_num):\n",
    "        print('iter %d'%iter)\n",
    "        X = sparse_coding(D, Y, tol=sigma * noise_gain, SC_method=SC_method)\n",
    "        D, X = dictionary_update(D, Y, X, DL_method=DL_method)\n",
    "    final_dictionary = D\n",
    "    return (final_dictionary, X)\n",
    "\n",
    "\n",
    "def sparse_coding(D, Y, tol, SC_method):\n",
    "    if SC_method.upper() == 'MP':\n",
    "        X = MP(D, Y, tol)\n",
    "    elif SC_method.upper() == 'OMP':\n",
    "        X = OMP(D, Y, tol)\n",
    "    elif SC_method.upper() == 'BOMP':\n",
    "        X = BOMP(D, Y, tol)\n",
    "    return X\n",
    "\n",
    "\n",
    "def dictionary_update(D, Y, X, DL_method):\n",
    "    if DL_method.upper() == 'AKSVD':\n",
    "        D, X = AKSVD(D, Y, X)\n",
    "    elif DL_method.upper() == 'MOD':\n",
    "        D, X = MOD(D, Y, X)\n",
    "    return (D, X)\n",
    "\n",
    "def MP(D, Y, tol, col):\n",
    "    \n",
    "    # initialization\n",
    "    k, u = D.shape\n",
    "    _, n = Y.shape\n",
    "    \n",
    "    X = np.zeros((u, n))\n",
    "    R = Y.copy()\n",
    "    \n",
    "    for i in range(n):\n",
    "        num = 0\n",
    "        while (np.linalg.norm(R[:, i]) > tol):\n",
    "            E = ((D.T @ R[:, i]) / np.linalg.norm(D, axis=0))**2\n",
    "            J = np.argmax(E)\n",
    "            Z = np.sqrt(E[J])\n",
    "#             Z = (D[:, J].T @ R[:, i]) / (D[:, J].T @ D[:, J])\n",
    "            X[J, i] += Z\n",
    "            R[:, i] -= Z * D[:, J]\n",
    "            num += 1\n",
    "        print(print(f'tol: {tol}, num_columns: {num}'))\n",
    "            \n",
    "    return X\n",
    "\n",
    "\n",
    "def OMP(D, Y, tol):\n",
    "    \n",
    "    # TODO\n",
    "\n",
    "    return X\n",
    "\n",
    "\n",
    "def BOMP(D, Y, tol):\n",
    "    \n",
    "    # TODO\n",
    "    \n",
    "    return X\n",
    "\n",
    "\n",
    "def AKSVD(D, Y, X):\n",
    "    \n",
    "    # TODO\n",
    "    \n",
    "    return (D, X)\n",
    "\n",
    "\n",
    "def MOD(D, Y, X):\n",
    "    \n",
    "    k, u = D.shape\n",
    "    _, n = Y.shape\n",
    "    I = np.eye(u, u)\n",
    "    D = Y @ X.T @ np.linalg.pinv((X @ X.T + 0.1 * I))\n",
    "    \n",
    "    return (D, X)\n",
    "\n",
    " "
   ]
  },
  {
   "cell_type": "markdown",
   "metadata": {
    "id": "01_CyJC0IDUy"
   },
   "source": [
    "## 4. Reconstruct image\n",
    "\n",
    "<div dir=\"rtl\"> <font size=\"4\" face=\"HM XNiloofar\">\n",
    "    <b>\n",
    "بازسازی تصویر: \n",
    "    </b>\n",
    "    <br />\n",
    "    در قسمت قبل شما توانستید نمایش تمام قطعات تصویر در واژه‌نامه نهایی (<code>final_dictionary</code>) را به دست آورید. در این قسمت به‌جای هر قطعه از تصویر، بازسازی شده آن را جایگزین می‌نمایید. فرض کنید x_i نمایش یک قطعه برداری شده از تصویر در واژه‌نامه نهایی (D_f) باشد. در این صورت تخمین بدون نویز از آن قطعه برداری شده را می‌توان به صورت D_f x_i ساخت و با استفاده از عملیات معکوس برداری‌سازی (تبدیل بردارها به قطعات تصویر)، می‌توان تخمینی از قطعه تصویر بدون نویز به دست آورد. از آنجایی که شما تمام قطعات قابل استخراج از تصویر را در قسمت الف در نظر گرفتید، بنابراین هر پیکسل از تصویر در تعدادی از قطعات قرار می‌گیرد (پیکسل‌های مرکزی دقیقا در p^2 قطعه و پیکسل‌های حاشیه‌ای در کمتر از این مقدار قطعه تصویر حضور دارند). به منظور نویززدایی بهتر می‌توان متوسط تمام تخمین‌ها از یک پیکسل را در نظر گرفت. به عبارت دیگر یک ماتریس O و یک ماتریس C صفر در نظر بگیرید. حال هر یک از قطعات نویزدایی شده را با بخشی از ماتریس O که متناظر با آن است جمع نمایید. همزمان به بخش متناظر با قطعه تصویر در ماتریس C نیز یک واحد اضافه کنید. پس از قرار دادن تمام قطعات نویز زدایی شده، اگر ماتریس O را به صورت عنصر به عنصر بر ماتریس C تقسیم نمایید، خروجی مورد نظر به دست می‌آید. \n",
    "    <br />\n",
    "    روال فوق معمولا منجر به بایاس در تصویر حاصل می‌گردد. به منظور کاهش این بایاس نیز ضریبی از تصویر نویزی با خروجی حاصل از الگوریتم فوق ترکیب می‌شود. فرض کنید طبق روال فوق، O و C را به دست آورده‌اید. خروجی نهایی از رابطه زیر به دست خواهد آمد:\n",
    "    <center><code>image_denoised =  (O + m × image_noisy) / (C + m)</code></center>\n",
    "در این گام شما می‌بایست تابع بازسازی تصویر با نام <code>reconstruct_image</code> را پیاده‌سازی نمایید. این تابع ورودی‌های زیر را می‌پذیرد:\n",
    "<ul>\n",
    "  <li><code>final_dictionary</code>:\tواژه‌نامه آموزش داده شده </li>\n",
    "  <li><code>X</code>:   \tنمایش قطعات تصویر پایگاه داده در واژه‌نامه آموزش داده شده </li>\n",
    "  <li><code>image_noisy</code>:   \tتصویر نویزی با ابعاد r×c که هر مولفه آن عددی صحیحی در بازه [0,255] است و نوع آن <code>float32</code> است. </li>\n",
    "  <li><code>p</code>:  \tطول قطعات تصویر</li>\n",
    "   <li><code>m</code>:  \tثابت ترکیب تصویر نویزی</li>\n",
    "</ul>\n",
    " خروجی این تابع عبارتست از:\n",
    "<ul>\n",
    "<li><code>image_denoised</code>:\tتصویر نویززدایی شده با ابعاد r×c که هر مولفه آن عددی صحیحی در بازه [0,255] است و نوع آن <code>float32</code> است.</li>\n",
    "</ul>\n",
    "</font> </div>"
   ]
  },
  {
   "cell_type": "code",
   "execution_count": null,
   "metadata": {
    "executionInfo": {
     "elapsed": 100,
     "status": "ok",
     "timestamp": 1659336089793,
     "user": {
      "displayName": "milad heidari",
      "userId": "01780670972758435893"
     },
     "user_tz": -270
    },
    "id": "wfyz6DaJIDUz"
   },
   "outputs": [],
   "source": [
    "def reconstruct_image(final_dictionary, X, image_noisy, p, m):\n",
    "    \n",
    "    O = np.zeros(image_noisy.shape)\n",
    "    C = np.zeros(image_noisy.shape)\n",
    "    Y_hat = final_dictionary @ X\n",
    "    \n",
    "    k = 0\n",
    "    \n",
    "    r, c = image_noisy.shape\n",
    "    \n",
    "    for i in range(r-p+1):\n",
    "        for j in range(c-p+1):\n",
    "            O[i:i+p, j:j+p] += Y_hat[:, k].reshape(p, p)\n",
    "            C[i:i+p, j:j+p] += np.ones((p, p))\n",
    "            k += 1\n",
    "        \n",
    "    image_denoised = (O + m * image_noisy) / (C + m)\n",
    "    \n",
    "    return image_denoised"
   ]
  },
  {
   "cell_type": "markdown",
   "metadata": {
    "id": "sZPcZrrRIDUz"
   },
   "source": [
    "## 5. Evaluation\n",
    "\n",
    "<div dir=\"rtl\"> <font size=\"4\" face=\"HM XNiloofar\">\n",
    "حال  تمام ماژول‌های مورد نیاز برای ساخت سیستم نویززدایی را در اختیار دارید. تابع <code>DL_denoising</code> سیستم‌ فوق را یکپارچه می‌نماید و خروجی شما را می‌سازد.\n",
    "<br />    \n",
    "به منظور اینکه بتوانید پیاده‌سازی خود را چک نمایید، یک تصویر نویز پاک (<code>EE.png</code>) یک نمونه نویزی شده آن با انحراف معیار 20 (<code>EE_noisy.png</code>) و یک دیکشنری اولیه تصادفی (<code>random_dictionary_64_121.npy</code>) در اختیار شما قرار گرفته است. نتایج حاصل از نویززدایی این تصویر برای حالت‌های مختلف مختلف مشاهده کنید. در هر حالت ماتریس <code>D</code> و <code>X</code> خروجی را در Google Drive آپلود کنید. فایل‌ها را در حالت دسترسی عمومی قرار دهید. ID لینک هر فایل را در محل مربوطه بنویسید. با اجرای cell مربوطه باید هر شخصی بتواند فایل‌ها را دانلود و نتیجه نهایی را بازتولید کند.\n",
    " </font> </div>   "
   ]
  },
  {
   "cell_type": "code",
   "execution_count": null,
   "metadata": {
    "executionInfo": {
     "elapsed": 99,
     "status": "ok",
     "timestamp": 1659336089794,
     "user": {
      "displayName": "milad heidari",
      "userId": "01780670972758435893"
     },
     "user_tz": -270
    },
    "id": "QfLO4RUBIDU0"
   },
   "outputs": [],
   "source": [
    "def DL_denoising(address_image_noisy, address_init_dictionary, p, iter_num, sigma, noise_gain, SC_method, dl_method, m):\n",
    "    image_noisy = imageio.imread(address_image_noisy)[:, :].astype('float32')\n",
    "    dataset = create_dataset(image_noisy, p)\n",
    "    D = create_init_dictionary(address_init_dictionary)  \n",
    "    D, X = train_dictionary(D, dataset, iter_num, sigma, noise_gain, SC_method, dl_method)\n",
    "    image_denoised = reconstruct_image(D, X, image_noisy, p, m)\n",
    "    return (image_denoised, image_noisy, D, X)\n",
    "\n",
    "def Calculate_PSNR(image1, image2):\n",
    "    mse = np.sum((image1-image2)**2)/np.prod(image1.shape)\n",
    "    return 10*np.log10((255**2)/mse)"
   ]
  },
  {
   "cell_type": "code",
   "execution_count": null,
   "metadata": {
    "colab": {
     "base_uri": "https://localhost:8080/",
     "height": 304
    },
    "executionInfo": {
     "elapsed": 103,
     "status": "error",
     "timestamp": 1659336089800,
     "user": {
      "displayName": "milad heidari",
      "userId": "01780670972758435893"
     },
     "user_tz": -270
    },
    "id": "4OaKVsBbIDU1",
    "outputId": "5596f9ef-de27-45d4-b927-7e9e3758da01",
    "scrolled": false
   },
   "outputs": [],
   "source": [
    "image_denoised, image_noisy, D_MP_MOD, X_MP_MOD = DL_denoising('EE_noisy.png', 'random_dictionary_64_121.npy', p=8, iter_num=20, sigma=20, noise_gain=1.075, SC_method='MP', dl_method='MOD', m=0.5)\n",
    "np.save('D_MP_MOD', D_MP_MOD)\n",
    "np.save('X_MP_MOD', X_MP_MOD)\n",
    "\n",
    "# image_denoised, image_noisy, D_OMP_MOD, X_OMP_MOD = DL_denoising('EE_noisy.png', 'random_dictionary_64_121.npy', p=8, iter_num=20, sigma=20, noise_gain=1.075, SC_method='OMP', dl_method='MOD', m=0.5)\n",
    "# np.save('D_OMP_MOD', D_OMP_MOD)\n",
    "# np.save('X_OMP_MOD', X_OMP_MOD)\n",
    "\n",
    "# image_denoised, image_noisy, D_BOMP_MOD, X_BOMP_MOD = DL_denoising('EE_noisy.png', 'random_dictionary_64_121.npy', p=8, iter_num=20, sigma=20, noise_gain=1.075, SC_method='BOMP', dl_method='MOD', m=0.5)\n",
    "# np.save('D_BOMP_MOD', D_BOMP_MOD)\n",
    "# np.save('X_BOMP_MOD', X_BOMP_MOD)\n",
    "\n",
    "# image_denoised, image_noisy, D_MP_AKSVD, X_MP_AKSVD = DL_denoising('EE_noisy.png', 'random_dictionary_64_121.npy', p=8, iter_num=20, sigma=20, noise_gain=1.075, SC_method='MP', dl_method='AKSVD', m=0.5)\n",
    "# np.save('D_MP_AKSVD', D_MP_AKSVD)\n",
    "# np.save('X_MP_AKSVD', X_MP_AKSVD)\n",
    "\n",
    "# image_denoised, image_noisy, D_OMP_AKSVD, X_OMP_AKSVD = DL_denoising('EE_noisy.png', 'random_dictionary_64_121.npy', p=8, iter_num=20, sigma=20, noise_gain=1.075, SC_method='OMP', dl_method='AKSVD', m=0.5)\n",
    "# np.save('D_OMP_AKSVD', D_OMP_AKSVD)\n",
    "# np.save('X_OMP_AKSVD', X_OMP_AKSVD)\n",
    "\n",
    "# image_denoised, image_noisy, D_BOMP_AKSVD, X_BOMP_AKSVD = DL_denoising('EE_noisy.png', 'random_dictionary_64_121.npy', p=8, iter_num=20, sigma=20, noise_gain=1.075, SC_method='BOMP', dl_method='AKSVD', m=0.5)\n",
    "# np.save('D_BOMP_AKSVD', D_BOMP_AKSVD)\n",
    "# np.save('X_BOMP_AKSVD', X_BOMP_AKSVD)\n",
    "\n",
    "# # upload the saved files to Google Drive, then their access to 'Everyone with the link'. \n"
   ]
  },
  {
   "cell_type": "code",
   "execution_count": null,
   "metadata": {
    "executionInfo": {
     "elapsed": 86,
     "status": "aborted",
     "timestamp": 1659336089795,
     "user": {
      "displayName": "milad heidari",
      "userId": "01780670972758435893"
     },
     "user_tz": -270
    },
    "id": "8t19aUtzIDU2",
    "scrolled": false
   },
   "outputs": [],
   "source": [
    "plt.figure(figsize=(10,20))\n",
    "\n",
    "plt.subplot(4, 2, 1)\n",
    "plt.title('image_clean')\n",
    "plt.imshow(image_clean, cmap='gray')\n",
    "\n",
    "psnr = Calculate_PSNR(image_clean, image_noisy)\n",
    "print('\\n image_noisy')\n",
    "print(psnr)\n",
    "print(psnr >= 24)\n",
    "plt.subplot(4, 2, 2)\n",
    "plt.title('image_noisy ' + str(np.around(psnr, 3)))\n",
    "plt.imshow(image_noisy, cmap='gray')\n",
    "\n",
    "p = 8\n",
    "m = 0.5\n",
    "\n",
    "# --------------- MP_MOD --------------- #\n",
    "# download D\n",
    "!gdown # TODO\n",
    "# download X\n",
    "!gdown # TODO\n",
    "\n",
    "D = np.load('D_MP_MOD.npy')\n",
    "X = np.load('X_MP_MOD.npy')\n",
    "image_denoised = reconstruct_image(D, X, image_noisy, p, m)\n",
    "psnr = Calculate_PSNR(image_clean, image_denoised)\n",
    "print('\\n MP+MOD')\n",
    "print(psnr)\n",
    "print(psnr >= 24)\n",
    "plt.subplot(4, 2, 3)\n",
    "plt.title('MP+MOD ' + str(np.around(psnr, 3)))\n",
    "plt.imshow(image_denoised, cmap='gray')\n",
    "\n",
    "print(image_clean)\n",
    "print(image_denoised)\n",
    "\n",
    "# # --------------- OMP_MOD --------------- #\n",
    "# # download D\n",
    "# !gdown # TODO\n",
    "# # download X\n",
    "# !gdown # TODO\n",
    "\n",
    "# D = np.load('D_OMP_MOD.npy')\n",
    "# X = np.load('X_OMP_MOD.npy')\n",
    "# image_denoised = reconstruct_image(D, X, image_noisy, p, m)\n",
    "# psnr = Calculate_PSNR(image_clean, image_denoised)\n",
    "# print('\\n OMP+MOD')\n",
    "# print(psnr)\n",
    "# print(psnr >= 24)\n",
    "# plt.subplot(4, 2, 4)\n",
    "# plt.title('OMP+MOD ' + str(np.around(psnr, 3)))\n",
    "# plt.imshow(image_denoised, cmap='gray')\n",
    "\n",
    "# # --------------- BOMP_MOD --------------- #\n",
    "# # download D\n",
    "# !gdown # TODO\n",
    "# # download X\n",
    "# !gdown # TODO\n",
    "\n",
    "# D = np.load('D_BOMP_MOD.npy')\n",
    "# X = np.load('X_BOMP_MOD.npy')\n",
    "# image_denoised = reconstruct_image(D, X, image_noisy, p, m)\n",
    "# psnr = Calculate_PSNR(image_clean, image_denoised)\n",
    "# print('\\n BOMP+MOD')\n",
    "# print(psnr)\n",
    "# print(psnr >= 24)\n",
    "# plt.subplot(4, 2, 5)\n",
    "# plt.title('BOMP+MOD ' + str(np.around(psnr, 3)))\n",
    "# plt.imshow(image_denoised, cmap='gray')\n",
    "\n",
    "\n",
    "# # --------------- MP_AKSVD --------------- #\n",
    "# # download D\n",
    "# !gdown # TODO\n",
    "# # download X\n",
    "# !gdown # TODO\n",
    "\n",
    "# D = np.load('D_MP_AKSVD.npy')\n",
    "# X = np.load('X_MP_AKSVD.npy')\n",
    "# image_denoised = reconstruct_image(D, X, image_noisy, p, m)\n",
    "# psnr = Calculate_PSNR(image_clean, image_denoised)\n",
    "# print('\\n MP+AKSVD')\n",
    "# print(psnr)\n",
    "# print(psnr >= 24)\n",
    "# plt.subplot(4, 2, 6)\n",
    "# plt.title('MP+AKSVD ' + str(np.around(psnr, 3)))\n",
    "# plt.imshow(image_denoised, cmap='gray')\n",
    "\n",
    "# # --------------- OMP_AKSVD --------------- #\n",
    "# # download D\n",
    "# !gdown # TODO\n",
    "# # download X\n",
    "# !gdown # TODO\n",
    "\n",
    "# D = np.load('D_OMP_AKSVD.npy')\n",
    "# X = np.load('X_OMP_AKSVD.npy')\n",
    "# image_denoised = reconstruct_image(D, X, image_noisy, p, m)\n",
    "# psnr = Calculate_PSNR(image_clean, image_denoised)\n",
    "# print('\\n OMP+AKSVD')\n",
    "# print(psnr)\n",
    "# print(psnr >= 24)\n",
    "# plt.subplot(4, 2, 7)\n",
    "# plt.title('OMP+AKSVD ' + str(np.around(psnr, 3)))\n",
    "# plt.imshow(image_denoised, cmap='gray')\n",
    "\n",
    "# # --------------- BOMP_AKSVD --------------- #\n",
    "# # download D\n",
    "# !gdown # TODO\n",
    "# # download X\n",
    "# !gdown # TODO\n",
    "\n",
    "# D = np.load('D_BOMP_AKSVD.npy')\n",
    "# X = np.load('X_BOMP_AKSVD.npy')\n",
    "# image_denoised = reconstruct_image(D, X, image_noisy, p, m)\n",
    "# psnr = Calculate_PSNR(image_clean, image_denoised)\n",
    "# print('\\n BOMP+AKSVD')\n",
    "# print(psnr)\n",
    "# print(psnr >= 24)\n",
    "# plt.subplot(4, 2, 8)\n",
    "# plt.title('BOMP+AKSVD ' + str(np.around(psnr, 3)))\n",
    "# plt.imshow(image_denoised, cmap='gray')\n",
    "\n",
    "# plt.show()"
   ]
  },
  {
   "cell_type": "code",
   "execution_count": null,
   "metadata": {},
   "outputs": [],
   "source": [
    "fig = plt.figure(figsize=(15, 15))\n",
    "ax = fig.add_subplot(1, 1, 1)\n",
    "ax.imshow(image_denoised, cmap='gray')"
   ]
  },
  {
   "cell_type": "markdown",
   "metadata": {
    "id": "4yw14eXpIDU4"
   },
   "source": [
    "---"
   ]
  },
  {
   "cell_type": "markdown",
   "metadata": {
    "id": "rddaoNfWIDU5"
   },
   "source": [
    "# Give Us Feedback"
   ]
  },
  {
   "cell_type": "code",
   "execution_count": null,
   "metadata": {
    "executionInfo": {
     "elapsed": 87,
     "status": "aborted",
     "timestamp": 1659336089797,
     "user": {
      "displayName": "milad heidari",
      "userId": "01780670972758435893"
     },
     "user_tz": -270
    },
    "id": "5Oq6wmlAIDU5"
   },
   "outputs": [],
   "source": [
    "from ipywidgets import Label, IntSlider, Textarea, Button, Layout, HBox, VBox\n",
    "from IPython.display import clear_output\n",
    "\n",
    "IntSlider_list = {i:IntSlider(value=3, min=1, max=5) for i in range(5)}\n",
    "H1 = HBox([Label(\"How was the homework?\")])\n",
    "H2 = HBox([Label(\"Please rate the homework from 1 to 5 (lowest to highest).\")])\n",
    "H3 = HBox([Label(\"The assignment was instructive.\", layout=Layout(width=\"22%\")), IntSlider_list[0]])\n",
    "H4 = HBox([Label(\"It was not time consuming.\", layout=Layout(width=\"22%\")), IntSlider_list[1]])\n",
    "H5 = HBox([Label(\"The questions were clear.\", layout=Layout(width=\"22%\")), IntSlider_list[2]])\n",
    "H6 = HBox([Label(\"The homework was well organized.\", layout=Layout(width=\"22%\")), IntSlider_list[3]])\n",
    "H7 = HBox([Label(\"Finally, you had a good vibe!\", layout=Layout(width=\"22%\")), IntSlider_list[4]])\n",
    "textarea = Textarea(value='', placeholder='Any comments or suggestions', description='', disabled=False)\n",
    "button = Button(description='Submit', disabled=False, button_style='', tooltip='Click me', icon='paper-plane')\n",
    "H8 = HBox([textarea])\n",
    "H9 = HBox([button])\n",
    "\n",
    "def ff(button):\n",
    "    button.button_style = 'success'\n",
    "    score = sum([IntSlider_list[i].value for i in IntSlider_list]) / 5\n",
    "    x = round(score*4)/4\n",
    "    y = int(x) * '🌕' + ((x-int(x))==0 and not x==5) * '🌑' + ((x-int(x))==0.25) * '🌘' + ((x-int(x))==0.5) * '🌗' + ((x-int(x))==0.75) * '🌖' + (4-int(x)) * '🌑'\n",
    "    clear_output(wait=True)\n",
    "    display(VBox([H1, H2, H3, H4, H5, H6, H7, H8, H9]))\n",
    "    print(\"Thank you for your feedback! 😊\")\n",
    "    print(f\"Score: {y}\")\n",
    "    print(\"\\nFeedback:\",*[IntSlider_list[i].value for i in IntSlider_list])\n",
    "    print(textarea.value)\n",
    "\n",
    "button.on_click(ff)\n",
    "\n",
    "VBox([H1, H2, H3, H4, H5, H6, H7, H8, H9])"
   ]
  },
  {
   "cell_type": "code",
   "execution_count": null,
   "metadata": {
    "executionInfo": {
     "elapsed": 87,
     "status": "aborted",
     "timestamp": 1659336089798,
     "user": {
      "displayName": "milad heidari",
      "userId": "01780670972758435893"
     },
     "user_tz": -270
    },
    "id": "6eWMOys5IDU6"
   },
   "outputs": [],
   "source": [
    "# To export jupyter notebook to html, save your notebook and run this cell\n",
    "!jupyter nbconvert --to html PHW.ipynb"
   ]
  },
  {
   "cell_type": "code",
   "execution_count": null,
   "metadata": {
    "executionInfo": {
     "elapsed": 87,
     "status": "aborted",
     "timestamp": 1659336089799,
     "user": {
      "displayName": "milad heidari",
      "userId": "01780670972758435893"
     },
     "user_tz": -270
    },
    "id": "sZEr9MOEIDU7"
   },
   "outputs": [],
   "source": []
  }
 ],
 "metadata": {
  "colab": {
   "name": "PHW.ipynb",
   "provenance": []
  },
  "kernelspec": {
   "display_name": "Python 3 (ipykernel)",
   "language": "python",
   "name": "python3"
  },
  "language_info": {
   "codemirror_mode": {
    "name": "ipython",
    "version": 3
   },
   "file_extension": ".py",
   "mimetype": "text/x-python",
   "name": "python",
   "nbconvert_exporter": "python",
   "pygments_lexer": "ipython3",
   "version": "3.10.4"
  }
 },
 "nbformat": 4,
 "nbformat_minor": 1
}
